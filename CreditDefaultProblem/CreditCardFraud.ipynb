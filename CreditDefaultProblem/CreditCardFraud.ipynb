{
 "cells": [
  {
   "cell_type": "code",
   "execution_count": 1,
   "id": "e4c84e5b",
   "metadata": {},
   "outputs": [],
   "source": [
    "import pandas as pd\n",
    "import numpy as np\n",
    "import seaborn as sns\n",
    "from matplotlib import pyplot\n",
    "from imblearn.over_sampling import SMOTE\n",
    "from imblearn.under_sampling import RandomUnderSampler"
   ]
  },
  {
   "cell_type": "code",
   "execution_count": 2,
   "id": "3c81e65d",
   "metadata": {},
   "outputs": [],
   "source": [
    "import tensorflow as tf\n",
    "import keras\n",
    "import keras.backend as K\n",
    "from keras.callbacks import EarlyStopping, ModelCheckpoint\n",
    "from keras import models\n",
    "from keras import layers"
   ]
  },
  {
   "cell_type": "code",
   "execution_count": 3,
   "id": "8ef13bef",
   "metadata": {},
   "outputs": [],
   "source": [
    "# Ignore all warnings\n",
    "import warnings\n",
    "warnings.filterwarnings('ignore')\n",
    "warnings.filterwarnings(action='ignore')"
   ]
  },
  {
   "cell_type": "code",
   "execution_count": 5,
   "id": "bb8c395e",
   "metadata": {},
   "outputs": [],
   "source": [
    "df=pd.read_csv('cs-training.csv')"
   ]
  },
  {
   "cell_type": "code",
   "execution_count": 6,
   "id": "c2ab73c5",
   "metadata": {},
   "outputs": [
    {
     "data": {
      "text/html": [
       "<div>\n",
       "<style scoped>\n",
       "    .dataframe tbody tr th:only-of-type {\n",
       "        vertical-align: middle;\n",
       "    }\n",
       "\n",
       "    .dataframe tbody tr th {\n",
       "        vertical-align: top;\n",
       "    }\n",
       "\n",
       "    .dataframe thead th {\n",
       "        text-align: right;\n",
       "    }\n",
       "</style>\n",
       "<table border=\"1\" class=\"dataframe\">\n",
       "  <thead>\n",
       "    <tr style=\"text-align: right;\">\n",
       "      <th></th>\n",
       "      <th>Unnamed: 0</th>\n",
       "      <th>SeriousDlqin2yrs</th>\n",
       "      <th>RevolvingUtilizationOfUnsecuredLines</th>\n",
       "      <th>age</th>\n",
       "      <th>NumberOfTime30-59DaysPastDueNotWorse</th>\n",
       "      <th>DebtRatio</th>\n",
       "      <th>MonthlyIncome</th>\n",
       "      <th>NumberOfOpenCreditLinesAndLoans</th>\n",
       "      <th>NumberOfTimes90DaysLate</th>\n",
       "      <th>NumberRealEstateLoansOrLines</th>\n",
       "      <th>NumberOfTime60-89DaysPastDueNotWorse</th>\n",
       "      <th>NumberOfDependents</th>\n",
       "    </tr>\n",
       "  </thead>\n",
       "  <tbody>\n",
       "    <tr>\n",
       "      <th>0</th>\n",
       "      <td>1</td>\n",
       "      <td>1</td>\n",
       "      <td>0.766127</td>\n",
       "      <td>45</td>\n",
       "      <td>2</td>\n",
       "      <td>0.802982</td>\n",
       "      <td>9120.0</td>\n",
       "      <td>13</td>\n",
       "      <td>0</td>\n",
       "      <td>6</td>\n",
       "      <td>0</td>\n",
       "      <td>2.0</td>\n",
       "    </tr>\n",
       "    <tr>\n",
       "      <th>1</th>\n",
       "      <td>2</td>\n",
       "      <td>0</td>\n",
       "      <td>0.957151</td>\n",
       "      <td>40</td>\n",
       "      <td>0</td>\n",
       "      <td>0.121876</td>\n",
       "      <td>2600.0</td>\n",
       "      <td>4</td>\n",
       "      <td>0</td>\n",
       "      <td>0</td>\n",
       "      <td>0</td>\n",
       "      <td>1.0</td>\n",
       "    </tr>\n",
       "    <tr>\n",
       "      <th>2</th>\n",
       "      <td>3</td>\n",
       "      <td>0</td>\n",
       "      <td>0.658180</td>\n",
       "      <td>38</td>\n",
       "      <td>1</td>\n",
       "      <td>0.085113</td>\n",
       "      <td>3042.0</td>\n",
       "      <td>2</td>\n",
       "      <td>1</td>\n",
       "      <td>0</td>\n",
       "      <td>0</td>\n",
       "      <td>0.0</td>\n",
       "    </tr>\n",
       "    <tr>\n",
       "      <th>3</th>\n",
       "      <td>4</td>\n",
       "      <td>0</td>\n",
       "      <td>0.233810</td>\n",
       "      <td>30</td>\n",
       "      <td>0</td>\n",
       "      <td>0.036050</td>\n",
       "      <td>3300.0</td>\n",
       "      <td>5</td>\n",
       "      <td>0</td>\n",
       "      <td>0</td>\n",
       "      <td>0</td>\n",
       "      <td>0.0</td>\n",
       "    </tr>\n",
       "    <tr>\n",
       "      <th>4</th>\n",
       "      <td>5</td>\n",
       "      <td>0</td>\n",
       "      <td>0.907239</td>\n",
       "      <td>49</td>\n",
       "      <td>1</td>\n",
       "      <td>0.024926</td>\n",
       "      <td>63588.0</td>\n",
       "      <td>7</td>\n",
       "      <td>0</td>\n",
       "      <td>1</td>\n",
       "      <td>0</td>\n",
       "      <td>0.0</td>\n",
       "    </tr>\n",
       "  </tbody>\n",
       "</table>\n",
       "</div>"
      ],
      "text/plain": [
       "   Unnamed: 0  SeriousDlqin2yrs  RevolvingUtilizationOfUnsecuredLines  age  \\\n",
       "0           1                 1                              0.766127   45   \n",
       "1           2                 0                              0.957151   40   \n",
       "2           3                 0                              0.658180   38   \n",
       "3           4                 0                              0.233810   30   \n",
       "4           5                 0                              0.907239   49   \n",
       "\n",
       "   NumberOfTime30-59DaysPastDueNotWorse  DebtRatio  MonthlyIncome  \\\n",
       "0                                     2   0.802982         9120.0   \n",
       "1                                     0   0.121876         2600.0   \n",
       "2                                     1   0.085113         3042.0   \n",
       "3                                     0   0.036050         3300.0   \n",
       "4                                     1   0.024926        63588.0   \n",
       "\n",
       "   NumberOfOpenCreditLinesAndLoans  NumberOfTimes90DaysLate  \\\n",
       "0                               13                        0   \n",
       "1                                4                        0   \n",
       "2                                2                        1   \n",
       "3                                5                        0   \n",
       "4                                7                        0   \n",
       "\n",
       "   NumberRealEstateLoansOrLines  NumberOfTime60-89DaysPastDueNotWorse  \\\n",
       "0                             6                                     0   \n",
       "1                             0                                     0   \n",
       "2                             0                                     0   \n",
       "3                             0                                     0   \n",
       "4                             1                                     0   \n",
       "\n",
       "   NumberOfDependents  \n",
       "0                 2.0  \n",
       "1                 1.0  \n",
       "2                 0.0  \n",
       "3                 0.0  \n",
       "4                 0.0  "
      ]
     },
     "execution_count": 6,
     "metadata": {},
     "output_type": "execute_result"
    }
   ],
   "source": [
    "df.head()"
   ]
  },
  {
   "cell_type": "code",
   "execution_count": 7,
   "id": "179ee48c",
   "metadata": {},
   "outputs": [
    {
     "name": "stdout",
     "output_type": "stream",
     "text": [
      "<class 'pandas.core.frame.DataFrame'>\n",
      "RangeIndex: 150000 entries, 0 to 149999\n",
      "Data columns (total 12 columns):\n",
      " #   Column                                Non-Null Count   Dtype  \n",
      "---  ------                                --------------   -----  \n",
      " 0   Unnamed: 0                            150000 non-null  int64  \n",
      " 1   SeriousDlqin2yrs                      150000 non-null  int64  \n",
      " 2   RevolvingUtilizationOfUnsecuredLines  150000 non-null  float64\n",
      " 3   age                                   150000 non-null  int64  \n",
      " 4   NumberOfTime30-59DaysPastDueNotWorse  150000 non-null  int64  \n",
      " 5   DebtRatio                             150000 non-null  float64\n",
      " 6   MonthlyIncome                         120269 non-null  float64\n",
      " 7   NumberOfOpenCreditLinesAndLoans       150000 non-null  int64  \n",
      " 8   NumberOfTimes90DaysLate               150000 non-null  int64  \n",
      " 9   NumberRealEstateLoansOrLines          150000 non-null  int64  \n",
      " 10  NumberOfTime60-89DaysPastDueNotWorse  150000 non-null  int64  \n",
      " 11  NumberOfDependents                    146076 non-null  float64\n",
      "dtypes: float64(4), int64(8)\n",
      "memory usage: 13.7 MB\n"
     ]
    }
   ],
   "source": [
    "df.info()"
   ]
  },
  {
   "cell_type": "code",
   "execution_count": 8,
   "id": "3fd01a78",
   "metadata": {},
   "outputs": [
    {
     "data": {
      "text/plain": [
       "Unnamed: 0                                  0\n",
       "SeriousDlqin2yrs                            0\n",
       "RevolvingUtilizationOfUnsecuredLines        0\n",
       "age                                         0\n",
       "NumberOfTime30-59DaysPastDueNotWorse        0\n",
       "DebtRatio                                   0\n",
       "MonthlyIncome                           29731\n",
       "NumberOfOpenCreditLinesAndLoans             0\n",
       "NumberOfTimes90DaysLate                     0\n",
       "NumberRealEstateLoansOrLines                0\n",
       "NumberOfTime60-89DaysPastDueNotWorse        0\n",
       "NumberOfDependents                       3924\n",
       "dtype: int64"
      ]
     },
     "execution_count": 8,
     "metadata": {},
     "output_type": "execute_result"
    }
   ],
   "source": [
    "df.isna().sum()"
   ]
  },
  {
   "cell_type": "code",
   "execution_count": 9,
   "id": "d947bffc",
   "metadata": {},
   "outputs": [
    {
     "data": {
      "text/plain": [
       "Unnamed: 0                               0.00\n",
       "SeriousDlqin2yrs                         0.00\n",
       "RevolvingUtilizationOfUnsecuredLines     0.00\n",
       "age                                      0.00\n",
       "NumberOfTime30-59DaysPastDueNotWorse     0.00\n",
       "DebtRatio                                0.00\n",
       "MonthlyIncome                           19.82\n",
       "NumberOfOpenCreditLinesAndLoans          0.00\n",
       "NumberOfTimes90DaysLate                  0.00\n",
       "NumberRealEstateLoansOrLines             0.00\n",
       "NumberOfTime60-89DaysPastDueNotWorse     0.00\n",
       "NumberOfDependents                       2.62\n",
       "dtype: float64"
      ]
     },
     "execution_count": 9,
     "metadata": {},
     "output_type": "execute_result"
    }
   ],
   "source": [
    "round((df.isna().sum()/len(df))*100,2)"
   ]
  },
  {
   "cell_type": "code",
   "execution_count": 10,
   "id": "188a06e6",
   "metadata": {},
   "outputs": [],
   "source": [
    "df.rename(columns={'Unnamed: 0':'CustomerID'},inplace=True)"
   ]
  },
  {
   "cell_type": "code",
   "execution_count": 11,
   "id": "20016558",
   "metadata": {},
   "outputs": [
    {
     "data": {
      "text/plain": [
       "0    139974\n",
       "1     10026\n",
       "Name: SeriousDlqin2yrs, dtype: int64"
      ]
     },
     "execution_count": 11,
     "metadata": {},
     "output_type": "execute_result"
    }
   ],
   "source": [
    "df['SeriousDlqin2yrs'].value_counts()"
   ]
  },
  {
   "cell_type": "code",
   "execution_count": 12,
   "id": "678f1a21",
   "metadata": {},
   "outputs": [
    {
     "data": {
      "image/png": "[encoded data removed]",
      "text/plain": [
       "<Figure size 432x288 with 1 Axes>"
      ]
     },
     "metadata": {
      "needs_background": "light"
     },
     "output_type": "display_data"
    }
   ],
   "source": [
    "sns.countplot(df['SeriousDlqin2yrs'])\n",
    "pyplot.show()"
   ]
  },
  {
   "cell_type": "code",
   "execution_count": 13,
   "id": "5fb103e2",
   "metadata": {},
   "outputs": [
    {
     "data": {
      "text/html": [
       "<div>\n",
       "<style scoped>\n",
       "    .dataframe tbody tr th:only-of-type {\n",
       "        vertical-align: middle;\n",
       "    }\n",
       "\n",
       "    .dataframe tbody tr th {\n",
       "        vertical-align: top;\n",
       "    }\n",
       "\n",
       "    .dataframe thead th {\n",
       "        text-align: right;\n",
       "    }\n",
       "</style>\n",
       "<table border=\"1\" class=\"dataframe\">\n",
       "  <thead>\n",
       "    <tr style=\"text-align: right;\">\n",
       "      <th></th>\n",
       "      <th>CustomerID</th>\n",
       "      <th>SeriousDlqin2yrs</th>\n",
       "      <th>RevolvingUtilizationOfUnsecuredLines</th>\n",
       "      <th>age</th>\n",
       "      <th>NumberOfTime30-59DaysPastDueNotWorse</th>\n",
       "      <th>DebtRatio</th>\n",
       "      <th>MonthlyIncome</th>\n",
       "      <th>NumberOfOpenCreditLinesAndLoans</th>\n",
       "      <th>NumberOfTimes90DaysLate</th>\n",
       "      <th>NumberRealEstateLoansOrLines</th>\n",
       "      <th>NumberOfTime60-89DaysPastDueNotWorse</th>\n",
       "      <th>NumberOfDependents</th>\n",
       "    </tr>\n",
       "  </thead>\n",
       "  <tbody>\n",
       "    <tr>\n",
       "      <th>count</th>\n",
       "      <td>150000.000000</td>\n",
       "      <td>150000.000000</td>\n",
       "      <td>150000.000000</td>\n",
       "      <td>150000.000000</td>\n",
       "      <td>150000.000000</td>\n",
       "      <td>150000.000000</td>\n",
       "      <td>1.202690e+05</td>\n",
       "      <td>150000.000000</td>\n",
       "      <td>150000.000000</td>\n",
       "      <td>150000.000000</td>\n",
       "      <td>150000.000000</td>\n",
       "      <td>146076.000000</td>\n",
       "    </tr>\n",
       "    <tr>\n",
       "      <th>mean</th>\n",
       "      <td>75000.500000</td>\n",
       "      <td>0.066840</td>\n",
       "      <td>6.048438</td>\n",
       "      <td>52.295207</td>\n",
       "      <td>0.421033</td>\n",
       "      <td>353.005076</td>\n",
       "      <td>6.670221e+03</td>\n",
       "      <td>8.452760</td>\n",
       "      <td>0.265973</td>\n",
       "      <td>1.018240</td>\n",
       "      <td>0.240387</td>\n",
       "      <td>0.757222</td>\n",
       "    </tr>\n",
       "    <tr>\n",
       "      <th>std</th>\n",
       "      <td>43301.414527</td>\n",
       "      <td>0.249746</td>\n",
       "      <td>249.755371</td>\n",
       "      <td>14.771866</td>\n",
       "      <td>4.192781</td>\n",
       "      <td>2037.818523</td>\n",
       "      <td>1.438467e+04</td>\n",
       "      <td>5.145951</td>\n",
       "      <td>4.169304</td>\n",
       "      <td>1.129771</td>\n",
       "      <td>4.155179</td>\n",
       "      <td>1.115086</td>\n",
       "    </tr>\n",
       "    <tr>\n",
       "      <th>min</th>\n",
       "      <td>1.000000</td>\n",
       "      <td>0.000000</td>\n",
       "      <td>0.000000</td>\n",
       "      <td>0.000000</td>\n",
       "      <td>0.000000</td>\n",
       "      <td>0.000000</td>\n",
       "      <td>0.000000e+00</td>\n",
       "      <td>0.000000</td>\n",
       "      <td>0.000000</td>\n",
       "      <td>0.000000</td>\n",
       "      <td>0.000000</td>\n",
       "      <td>0.000000</td>\n",
       "    </tr>\n",
       "    <tr>\n",
       "      <th>25%</th>\n",
       "      <td>37500.750000</td>\n",
       "      <td>0.000000</td>\n",
       "      <td>0.029867</td>\n",
       "      <td>41.000000</td>\n",
       "      <td>0.000000</td>\n",
       "      <td>0.175074</td>\n",
       "      <td>3.400000e+03</td>\n",
       "      <td>5.000000</td>\n",
       "      <td>0.000000</td>\n",
       "      <td>0.000000</td>\n",
       "      <td>0.000000</td>\n",
       "      <td>0.000000</td>\n",
       "    </tr>\n",
       "    <tr>\n",
       "      <th>50%</th>\n",
       "      <td>75000.500000</td>\n",
       "      <td>0.000000</td>\n",
       "      <td>0.154181</td>\n",
       "      <td>52.000000</td>\n",
       "      <td>0.000000</td>\n",
       "      <td>0.366508</td>\n",
       "      <td>5.400000e+03</td>\n",
       "      <td>8.000000</td>\n",
       "      <td>0.000000</td>\n",
       "      <td>1.000000</td>\n",
       "      <td>0.000000</td>\n",
       "      <td>0.000000</td>\n",
       "    </tr>\n",
       "    <tr>\n",
       "      <th>75%</th>\n",
       "      <td>112500.250000</td>\n",
       "      <td>0.000000</td>\n",
       "      <td>0.559046</td>\n",
       "      <td>63.000000</td>\n",
       "      <td>0.000000</td>\n",
       "      <td>0.868254</td>\n",
       "      <td>8.249000e+03</td>\n",
       "      <td>11.000000</td>\n",
       "      <td>0.000000</td>\n",
       "      <td>2.000000</td>\n",
       "      <td>0.000000</td>\n",
       "      <td>1.000000</td>\n",
       "    </tr>\n",
       "    <tr>\n",
       "      <th>max</th>\n",
       "      <td>150000.000000</td>\n",
       "      <td>1.000000</td>\n",
       "      <td>50708.000000</td>\n",
       "      <td>109.000000</td>\n",
       "      <td>98.000000</td>\n",
       "      <td>329664.000000</td>\n",
       "      <td>3.008750e+06</td>\n",
       "      <td>58.000000</td>\n",
       "      <td>98.000000</td>\n",
       "      <td>54.000000</td>\n",
       "      <td>98.000000</td>\n",
       "      <td>20.000000</td>\n",
       "    </tr>\n",
       "  </tbody>\n",
       "</table>\n",
       "</div>"
      ],
      "text/plain": [
       "          CustomerID  SeriousDlqin2yrs  RevolvingUtilizationOfUnsecuredLines  \\\n",
       "count  150000.000000     150000.000000                         150000.000000   \n",
       "mean    75000.500000          0.066840                              6.048438   \n",
       "std     43301.414527          0.249746                            249.755371   \n",
       "min         1.000000          0.000000                              0.000000   \n",
       "25%     37500.750000          0.000000                              0.029867   \n",
       "50%     75000.500000          0.000000                              0.154181   \n",
       "75%    112500.250000          0.000000                              0.559046   \n",
       "max    150000.000000          1.000000                          50708.000000   \n",
       "\n",
       "                 age  NumberOfTime30-59DaysPastDueNotWorse      DebtRatio  \\\n",
       "count  150000.000000                         150000.000000  150000.000000   \n",
       "mean       52.295207                              0.421033     353.005076   \n",
       "std        14.771866                              4.192781    2037.818523   \n",
       "min         0.000000                              0.000000       0.000000   \n",
       "25%        41.000000                              0.000000       0.175074   \n",
       "50%        52.000000                              0.000000       0.366508   \n",
       "75%        63.000000                              0.000000       0.868254   \n",
       "max       109.000000                             98.000000  329664.000000   \n",
       "\n",
       "       MonthlyIncome  NumberOfOpenCreditLinesAndLoans  \\\n",
       "count   1.202690e+05                    150000.000000   \n",
       "mean    6.670221e+03                         8.452760   \n",
       "std     1.438467e+04                         5.145951   \n",
       "min     0.000000e+00                         0.000000   \n",
       "25%     3.400000e+03                         5.000000   \n",
       "50%     5.400000e+03                         8.000000   \n",
       "75%     8.249000e+03                        11.000000   \n",
       "max     3.008750e+06                        58.000000   \n",
       "\n",
       "       NumberOfTimes90DaysLate  NumberRealEstateLoansOrLines  \\\n",
       "count            150000.000000                 150000.000000   \n",
       "mean                  0.265973                      1.018240   \n",
       "std                   4.169304                      1.129771   \n",
       "min                   0.000000                      0.000000   \n",
       "25%                   0.000000                      0.000000   \n",
       "50%                   0.000000                      1.000000   \n",
       "75%                   0.000000                      2.000000   \n",
       "max                  98.000000                     54.000000   \n",
       "\n",
       "       NumberOfTime60-89DaysPastDueNotWorse  NumberOfDependents  \n",
       "count                         150000.000000       146076.000000  \n",
       "mean                               0.240387            0.757222  \n",
       "std                                4.155179            1.115086  \n",
       "min                                0.000000            0.000000  \n",
       "25%                                0.000000            0.000000  \n",
       "50%                                0.000000            0.000000  \n",
       "75%                                0.000000            1.000000  \n",
       "max                               98.000000           20.000000  "
      ]
     },
     "execution_count": 13,
     "metadata": {},
     "output_type": "execute_result"
    }
   ],
   "source": [
    "df.describe()"
   ]
  },
  {
   "cell_type": "code",
   "execution_count": 14,
   "id": "2ce16ca0",
   "metadata": {},
   "outputs": [],
   "source": [
    "data = df.drop(columns = ['SeriousDlqin2yrs'], axis=1)"
   ]
  },
  {
   "cell_type": "code",
   "execution_count": 15,
   "id": "7eb74db2",
   "metadata": {},
   "outputs": [],
   "source": [
    "y=df['SeriousDlqin2yrs']"
   ]
  },
  {
   "cell_type": "code",
   "execution_count": 16,
   "id": "ea6b0273",
   "metadata": {},
   "outputs": [],
   "source": [
    "from sklearn.model_selection import train_test_split"
   ]
  },
  {
   "cell_type": "code",
   "execution_count": 17,
   "id": "190a3735",
   "metadata": {},
   "outputs": [
    {
     "data": {
      "text/plain": [
       "((30000, 11), (120000, 11))"
      ]
     },
     "execution_count": 17,
     "metadata": {},
     "output_type": "execute_result"
    }
   ],
   "source": [
    "# Splitting the dataset into train and test validation\n",
    "df_test, df_train, y_test, y_train = train_test_split(data, y, test_size = 0.8, random_state=42, stratify = y)\n",
    "df_test.shape, df_train.shape"
   ]
  },
  {
   "cell_type": "code",
   "execution_count": 18,
   "id": "50708a6c",
   "metadata": {},
   "outputs": [
    {
     "name": "stdout",
     "output_type": "stream",
     "text": [
      "Event rate in the training dataset :  0.06684166666666666\n",
      "\n",
      "Event rate in the test dataset :  0.06683333333333333\n",
      "\n",
      "Event rate in the entire dataset :  0.06684\n"
     ]
    }
   ],
   "source": [
    "print('Event rate in the training dataset : ',np.mean(y_train))\n",
    "print()\n",
    "print('Event rate in the test dataset : ',np.mean(y_test))\n",
    "print()\n",
    "print('Event rate in the entire dataset : ',np.mean(y))"
   ]
  },
  {
   "cell_type": "code",
   "execution_count": 19,
   "id": "54872046",
   "metadata": {},
   "outputs": [
    {
     "data": {
      "text/plain": [
       "(120000, 12)"
      ]
     },
     "execution_count": 19,
     "metadata": {},
     "output_type": "execute_result"
    }
   ],
   "source": [
    "train = pd.concat([df_train, y_train], axis=1)\n",
    "train.shape"
   ]
  },
  {
   "cell_type": "code",
   "execution_count": 20,
   "id": "bbf1a752",
   "metadata": {},
   "outputs": [
    {
     "data": {
      "text/plain": [
       "(30000, 12)"
      ]
     },
     "execution_count": 20,
     "metadata": {},
     "output_type": "execute_result"
    }
   ],
   "source": [
    "test = pd.concat([df_test, y_test], axis=1)\n",
    "test.shape"
   ]
  },
  {
   "cell_type": "code",
   "execution_count": 22,
   "id": "32a05346",
   "metadata": {},
   "outputs": [],
   "source": [
    "import math\n",
    "from scipy.stats import kurtosis\n",
    "from scipy import stats, special\n",
    "from scipy.stats import skew"
   ]
  },
  {
   "cell_type": "code",
   "execution_count": 23,
   "id": "a1c721be",
   "metadata": {},
   "outputs": [],
   "source": [
    "cols_for_stats = ['RevolvingUtilizationOfUnsecuredLines', 'age',\n",
    "       'NumberOfTime30-59DaysPastDueNotWorse', 'DebtRatio', 'MonthlyIncome',\n",
    "       'NumberOfOpenCreditLinesAndLoans', 'NumberOfTimes90DaysLate',\n",
    "       'NumberRealEstateLoansOrLines', 'NumberOfTime60-89DaysPastDueNotWorse',\n",
    "       'NumberOfDependents']"
   ]
  },
  {
   "cell_type": "code",
   "execution_count": 24,
   "id": "37a7a995",
   "metadata": {},
   "outputs": [
    {
     "data": {
      "text/html": [
       "<div>\n",
       "<style scoped>\n",
       "    .dataframe tbody tr th:only-of-type {\n",
       "        vertical-align: middle;\n",
       "    }\n",
       "\n",
       "    .dataframe tbody tr th {\n",
       "        vertical-align: top;\n",
       "    }\n",
       "\n",
       "    .dataframe thead th {\n",
       "        text-align: right;\n",
       "    }\n",
       "</style>\n",
       "<table border=\"1\" class=\"dataframe\">\n",
       "  <thead>\n",
       "    <tr style=\"text-align: right;\">\n",
       "      <th></th>\n",
       "      <th>Skewness</th>\n",
       "      <th>Kurtosis</th>\n",
       "    </tr>\n",
       "  </thead>\n",
       "  <tbody>\n",
       "    <tr>\n",
       "      <th>MonthlyIncome</th>\n",
       "      <td>117.980201</td>\n",
       "      <td>19658.712451</td>\n",
       "    </tr>\n",
       "    <tr>\n",
       "      <th>RevolvingUtilizationOfUnsecuredLines</th>\n",
       "      <td>104.513836</td>\n",
       "      <td>16544.639126</td>\n",
       "    </tr>\n",
       "    <tr>\n",
       "      <th>DebtRatio</th>\n",
       "      <td>95.788453</td>\n",
       "      <td>14212.893907</td>\n",
       "    </tr>\n",
       "    <tr>\n",
       "      <th>NumberOfTime60-89DaysPastDueNotWorse</th>\n",
       "      <td>23.287570</td>\n",
       "      <td>543.612129</td>\n",
       "    </tr>\n",
       "    <tr>\n",
       "      <th>NumberOfTimes90DaysLate</th>\n",
       "      <td>23.037155</td>\n",
       "      <td>535.491834</td>\n",
       "    </tr>\n",
       "    <tr>\n",
       "      <th>NumberOfTime30-59DaysPastDueNotWorse</th>\n",
       "      <td>22.560050</td>\n",
       "      <td>520.586140</td>\n",
       "    </tr>\n",
       "    <tr>\n",
       "      <th>NumberRealEstateLoansOrLines</th>\n",
       "      <td>3.635466</td>\n",
       "      <td>67.793802</td>\n",
       "    </tr>\n",
       "    <tr>\n",
       "      <th>NumberOfDependents</th>\n",
       "      <td>1.599150</td>\n",
       "      <td>3.168142</td>\n",
       "    </tr>\n",
       "    <tr>\n",
       "      <th>NumberOfOpenCreditLinesAndLoans</th>\n",
       "      <td>1.214590</td>\n",
       "      <td>3.114686</td>\n",
       "    </tr>\n",
       "    <tr>\n",
       "      <th>age</th>\n",
       "      <td>0.188338</td>\n",
       "      <td>-0.498984</td>\n",
       "    </tr>\n",
       "  </tbody>\n",
       "</table>\n",
       "</div>"
      ],
      "text/plain": [
       "                                        Skewness      Kurtosis\n",
       "MonthlyIncome                         117.980201  19658.712451\n",
       "RevolvingUtilizationOfUnsecuredLines  104.513836  16544.639126\n",
       "DebtRatio                              95.788453  14212.893907\n",
       "NumberOfTime60-89DaysPastDueNotWorse   23.287570    543.612129\n",
       "NumberOfTimes90DaysLate                23.037155    535.491834\n",
       "NumberOfTime30-59DaysPastDueNotWorse   22.560050    520.586140\n",
       "NumberRealEstateLoansOrLines            3.635466     67.793802\n",
       "NumberOfDependents                      1.599150      3.168142\n",
       "NumberOfOpenCreditLinesAndLoans         1.214590      3.114686\n",
       "age                                     0.188338     -0.498984"
      ]
     },
     "execution_count": 24,
     "metadata": {},
     "output_type": "execute_result"
    }
   ],
   "source": [
    "skewness  = [] ; kurt = []\n",
    "for column in cols_for_stats:\n",
    "    skewness.append(skew(train[train[column].notnull()][column]))\n",
    "    kurt.append(kurtosis(train[train[column].notnull()][column]))\n",
    "    \n",
    "stats = pd.DataFrame({'Skewness' : skewness, 'Kurtosis' : kurt},index=[col for col in cols_for_stats])\n",
    "stats.sort_values(by=['Skewness'], ascending=False)"
   ]
  },
  {
   "cell_type": "code",
   "execution_count": null,
   "id": "346f0210",
   "metadata": {},
   "outputs": [],
   "source": []
  },
  {
   "cell_type": "code",
   "execution_count": 25,
   "id": "d944c9c6",
   "metadata": {},
   "outputs": [
    {
     "name": "stdout",
     "output_type": "stream",
     "text": [
      "Unique values in '30-59 Days' values that are more than or equal to 90: [96 98]\n"
     ]
    }
   ],
   "source": [
    "print(\"Unique values in '30-59 Days' values that are more than or equal to 90:\",np.unique(train[train['NumberOfTime30-59DaysPastDueNotWorse']>=90]\n",
    "                                                                                          ['NumberOfTime30-59DaysPastDueNotWorse']))\n"
   ]
  },
  {
   "cell_type": "code",
   "execution_count": 26,
   "id": "b1f36480",
   "metadata": {},
   "outputs": [
    {
     "name": "stdout",
     "output_type": "stream",
     "text": [
      "Unique values in '60-89 Days' when '30-59 Days' values are more than or equal to 90: [96 98]\n",
      "Unique values in '90 Days' when '30-59 Days' values are more than or equal to 90: [96 98]\n",
      "Unique values in '30-59 Days' values that are less than 90: [ 0  1  2  3  4  5  6  7  8  9 10 11 12]\n",
      "Unique values in '60-89 Days' when '30-59 Days' values are less than 90: [ 0  1  2  3  4  5  6  7  8  9 11]\n",
      "Unique values in '90 Days' when '30-59 Days' values are less than 90: [ 0  1  2  3  4  5  6  7  8  9 10 11 12 13 14 17]\n",
      "Proportion of positive class with special 96/98 values: 55.56 %\n"
     ]
    }
   ],
   "source": [
    "print(\"Unique values in '60-89 Days' when '30-59 Days' values are more than or equal to 90:\",np.unique(train[train['NumberOfTime30-59DaysPastDueNotWorse']>=90]\n",
    "                                                                                                       ['NumberOfTime60-89DaysPastDueNotWorse']))\n",
    "\n",
    "\n",
    "print(\"Unique values in '90 Days' when '30-59 Days' values are more than or equal to 90:\",np.unique(train[train['NumberOfTime30-59DaysPastDueNotWorse']>=90]\n",
    "                                                                                                    ['NumberOfTimes90DaysLate']))\n",
    "\n",
    "\n",
    "print(\"Unique values in '30-59 Days' values that are less than 90:\",np.unique(train[train['NumberOfTime30-59DaysPastDueNotWorse']<90]\n",
    "                                                                                          ['NumberOfTime30-59DaysPastDueNotWorse']))\n",
    "\n",
    "\n",
    "print(\"Unique values in '60-89 Days' when '30-59 Days' values are less than 90:\",np.unique(train[train['NumberOfTime30-59DaysPastDueNotWorse']<90]\n",
    "                                                                                           ['NumberOfTime60-89DaysPastDueNotWorse']))\n",
    "\n",
    "\n",
    "print(\"Unique values in '90 Days' when '30-59 Days' values are less than 90:\",np.unique(train[train['NumberOfTime30-59DaysPastDueNotWorse']<90]\n",
    "                                                                                        ['NumberOfTimes90DaysLate']))\n",
    "\n",
    "\n",
    "print(\"Proportion of positive class with special 96/98 values:\",\n",
    "      round(train[train['NumberOfTime30-59DaysPastDueNotWorse']>=90]['SeriousDlqin2yrs'].sum()*100/\n",
    "      len(train[train['NumberOfTime30-59DaysPastDueNotWorse']>=90]['SeriousDlqin2yrs']),2),'%')"
   ]
  },
  {
   "cell_type": "code",
   "execution_count": 27,
   "id": "6ec7cefb",
   "metadata": {},
   "outputs": [],
   "source": [
    "train.loc[train['NumberOfTime30-59DaysPastDueNotWorse'] >= 90, 'NumberOfTime30-59DaysPastDueNotWorse'] = 12\n",
    "train.loc[train['NumberOfTime60-89DaysPastDueNotWorse'] >= 90, 'NumberOfTime60-89DaysPastDueNotWorse'] = 11\n",
    "train.loc[train['NumberOfTimes90DaysLate'] >= 90, 'NumberOfTimes90DaysLate'] = 17"
   ]
  },
  {
   "cell_type": "code",
   "execution_count": 28,
   "id": "aca513a5",
   "metadata": {},
   "outputs": [
    {
     "name": "stdout",
     "output_type": "stream",
     "text": [
      "Unique values in '30-59 Days' values that are more than or equal to 90: [98]\n",
      "Unique values in '60-89 Days' when '30-59 Days' values are more than or equal to 90: [98]\n",
      "Unique values in '90 Days' when '30-59 Days' values are more than or equal to 90: [98]\n",
      "Unique values in '30-59 Days' values that are less than 90: [ 0  1  2  3  4  5  6  7  8  9 10 12 13]\n",
      "Unique values in '60-89 Days' when '30-59 Days' values are less than 90: [0 1 2 3 4 5 6 7]\n",
      "Unique values in '90 Days' when '30-59 Days' values are less than 90: [ 0  1  2  3  4  5  6  7  8  9 10 11 15]\n"
     ]
    }
   ],
   "source": [
    "print(\"Unique values in '30-59 Days' values that are more than or equal to 90:\",np.unique(test[test['NumberOfTime30-59DaysPastDueNotWorse']>=90]\n",
    "                                                                                          ['NumberOfTime30-59DaysPastDueNotWorse']))\n",
    "\n",
    "\n",
    "print(\"Unique values in '60-89 Days' when '30-59 Days' values are more than or equal to 90:\",np.unique(test[test['NumberOfTime30-59DaysPastDueNotWorse']>=90]\n",
    "                                                                                                       ['NumberOfTime60-89DaysPastDueNotWorse']))\n",
    "\n",
    "\n",
    "print(\"Unique values in '90 Days' when '30-59 Days' values are more than or equal to 90:\",np.unique(test[test['NumberOfTime30-59DaysPastDueNotWorse']>=90]\n",
    "                                                                                                    ['NumberOfTimes90DaysLate']))\n",
    "\n",
    "\n",
    "print(\"Unique values in '30-59 Days' values that are less than 90:\",np.unique(test[test['NumberOfTime30-59DaysPastDueNotWorse']<90]\n",
    "                                                                                          ['NumberOfTime30-59DaysPastDueNotWorse']))\n",
    "\n",
    "\n",
    "print(\"Unique values in '60-89 Days' when '30-59 Days' values are less than 90:\",np.unique(test[test['NumberOfTime30-59DaysPastDueNotWorse']<90]\n",
    "                                                                                           ['NumberOfTime60-89DaysPastDueNotWorse']))\n",
    "\n",
    "\n",
    "print(\"Unique values in '90 Days' when '30-59 Days' values are less than 90:\",np.unique(test[test['NumberOfTime30-59DaysPastDueNotWorse']<90]\n",
    "                                                                                        ['NumberOfTimes90DaysLate']))\n"
   ]
  },
  {
   "cell_type": "code",
   "execution_count": 29,
   "id": "ad55564a",
   "metadata": {},
   "outputs": [],
   "source": [
    "test.loc[test['NumberOfTime30-59DaysPastDueNotWorse'] >= 90, 'NumberOfTime30-59DaysPastDueNotWorse'] = 13\n",
    "test.loc[test['NumberOfTime60-89DaysPastDueNotWorse'] >= 90, 'NumberOfTime60-89DaysPastDueNotWorse'] = 7\n",
    "test.loc[test['NumberOfTimes90DaysLate'] >= 90, 'NumberOfTimes90DaysLate'] = 15"
   ]
  },
  {
   "cell_type": "code",
   "execution_count": 30,
   "id": "679a66cd",
   "metadata": {},
   "outputs": [
    {
     "data": {
      "text/html": [
       "<div>\n",
       "<style scoped>\n",
       "    .dataframe tbody tr th:only-of-type {\n",
       "        vertical-align: middle;\n",
       "    }\n",
       "\n",
       "    .dataframe tbody tr th {\n",
       "        vertical-align: top;\n",
       "    }\n",
       "\n",
       "    .dataframe thead th {\n",
       "        text-align: right;\n",
       "    }\n",
       "</style>\n",
       "<table border=\"1\" class=\"dataframe\">\n",
       "  <thead>\n",
       "    <tr style=\"text-align: right;\">\n",
       "      <th></th>\n",
       "      <th>SeriousDlqin2yrs</th>\n",
       "      <th>MonthlyIncome</th>\n",
       "    </tr>\n",
       "  </thead>\n",
       "  <tbody>\n",
       "    <tr>\n",
       "      <th>count</th>\n",
       "      <td>6002.000000</td>\n",
       "      <td>308.000000</td>\n",
       "    </tr>\n",
       "    <tr>\n",
       "      <th>mean</th>\n",
       "      <td>0.054315</td>\n",
       "      <td>0.077922</td>\n",
       "    </tr>\n",
       "    <tr>\n",
       "      <th>std</th>\n",
       "      <td>0.226658</td>\n",
       "      <td>0.268485</td>\n",
       "    </tr>\n",
       "    <tr>\n",
       "      <th>min</th>\n",
       "      <td>0.000000</td>\n",
       "      <td>0.000000</td>\n",
       "    </tr>\n",
       "    <tr>\n",
       "      <th>25%</th>\n",
       "      <td>0.000000</td>\n",
       "      <td>0.000000</td>\n",
       "    </tr>\n",
       "    <tr>\n",
       "      <th>50%</th>\n",
       "      <td>0.000000</td>\n",
       "      <td>0.000000</td>\n",
       "    </tr>\n",
       "    <tr>\n",
       "      <th>75%</th>\n",
       "      <td>0.000000</td>\n",
       "      <td>0.000000</td>\n",
       "    </tr>\n",
       "    <tr>\n",
       "      <th>max</th>\n",
       "      <td>1.000000</td>\n",
       "      <td>1.000000</td>\n",
       "    </tr>\n",
       "  </tbody>\n",
       "</table>\n",
       "</div>"
      ],
      "text/plain": [
       "       SeriousDlqin2yrs  MonthlyIncome\n",
       "count       6002.000000     308.000000\n",
       "mean           0.054315       0.077922\n",
       "std            0.226658       0.268485\n",
       "min            0.000000       0.000000\n",
       "25%            0.000000       0.000000\n",
       "50%            0.000000       0.000000\n",
       "75%            0.000000       0.000000\n",
       "max            1.000000       1.000000"
      ]
     },
     "execution_count": 30,
     "metadata": {},
     "output_type": "execute_result"
    }
   ],
   "source": [
    "train[train['DebtRatio'] >= train['DebtRatio'].quantile(0.95)][['SeriousDlqin2yrs','MonthlyIncome']].describe()"
   ]
  },
  {
   "cell_type": "code",
   "execution_count": 31,
   "id": "c25f6f44",
   "metadata": {},
   "outputs": [
    {
     "data": {
      "text/plain": [
       "271"
      ]
     },
     "execution_count": 31,
     "metadata": {},
     "output_type": "execute_result"
    }
   ],
   "source": [
    "train[(train[\"DebtRatio\"] > train[\"DebtRatio\"].quantile(0.95)) & (train['SeriousDlqin2yrs'] == train['MonthlyIncome'])].shape[0]"
   ]
  },
  {
   "cell_type": "code",
   "execution_count": 32,
   "id": "60899d40",
   "metadata": {},
   "outputs": [
    {
     "data": {
      "text/plain": [
       "(119729, 12)"
      ]
     },
     "execution_count": 32,
     "metadata": {},
     "output_type": "execute_result"
    }
   ],
   "source": [
    "new_train = train[-((train[\"DebtRatio\"] > train[\"DebtRatio\"].quantile(0.95)) & (train['SeriousDlqin2yrs'] == train['MonthlyIncome']))]\n",
    "new_train.shape"
   ]
  },
  {
   "cell_type": "code",
   "execution_count": 33,
   "id": "13b9ba63",
   "metadata": {},
   "outputs": [
    {
     "data": {
      "text/html": [
       "<div>\n",
       "<style scoped>\n",
       "    .dataframe tbody tr th:only-of-type {\n",
       "        vertical-align: middle;\n",
       "    }\n",
       "\n",
       "    .dataframe tbody tr th {\n",
       "        vertical-align: top;\n",
       "    }\n",
       "\n",
       "    .dataframe thead th {\n",
       "        text-align: right;\n",
       "    }\n",
       "</style>\n",
       "<table border=\"1\" class=\"dataframe\">\n",
       "  <thead>\n",
       "    <tr style=\"text-align: right;\">\n",
       "      <th></th>\n",
       "      <th>CustomerID</th>\n",
       "      <th>RevolvingUtilizationOfUnsecuredLines</th>\n",
       "      <th>age</th>\n",
       "      <th>NumberOfTime30-59DaysPastDueNotWorse</th>\n",
       "      <th>DebtRatio</th>\n",
       "      <th>MonthlyIncome</th>\n",
       "      <th>NumberOfOpenCreditLinesAndLoans</th>\n",
       "      <th>NumberOfTimes90DaysLate</th>\n",
       "      <th>NumberRealEstateLoansOrLines</th>\n",
       "      <th>NumberOfTime60-89DaysPastDueNotWorse</th>\n",
       "      <th>NumberOfDependents</th>\n",
       "      <th>SeriousDlqin2yrs</th>\n",
       "    </tr>\n",
       "  </thead>\n",
       "  <tbody>\n",
       "    <tr>\n",
       "      <th>count</th>\n",
       "      <td>187.000000</td>\n",
       "      <td>187.000000</td>\n",
       "      <td>187.000000</td>\n",
       "      <td>187.000000</td>\n",
       "      <td>187.000000</td>\n",
       "      <td>133.000000</td>\n",
       "      <td>187.000000</td>\n",
       "      <td>187.000000</td>\n",
       "      <td>187.000000</td>\n",
       "      <td>187.000000</td>\n",
       "      <td>179.000000</td>\n",
       "      <td>187.000000</td>\n",
       "    </tr>\n",
       "    <tr>\n",
       "      <th>mean</th>\n",
       "      <td>78422.989305</td>\n",
       "      <td>3634.411136</td>\n",
       "      <td>50.989305</td>\n",
       "      <td>0.176471</td>\n",
       "      <td>522.932048</td>\n",
       "      <td>9020.067669</td>\n",
       "      <td>5.614973</td>\n",
       "      <td>0.080214</td>\n",
       "      <td>1.208556</td>\n",
       "      <td>0.080214</td>\n",
       "      <td>0.687151</td>\n",
       "      <td>0.048128</td>\n",
       "    </tr>\n",
       "    <tr>\n",
       "      <th>std</th>\n",
       "      <td>40921.820372</td>\n",
       "      <td>5247.138619</td>\n",
       "      <td>14.651136</td>\n",
       "      <td>0.544654</td>\n",
       "      <td>1205.632700</td>\n",
       "      <td>7156.622316</td>\n",
       "      <td>3.100709</td>\n",
       "      <td>0.646732</td>\n",
       "      <td>1.094626</td>\n",
       "      <td>0.603737</td>\n",
       "      <td>1.045269</td>\n",
       "      <td>0.214612</td>\n",
       "    </tr>\n",
       "    <tr>\n",
       "      <th>min</th>\n",
       "      <td>294.000000</td>\n",
       "      <td>14.000000</td>\n",
       "      <td>24.000000</td>\n",
       "      <td>0.000000</td>\n",
       "      <td>0.000800</td>\n",
       "      <td>0.000000</td>\n",
       "      <td>1.000000</td>\n",
       "      <td>0.000000</td>\n",
       "      <td>0.000000</td>\n",
       "      <td>0.000000</td>\n",
       "      <td>0.000000</td>\n",
       "      <td>0.000000</td>\n",
       "    </tr>\n",
       "    <tr>\n",
       "      <th>25%</th>\n",
       "      <td>44759.500000</td>\n",
       "      <td>953.000000</td>\n",
       "      <td>39.000000</td>\n",
       "      <td>0.000000</td>\n",
       "      <td>0.217823</td>\n",
       "      <td>5000.000000</td>\n",
       "      <td>4.000000</td>\n",
       "      <td>0.000000</td>\n",
       "      <td>1.000000</td>\n",
       "      <td>0.000000</td>\n",
       "      <td>0.000000</td>\n",
       "      <td>0.000000</td>\n",
       "    </tr>\n",
       "    <tr>\n",
       "      <th>50%</th>\n",
       "      <td>80200.000000</td>\n",
       "      <td>2120.000000</td>\n",
       "      <td>49.000000</td>\n",
       "      <td>0.000000</td>\n",
       "      <td>0.381491</td>\n",
       "      <td>7083.000000</td>\n",
       "      <td>5.000000</td>\n",
       "      <td>0.000000</td>\n",
       "      <td>1.000000</td>\n",
       "      <td>0.000000</td>\n",
       "      <td>0.000000</td>\n",
       "      <td>0.000000</td>\n",
       "    </tr>\n",
       "    <tr>\n",
       "      <th>75%</th>\n",
       "      <td>113817.000000</td>\n",
       "      <td>4240.000000</td>\n",
       "      <td>63.000000</td>\n",
       "      <td>0.000000</td>\n",
       "      <td>90.000000</td>\n",
       "      <td>10575.000000</td>\n",
       "      <td>7.000000</td>\n",
       "      <td>0.000000</td>\n",
       "      <td>2.000000</td>\n",
       "      <td>0.000000</td>\n",
       "      <td>1.000000</td>\n",
       "      <td>0.000000</td>\n",
       "    </tr>\n",
       "    <tr>\n",
       "      <th>max</th>\n",
       "      <td>149161.000000</td>\n",
       "      <td>50708.000000</td>\n",
       "      <td>87.000000</td>\n",
       "      <td>3.000000</td>\n",
       "      <td>6820.000000</td>\n",
       "      <td>44472.000000</td>\n",
       "      <td>21.000000</td>\n",
       "      <td>8.000000</td>\n",
       "      <td>9.000000</td>\n",
       "      <td>7.000000</td>\n",
       "      <td>4.000000</td>\n",
       "      <td>1.000000</td>\n",
       "    </tr>\n",
       "  </tbody>\n",
       "</table>\n",
       "</div>"
      ],
      "text/plain": [
       "          CustomerID  RevolvingUtilizationOfUnsecuredLines         age  \\\n",
       "count     187.000000                            187.000000  187.000000   \n",
       "mean    78422.989305                           3634.411136   50.989305   \n",
       "std     40921.820372                           5247.138619   14.651136   \n",
       "min       294.000000                             14.000000   24.000000   \n",
       "25%     44759.500000                            953.000000   39.000000   \n",
       "50%     80200.000000                           2120.000000   49.000000   \n",
       "75%    113817.000000                           4240.000000   63.000000   \n",
       "max    149161.000000                          50708.000000   87.000000   \n",
       "\n",
       "       NumberOfTime30-59DaysPastDueNotWorse    DebtRatio  MonthlyIncome  \\\n",
       "count                            187.000000   187.000000     133.000000   \n",
       "mean                               0.176471   522.932048    9020.067669   \n",
       "std                                0.544654  1205.632700    7156.622316   \n",
       "min                                0.000000     0.000800       0.000000   \n",
       "25%                                0.000000     0.217823    5000.000000   \n",
       "50%                                0.000000     0.381491    7083.000000   \n",
       "75%                                0.000000    90.000000   10575.000000   \n",
       "max                                3.000000  6820.000000   44472.000000   \n",
       "\n",
       "       NumberOfOpenCreditLinesAndLoans  NumberOfTimes90DaysLate  \\\n",
       "count                       187.000000               187.000000   \n",
       "mean                          5.614973                 0.080214   \n",
       "std                           3.100709                 0.646732   \n",
       "min                           1.000000                 0.000000   \n",
       "25%                           4.000000                 0.000000   \n",
       "50%                           5.000000                 0.000000   \n",
       "75%                           7.000000                 0.000000   \n",
       "max                          21.000000                 8.000000   \n",
       "\n",
       "       NumberRealEstateLoansOrLines  NumberOfTime60-89DaysPastDueNotWorse  \\\n",
       "count                    187.000000                            187.000000   \n",
       "mean                       1.208556                              0.080214   \n",
       "std                        1.094626                              0.603737   \n",
       "min                        0.000000                              0.000000   \n",
       "25%                        1.000000                              0.000000   \n",
       "50%                        1.000000                              0.000000   \n",
       "75%                        2.000000                              0.000000   \n",
       "max                        9.000000                              7.000000   \n",
       "\n",
       "       NumberOfDependents  SeriousDlqin2yrs  \n",
       "count          179.000000        187.000000  \n",
       "mean             0.687151          0.048128  \n",
       "std              1.045269          0.214612  \n",
       "min              0.000000          0.000000  \n",
       "25%              0.000000          0.000000  \n",
       "50%              0.000000          0.000000  \n",
       "75%              1.000000          0.000000  \n",
       "max              4.000000          1.000000  "
      ]
     },
     "execution_count": 33,
     "metadata": {},
     "output_type": "execute_result"
    }
   ],
   "source": [
    "new_train[new_train['RevolvingUtilizationOfUnsecuredLines']>10].describe()"
   ]
  },
  {
   "cell_type": "code",
   "execution_count": 34,
   "id": "fe652b38",
   "metadata": {},
   "outputs": [
    {
     "data": {
      "text/plain": [
       "(119542, 12)"
      ]
     },
     "execution_count": 34,
     "metadata": {},
     "output_type": "execute_result"
    }
   ],
   "source": [
    "new_train = new_train[new_train['RevolvingUtilizationOfUnsecuredLines']<=10]\n",
    "new_train.shape"
   ]
  },
  {
   "cell_type": "code",
   "execution_count": 35,
   "id": "9327a71e",
   "metadata": {},
   "outputs": [
    {
     "data": {
      "text/plain": [
       "(29946, 12)"
      ]
     },
     "execution_count": 35,
     "metadata": {},
     "output_type": "execute_result"
    }
   ],
   "source": [
    "new_test = test[test['RevolvingUtilizationOfUnsecuredLines']<=10]\n",
    "new_test.shape"
   ]
  },
  {
   "cell_type": "code",
   "execution_count": 36,
   "id": "5b4fb93f",
   "metadata": {},
   "outputs": [],
   "source": [
    "new_train.loc[new_train['age'] == 0, 'age'] = new_train.age.mode()[0]"
   ]
  },
  {
   "cell_type": "code",
   "execution_count": 37,
   "id": "7498ff84",
   "metadata": {},
   "outputs": [],
   "source": [
    "#Missing values\n",
    "new_train['MonthlyIncome'].fillna(new_train['MonthlyIncome'].median(), inplace=True)\n",
    "new_train['NumberOfDependents'].fillna(0, inplace = True)"
   ]
  },
  {
   "cell_type": "code",
   "execution_count": 38,
   "id": "38fd5b9a",
   "metadata": {},
   "outputs": [],
   "source": [
    "new_test['MonthlyIncome'].fillna(new_test['MonthlyIncome'].median(), inplace=True)\n",
    "new_test['NumberOfDependents'].fillna(0, inplace = True)"
   ]
  },
  {
   "cell_type": "code",
   "execution_count": 39,
   "id": "d148d431",
   "metadata": {},
   "outputs": [],
   "source": [
    "import matplotlib.pyplot as plt"
   ]
  },
  {
   "cell_type": "code",
   "execution_count": 41,
   "id": "d4caefea",
   "metadata": {},
   "outputs": [
    {
     "data": {
      "image/png": "[encoded data removed]",
      "text/plain": [
       "<Figure size 720x432 with 2 Axes>"
      ]
     },
     "metadata": {
      "needs_background": "light"
     },
     "output_type": "display_data"
    }
   ],
   "source": [
    "plt.figure(figsize=(10,6))\n",
    "sns.heatmap(new_train.corr(), annot=True, cmap=plt.cm.CMRmap_r)\n",
    "plt.show()"
   ]
  },
  {
   "cell_type": "code",
   "execution_count": 42,
   "id": "5251f1ed",
   "metadata": {},
   "outputs": [
    {
     "data": {
      "text/plain": [
       "<AxesSubplot:xlabel='SeriousDlqin2yrs', ylabel='age'>"
      ]
     },
     "execution_count": 42,
     "metadata": {},
     "output_type": "execute_result"
    },
    {
     "data": {
      "image/png": "[encoded data removed]",
      "text/plain": [
       "<Figure size 432x288 with 1 Axes>"
      ]
     },
     "metadata": {
      "needs_background": "light"
     },
     "output_type": "display_data"
    }
   ],
   "source": [
    "figsize=(12,5)\n",
    "sns.boxplot(x=new_train['SeriousDlqin2yrs'], y=new_train['age'], data=new_train, palette='Set3')"
   ]
  },
  {
   "cell_type": "code",
   "execution_count": 43,
   "id": "7ce64a86",
   "metadata": {},
   "outputs": [],
   "source": [
    "dataset = [new_train, new_test]"
   ]
  },
  {
   "cell_type": "code",
   "execution_count": 44,
   "id": "b4df2987",
   "metadata": {},
   "outputs": [
    {
     "data": {
      "text/plain": [
       "Index(['CustomerID', 'RevolvingUtilizationOfUnsecuredLines', 'age',\n",
       "       'NumberOfTime30-59DaysPastDueNotWorse', 'DebtRatio', 'MonthlyIncome',\n",
       "       'NumberOfOpenCreditLinesAndLoans', 'NumberOfTimes90DaysLate',\n",
       "       'NumberRealEstateLoansOrLines', 'NumberOfTime60-89DaysPastDueNotWorse',\n",
       "       'NumberOfDependents', 'SeriousDlqin2yrs', 'CombinedPastDue',\n",
       "       'CombinedCreditLoans'],\n",
       "      dtype='object')"
      ]
     },
     "execution_count": 44,
     "metadata": {},
     "output_type": "execute_result"
    }
   ],
   "source": [
    "for data in dataset:\n",
    "    \n",
    "    data['CombinedPastDue']     = data['NumberOfTime30-59DaysPastDueNotWorse'] + data['NumberOfTime60-89DaysPastDueNotWorse'] + data['NumberOfTimes90DaysLate']\n",
    "    data['CombinedCreditLoans'] = data['NumberOfOpenCreditLinesAndLoans'] + data['NumberRealEstateLoansOrLines']\n",
    "    \n",
    "new_train.columns "
   ]
  },
  {
   "cell_type": "code",
   "execution_count": 45,
   "id": "1f6bb05c",
   "metadata": {},
   "outputs": [],
   "source": [
    "df_train = new_train.drop(columns=['CustomerID', 'SeriousDlqin2yrs'],axis=1)\n",
    "y_train = new_train['SeriousDlqin2yrs']\n",
    "\n",
    "df_test = new_test.drop(columns=['CustomerID', 'SeriousDlqin2yrs'],axis=1)\n",
    "y_test = new_test['SeriousDlqin2yrs']"
   ]
  },
  {
   "cell_type": "code",
   "execution_count": 46,
   "id": "b245e47b",
   "metadata": {},
   "outputs": [],
   "source": [
    "smote = SMOTE(sampling_strategy = 'not majority',k_neighbors = 2,random_state=42)\n",
    "\n",
    "os_data_X,os_data_y=smote.fit_resample(df_train,y_train)"
   ]
  },
  {
   "cell_type": "code",
   "execution_count": 47,
   "id": "0c856ec3",
   "metadata": {},
   "outputs": [],
   "source": [
    "os_data_X_tranformed  = os_data_X.copy()\n",
    "df_test_transformed   = df_test.copy()"
   ]
  },
  {
   "cell_type": "code",
   "execution_count": 48,
   "id": "b4c92a39",
   "metadata": {},
   "outputs": [],
   "source": [
    "df_test_standaradized = df_test.copy()\n",
    "df_test_standaradized = df_test.copy()"
   ]
  },
  {
   "cell_type": "code",
   "execution_count": 49,
   "id": "12669585",
   "metadata": {},
   "outputs": [],
   "source": [
    "df_test_standaradized = df_test.copy()"
   ]
  },
  {
   "cell_type": "code",
   "execution_count": 50,
   "id": "b123e037",
   "metadata": {},
   "outputs": [],
   "source": [
    "#Scaling features\n",
    "def SkewMeasure(df):\n",
    "    nonObjectColList = df.dtypes[df.dtypes != 'object'].index\n",
    "    skewM = df[nonObjectColList].apply(lambda x: skew(x.dropna())).sort_values(ascending = False)\n",
    "    skewM=pd.DataFrame({'skew':skewM})\n",
    "    return skewM[abs(skewM)>0.5].dropna()"
   ]
  },
  {
   "cell_type": "code",
   "execution_count": 48,
   "id": "7c43def2",
   "metadata": {
    "scrolled": true
   },
   "outputs": [
    {
     "data": {
      "text/html": [
       "<div>\n",
       "<style scoped>\n",
       "    .dataframe tbody tr th:only-of-type {\n",
       "        vertical-align: middle;\n",
       "    }\n",
       "\n",
       "    .dataframe tbody tr th {\n",
       "        vertical-align: top;\n",
       "    }\n",
       "\n",
       "    .dataframe thead th {\n",
       "        text-align: right;\n",
       "    }\n",
       "</style>\n",
       "<table border=\"1\" class=\"dataframe\">\n",
       "  <thead>\n",
       "    <tr style=\"text-align: right;\">\n",
       "      <th></th>\n",
       "      <th>skew</th>\n",
       "    </tr>\n",
       "  </thead>\n",
       "  <tbody>\n",
       "    <tr>\n",
       "      <th>MonthlyIncome</th>\n",
       "      <td>146.401574</td>\n",
       "    </tr>\n",
       "    <tr>\n",
       "      <th>DebtRatio</th>\n",
       "      <td>86.601523</td>\n",
       "    </tr>\n",
       "    <tr>\n",
       "      <th>NumberOfTime60-89DaysPastDueNotWorse</th>\n",
       "      <td>9.172486</td>\n",
       "    </tr>\n",
       "    <tr>\n",
       "      <th>NumberOfTimes90DaysLate</th>\n",
       "      <td>8.653148</td>\n",
       "    </tr>\n",
       "    <tr>\n",
       "      <th>CombinedPastDue</th>\n",
       "      <td>8.605207</td>\n",
       "    </tr>\n",
       "    <tr>\n",
       "      <th>NumberOfTime30-59DaysPastDueNotWorse</th>\n",
       "      <td>5.421219</td>\n",
       "    </tr>\n",
       "    <tr>\n",
       "      <th>NumberRealEstateLoansOrLines</th>\n",
       "      <td>3.713625</td>\n",
       "    </tr>\n",
       "    <tr>\n",
       "      <th>NumberOfDependents</th>\n",
       "      <td>1.418078</td>\n",
       "    </tr>\n",
       "    <tr>\n",
       "      <th>CombinedCreditLoans</th>\n",
       "      <td>1.077590</td>\n",
       "    </tr>\n",
       "    <tr>\n",
       "      <th>NumberOfOpenCreditLinesAndLoans</th>\n",
       "      <td>1.067504</td>\n",
       "    </tr>\n",
       "    <tr>\n",
       "      <th>RevolvingUtilizationOfUnsecuredLines</th>\n",
       "      <td>0.685206</td>\n",
       "    </tr>\n",
       "  </tbody>\n",
       "</table>\n",
       "</div>"
      ],
      "text/plain": [
       "                                            skew\n",
       "MonthlyIncome                         146.401574\n",
       "DebtRatio                              86.601523\n",
       "NumberOfTime60-89DaysPastDueNotWorse    9.172486\n",
       "NumberOfTimes90DaysLate                 8.653148\n",
       "CombinedPastDue                         8.605207\n",
       "NumberOfTime30-59DaysPastDueNotWorse    5.421219\n",
       "NumberRealEstateLoansOrLines            3.713625\n",
       "NumberOfDependents                      1.418078\n",
       "CombinedCreditLoans                     1.077590\n",
       "NumberOfOpenCreditLinesAndLoans         1.067504\n",
       "RevolvingUtilizationOfUnsecuredLines    0.685206"
      ]
     },
     "execution_count": 48,
     "metadata": {},
     "output_type": "execute_result"
    }
   ],
   "source": [
    "SkewMeasure(os_data_X_tranformed)"
   ]
  },
  {
   "cell_type": "code",
   "execution_count": 51,
   "id": "764df1fc",
   "metadata": {},
   "outputs": [
    {
     "data": {
      "text/html": [
       "<div>\n",
       "<style scoped>\n",
       "    .dataframe tbody tr th:only-of-type {\n",
       "        vertical-align: middle;\n",
       "    }\n",
       "\n",
       "    .dataframe tbody tr th {\n",
       "        vertical-align: top;\n",
       "    }\n",
       "\n",
       "    .dataframe thead th {\n",
       "        text-align: right;\n",
       "    }\n",
       "</style>\n",
       "<table border=\"1\" class=\"dataframe\">\n",
       "  <thead>\n",
       "    <tr style=\"text-align: right;\">\n",
       "      <th></th>\n",
       "      <th>skew</th>\n",
       "    </tr>\n",
       "  </thead>\n",
       "  <tbody>\n",
       "    <tr>\n",
       "      <th>NumberOfTime60-89DaysPastDueNotWorse</th>\n",
       "      <td>5.025761</td>\n",
       "    </tr>\n",
       "    <tr>\n",
       "      <th>NumberOfTimes90DaysLate</th>\n",
       "      <td>4.059306</td>\n",
       "    </tr>\n",
       "    <tr>\n",
       "      <th>NumberOfTime30-59DaysPastDueNotWorse</th>\n",
       "      <td>2.213646</td>\n",
       "    </tr>\n",
       "    <tr>\n",
       "      <th>DebtRatio</th>\n",
       "      <td>2.097084</td>\n",
       "    </tr>\n",
       "    <tr>\n",
       "      <th>CombinedPastDue</th>\n",
       "      <td>2.015936</td>\n",
       "    </tr>\n",
       "    <tr>\n",
       "      <th>NumberOfDependents</th>\n",
       "      <td>0.728470</td>\n",
       "    </tr>\n",
       "    <tr>\n",
       "      <th>NumberRealEstateLoansOrLines</th>\n",
       "      <td>0.693423</td>\n",
       "    </tr>\n",
       "    <tr>\n",
       "      <th>NumberOfOpenCreditLinesAndLoans</th>\n",
       "      <td>-0.527371</td>\n",
       "    </tr>\n",
       "    <tr>\n",
       "      <th>CombinedCreditLoans</th>\n",
       "      <td>-0.577565</td>\n",
       "    </tr>\n",
       "    <tr>\n",
       "      <th>MonthlyIncome</th>\n",
       "      <td>-1.927368</td>\n",
       "    </tr>\n",
       "  </tbody>\n",
       "</table>\n",
       "</div>"
      ],
      "text/plain": [
       "                                          skew\n",
       "NumberOfTime60-89DaysPastDueNotWorse  5.025761\n",
       "NumberOfTimes90DaysLate               4.059306\n",
       "NumberOfTime30-59DaysPastDueNotWorse  2.213646\n",
       "DebtRatio                             2.097084\n",
       "CombinedPastDue                       2.015936\n",
       "NumberOfDependents                    0.728470\n",
       "NumberRealEstateLoansOrLines          0.693423\n",
       "NumberOfOpenCreditLinesAndLoans      -0.527371\n",
       "CombinedCreditLoans                  -0.577565\n",
       "MonthlyIncome                        -1.927368"
      ]
     },
     "execution_count": 51,
     "metadata": {},
     "output_type": "execute_result"
    }
   ],
   "source": [
    "skewM = SkewMeasure(os_data_X_tranformed)\n",
    "\n",
    "for i in skewM.index:\n",
    "    os_data_X_tranformed[i] = special.boxcox1p(os_data_X_tranformed[i],0.15) #lambda = 0.15\n",
    "    df_test_transformed[i]  = special.boxcox1p(df_test_transformed[i],0.15) #lambda = 0.15\n",
    "SkewMeasure(os_data_X_tranformed)"
   ]
  },
  {
   "cell_type": "code",
   "execution_count": 52,
   "id": "6b8fdd2e",
   "metadata": {},
   "outputs": [],
   "source": [
    "df_train_transformed = df_train.copy()\n",
    "\n",
    "skewM = SkewMeasure(df_train)\n",
    "\n",
    "for i in skewM.index:\n",
    "    df_train_transformed[i] = special.boxcox1p(df_train_transformed[i],0.15) #lambda = 0.15"
   ]
  },
  {
   "cell_type": "code",
   "execution_count": 53,
   "id": "4e71e307",
   "metadata": {},
   "outputs": [],
   "source": [
    "from sklearn.preprocessing import StandardScaler\n",
    "scaler = StandardScaler().fit(os_data_X)\n",
    "\n",
    "X_train_scaled = scaler.transform(os_data_X) \n",
    "X_test_scaled = scaler.transform(df_test)"
   ]
  },
  {
   "cell_type": "code",
   "execution_count": null,
   "id": "bae86def",
   "metadata": {},
   "outputs": [],
   "source": [
    "#Modelling"
   ]
  },
  {
   "cell_type": "code",
   "execution_count": 54,
   "id": "af011dc7",
   "metadata": {},
   "outputs": [],
   "source": [
    "# custom metrics\n",
    "def precision(y_true, y_pred): \n",
    "    true_positives = K.sum(K.round(K.clip(y_true * y_pred, 0, 1)))\n",
    "    predicted_positives = K.sum(K.round(K.clip(y_pred, 0, 1)))\n",
    "    precision = true_positives / (predicted_positives + K.epsilon())\n",
    "    return precision\n",
    "def recall(y_true, y_pred): \n",
    "    true_positives = K.sum(K.round(K.clip(y_true * y_pred, 0, 1)))\n",
    "    possible_positives = K.sum(K.round(K.clip(y_true, 0, 1)))\n",
    "    recall = true_positives / (possible_positives + K.epsilon())\n",
    "    return recall"
   ]
  },
  {
   "cell_type": "code",
   "execution_count": 55,
   "id": "27a34c6a",
   "metadata": {},
   "outputs": [],
   "source": [
    "def fit_model(data, labels, test_data,test_label, epochs, batch_size):\n",
    "    \n",
    "    n_inputs = data.shape[1]\n",
    "    model    = keras.Sequential()\n",
    "    model.add(layers.Dense(16, activation ='relu', input_shape =(n_inputs, )))\n",
    "    model.add(layers.Dropout(0.25))\n",
    "    model.add(layers.Dense(32,activation = 'relu'))\n",
    "    model.add(layers.Dropout(0.25))\n",
    "    model.add(layers.Dense(1,activation ='sigmoid'))\n",
    "    \n",
    "    model_file_name = 'MLP_predict_default_case_study.hdf5'\n",
    "    ckpt = ModelCheckpoint(model_file_name, monitor='val_precision',\n",
    "                           save_best_only=True, mode='max')\n",
    "    early = EarlyStopping(monitor=\"val_recall\", mode=\"max\", patience=15)\n",
    "\n",
    "    model.compile(optimizer = 'adam',\n",
    "                 loss= 'binary_crossentropy',\n",
    "                 metrics = [precision,recall])\n",
    "    \n",
    "    history = model.fit(data,\n",
    "                       labels,\n",
    "                       epochs=epochs,\n",
    "                       batch_size=batch_size,\n",
    "                       callbacks=[ckpt, early],\n",
    "                       validation_data=(test_data,test_label))\n",
    "    \n",
    "    return model"
   ]
  },
  {
   "cell_type": "code",
   "execution_count": 59,
   "id": "38b7e5b6",
   "metadata": {},
   "outputs": [],
   "source": [
    "# Importing ML algorithms\n",
    "from sklearn.ensemble import RandomForestClassifier,GradientBoostingClassifier\n",
    "from xgboost import XGBClassifier\n",
    "from sklearn.linear_model import LogisticRegression\n",
    "from sklearn.model_selection import train_test_split, RandomizedSearchCV, GridSearchCV\n",
    "from sklearn.svm import SVC\n",
    "import xgboost as xgb\n",
    "#from lightgbm import LGBMClassifier\n",
    "from sklearn.metrics import mean_squared_error, accuracy_score,confusion_matrix, roc_curve, auc,classification_report, recall_score, precision_score, f1_score,roc_auc_score,auc,roc_curve\n",
    "from sklearn.metrics import precision_recall_curve\n",
    "from sklearn.utils import resample\n",
    "from sklearn.model_selection import cross_val_score\n",
    "from sklearn.model_selection import RepeatedStratifiedKFold\n",
    "from collections import Counter\n",
    "from sklearn.datasets import make_classification\n",
    "from sklearn.model_selection import KFold,StratifiedKFold\n",
    "from sklearn.feature_selection import RFECV\n",
    "from sklearn.preprocessing import StandardScaler\n",
    "from imblearn.over_sampling import SMOTE\n",
    "from imblearn.under_sampling import RandomUnderSampler\n",
    "from imblearn.pipeline import Pipeline"
   ]
  },
  {
   "cell_type": "code",
   "execution_count": 60,
   "id": "9cd13ccc",
   "metadata": {},
   "outputs": [],
   "source": [
    "def compute_precisions_thresolds(data, labels, test_data, test_label, epochs, batch_size):\n",
    "    trained_model = fit_model(data, labels, test_data, test_label, epochs=epochs, batch_size=batch_size)\n",
    "    y_test_pred   = trained_model.predict(test_data)\n",
    "    \n",
    "    P_macro = [] ; P_micro = [];  R_macro = [] ;R_micro = []; F1_macro = [] ;F1_micro = []; cut_off = [] ; metrics = pd.DataFrame()\n",
    "    threshold_list = [0.25,0.3,0.4,0.5,0.6,0.7,0.8,0.9,0.95,0.96]\n",
    "    for thres in threshold_list:\n",
    "        cut_off.append(thres)\n",
    "        y_test_pred_new = [1 if el>thres else 0 for el in y_test_pred]\n",
    "        prec_macro            = round(precision_score(test_label, y_test_pred_new, pos_label=1, average='macro'),2)\n",
    "        P_macro.append(prec_macro)\n",
    "        prec_micro            = round(precision_score(test_label, y_test_pred_new, pos_label=1, average='micro'),2)\n",
    "        P_micro.append(prec_micro)\n",
    "        rec_macro             = round(recall_score(test_label, y_test_pred_new, pos_label=1,average='macro'),2)\n",
    "        R_macro.append(rec_macro)\n",
    "        rec_micro             = round(recall_score(test_label, y_test_pred_new, pos_label=1,average='micro'),2)\n",
    "        R_micro.append(rec_micro)\n",
    "        f1_macro              = round(f1_score(test_label, y_test_pred_new, average='macro'),2)\n",
    "        F1_macro.append(f1_macro)\n",
    "        f1_micro              = round(f1_score(test_label, y_test_pred_new, average='micro'),2)\n",
    "        F1_micro.append(f1_micro)\n",
    "        \n",
    "    metrics = pd.DataFrame({'Threshold' : cut_off, 'Precision Macro' : P_macro, 'Precision Micro' : P_micro,'Recall Macro' : R_macro, 'Recall Micro' : R_micro,'F1 Score Macro' : F1_macro, 'F1 Score Micro' : F1_micro})\n",
    "    return metrics.sort_values(by=['Threshold'], ascending=False)"
   ]
  },
  {
   "cell_type": "code",
   "execution_count": null,
   "id": "a0491d3c",
   "metadata": {},
   "outputs": [],
   "source": []
  },
  {
   "cell_type": "code",
   "execution_count": 61,
   "id": "c820e59c",
   "metadata": {},
   "outputs": [
    {
     "name": "stdout",
     "output_type": "stream",
     "text": [
      "Epoch 1/15\n",
      "1743/1743 [==============================] - 10s 5ms/step - loss: 0.5823 - precision: 0.6920 - recall: 0.7106 - val_loss: 0.5168 - val_precision: 0.1825 - val_recall: 0.7730\n",
      "Epoch 2/15\n",
      "1743/1743 [==============================] - 8s 4ms/step - loss: 0.4948 - precision: 0.7495 - recall: 0.8065 - val_loss: 0.5204 - val_precision: 0.1733 - val_recall: 0.7870\n",
      "Epoch 3/15\n",
      "1743/1743 [==============================] - 7s 4ms/step - loss: 0.4807 - precision: 0.7573 - recall: 0.8114 - val_loss: 0.4843 - val_precision: 0.1807 - val_recall: 0.7746\n",
      "Epoch 4/15\n",
      "1743/1743 [==============================] - 7s 4ms/step - loss: 0.4707 - precision: 0.7622 - recall: 0.8096 - val_loss: 0.4808 - val_precision: 0.1856 - val_recall: 0.7483\n",
      "Epoch 5/15\n",
      "1743/1743 [==============================] - 7s 4ms/step - loss: 0.4632 - precision: 0.7691 - recall: 0.8032 - val_loss: 0.5100 - val_precision: 0.1789 - val_recall: 0.7736\n",
      "Epoch 6/15\n",
      "1743/1743 [==============================] - 7s 4ms/step - loss: 0.4578 - precision: 0.7722 - recall: 0.8029 - val_loss: 0.5130 - val_precision: 0.1738 - val_recall: 0.7781\n",
      "Epoch 7/15\n",
      "1743/1743 [==============================] - 8s 4ms/step - loss: 0.4551 - precision: 0.7727 - recall: 0.8038 - val_loss: 0.5136 - val_precision: 0.1704 - val_recall: 0.7864\n",
      "Epoch 8/15\n",
      "1743/1743 [==============================] - 7s 4ms/step - loss: 0.4541 - precision: 0.7743 - recall: 0.8051 - val_loss: 0.5201 - val_precision: 0.1643 - val_recall: 0.7889\n",
      "Epoch 9/15\n",
      "1743/1743 [==============================] - 7s 4ms/step - loss: 0.4521 - precision: 0.7730 - recall: 0.8083 - val_loss: 0.4866 - val_precision: 0.1766 - val_recall: 0.7633\n",
      "Epoch 10/15\n",
      "1743/1743 [==============================] - 7s 4ms/step - loss: 0.4526 - precision: 0.7711 - recall: 0.8092 - val_loss: 0.5411 - val_precision: 0.1509 - val_recall: 0.8122\n",
      "Epoch 11/15\n",
      "1743/1743 [==============================] - 7s 4ms/step - loss: 0.4517 - precision: 0.7719 - recall: 0.8104 - val_loss: 0.5246 - val_precision: 0.1632 - val_recall: 0.7956\n",
      "Epoch 12/15\n",
      "1743/1743 [==============================] - 7s 4ms/step - loss: 0.4507 - precision: 0.7718 - recall: 0.8116 - val_loss: 0.4978 - val_precision: 0.1726 - val_recall: 0.7827\n",
      "Epoch 13/15\n",
      "1743/1743 [==============================] - 7s 4ms/step - loss: 0.4497 - precision: 0.7709 - recall: 0.8148 - val_loss: 0.5132 - val_precision: 0.1598 - val_recall: 0.7970\n",
      "Epoch 14/15\n",
      "1743/1743 [==============================] - 7s 4ms/step - loss: 0.4488 - precision: 0.7703 - recall: 0.8159 - val_loss: 0.5249 - val_precision: 0.1565 - val_recall: 0.8066\n",
      "Epoch 15/15\n",
      "1743/1743 [==============================] - 7s 4ms/step - loss: 0.4480 - precision: 0.7716 - recall: 0.8148 - val_loss: 0.5480 - val_precision: 0.1521 - val_recall: 0.8142\n",
      "936/936 [==============================] - 2s 2ms/step\n"
     ]
    }
   ],
   "source": [
    "box_cox_metrics = compute_precisions_thresolds(os_data_X_tranformed, os_data_y, df_test_transformed, y_test,epochs=15, batch_size=128)"
   ]
  },
  {
   "cell_type": "code",
   "execution_count": 62,
   "id": "b97e2112",
   "metadata": {},
   "outputs": [
    {
     "name": "stdout",
     "output_type": "stream",
     "text": [
      "Epoch 1/15\n",
      "1743/1743 [==============================] - 9s 4ms/step - loss: 0.5085 - precision: 0.7421 - recall: 0.7832 - val_loss: 0.4643 - val_precision: 0.1779 - val_recall: 0.7747\n",
      "Epoch 2/15\n",
      "1743/1743 [==============================] - 7s 4ms/step - loss: 0.4246 - precision: 0.7857 - recall: 0.8284 - val_loss: 0.3804 - val_precision: 0.2031 - val_recall: 0.6770\n",
      "Epoch 3/15\n",
      "1743/1743 [==============================] - 7s 4ms/step - loss: 0.3773 - precision: 0.8161 - recall: 0.8269 - val_loss: 0.3435 - val_precision: 0.2251 - val_recall: 0.6480\n",
      "Epoch 4/15\n",
      "1743/1743 [==============================] - 7s 4ms/step - loss: 0.3657 - precision: 0.8232 - recall: 0.8277 - val_loss: 0.3441 - val_precision: 0.2262 - val_recall: 0.6361\n",
      "Epoch 5/15\n",
      "1743/1743 [==============================] - 7s 4ms/step - loss: 0.3614 - precision: 0.8259 - recall: 0.8284 - val_loss: 0.3416 - val_precision: 0.2239 - val_recall: 0.6315\n",
      "Epoch 6/15\n",
      "1743/1743 [==============================] - 7s 4ms/step - loss: 0.3597 - precision: 0.8274 - recall: 0.8286 - val_loss: 0.3432 - val_precision: 0.2298 - val_recall: 0.6413\n",
      "Epoch 7/15\n",
      "1743/1743 [==============================] - 7s 4ms/step - loss: 0.3583 - precision: 0.8291 - recall: 0.8258 - val_loss: 0.3405 - val_precision: 0.2363 - val_recall: 0.6340\n",
      "Epoch 8/15\n",
      "1743/1743 [==============================] - 7s 4ms/step - loss: 0.3583 - precision: 0.8308 - recall: 0.8247 - val_loss: 0.3645 - val_precision: 0.2231 - val_recall: 0.6410\n",
      "Epoch 9/15\n",
      "1743/1743 [==============================] - 7s 4ms/step - loss: 0.3570 - precision: 0.8319 - recall: 0.8246 - val_loss: 0.3437 - val_precision: 0.2273 - val_recall: 0.6284\n",
      "Epoch 10/15\n",
      "1743/1743 [==============================] - 7s 4ms/step - loss: 0.3566 - precision: 0.8327 - recall: 0.8244 - val_loss: 0.3622 - val_precision: 0.2219 - val_recall: 0.6454\n",
      "Epoch 11/15\n",
      "1743/1743 [==============================] - 7s 4ms/step - loss: 0.3572 - precision: 0.8311 - recall: 0.8246 - val_loss: 0.3688 - val_precision: 0.2181 - val_recall: 0.6465\n",
      "Epoch 12/15\n",
      "1743/1743 [==============================] - 7s 4ms/step - loss: 0.3562 - precision: 0.8314 - recall: 0.8262 - val_loss: 0.3521 - val_precision: 0.2282 - val_recall: 0.6242\n",
      "Epoch 13/15\n",
      "1743/1743 [==============================] - 7s 4ms/step - loss: 0.3564 - precision: 0.8323 - recall: 0.8259 - val_loss: 0.3662 - val_precision: 0.2171 - val_recall: 0.6667\n",
      "Epoch 14/15\n",
      "1743/1743 [==============================] - 7s 4ms/step - loss: 0.3557 - precision: 0.8319 - recall: 0.8271 - val_loss: 0.3643 - val_precision: 0.2246 - val_recall: 0.6456\n",
      "Epoch 15/15\n",
      "1743/1743 [==============================] - 7s 4ms/step - loss: 0.3559 - precision: 0.8338 - recall: 0.8248 - val_loss: 0.3635 - val_precision: 0.2211 - val_recall: 0.6477\n",
      "936/936 [==============================] - 2s 2ms/step\n"
     ]
    }
   ],
   "source": [
    "standardized_metrics = compute_precisions_thresolds(X_train_scaled, os_data_y, X_test_scaled, y_test,epochs=15, batch_size=128)"
   ]
  },
  {
   "cell_type": "code",
   "execution_count": 63,
   "id": "c515106b",
   "metadata": {},
   "outputs": [],
   "source": [
    "def cal_score(y_test, y_pred): \n",
    "    cm              = confusion_matrix(y_test, y_pred)\n",
    "    prec_scr_macro  = precision_score(y_test, y_pred, average='macro')*100\n",
    "    prec_scr_micro  = precision_score(y_test, y_pred, average='micro')*100\n",
    "    rec_scr_macro   = recall_score(y_test ,y_pred, average='macro')*100\n",
    "    rec_scr_micro   = recall_score(y_test ,y_pred, average='micro')*100\n",
    "    f1_scr_macro    = f1_score(y_test, y_pred, average='macro')*100 \n",
    "    f1_scr_micro    = f1_score(y_test, y_pred, average='micro')*100 \n",
    "    return prec_scr_macro, prec_scr_micro, rec_scr_macro, rec_scr_micro, f1_scr_macro, f1_scr_micro, cm"
   ]
  },
  {
   "cell_type": "code",
   "execution_count": 64,
   "id": "7321221b",
   "metadata": {},
   "outputs": [],
   "source": [
    "def metrics_calculation(classifier, training_data, testing_data, training_label, testing_label):\n",
    "    \n",
    "    result = []\n",
    "    cols = ['Mean Accuracy', 'Accuracy deviation', 'Precision Macro', 'Precision Micro', 'Recall Macro','Recall Micro', 'F1 Score Macro', 'F1 Score Micro', 'Confusion Matrix']\n",
    "    \n",
    "    crs_val     = cross_val_score(classifier, training_data, training_label, cv=5)\n",
    "    mean_acc = round(np.mean(crs_val),3)\n",
    "    std_acc  = round(np.std(crs_val),3)\n",
    "    classifier.fit(training_data, training_label)\n",
    "    predictions = classifier.predict(testing_data)\n",
    "    prec_scr_macro, prec_scr_micro, rec_scr_macro, rec_scr_micro, f1_scr_macro, f1_scr_micro, cm = cal_score(testing_label, predictions)\n",
    "    result.extend([mean_acc,std_acc, prec_scr_macro, prec_scr_micro, rec_scr_macro, rec_scr_micro, f1_scr_macro, f1_scr_micro, cm])\n",
    "    series_result = pd.Series(data=result, index=cols)\n",
    "    \n",
    "    return series_result"
   ]
  },
  {
   "cell_type": "code",
   "execution_count": 66,
   "id": "7a6ed98b",
   "metadata": {},
   "outputs": [],
   "source": [
    "clf_dict = {\n",
    "    'Random Forest': RandomForestClassifier(random_state=42),\n",
    "    'XGBoost': XGBClassifier(random_state=42),\n",
    "    'Logistic Regression' : LogisticRegression(random_state=42)\n",
    "    \n",
    "}"
   ]
  },
  {
   "cell_type": "code",
   "execution_count": 67,
   "id": "ce1af2cd",
   "metadata": {},
   "outputs": [
    {
     "name": "stdout",
     "output_type": "stream",
     "text": [
      "[11:49:34] WARNING: C:/Users/Administrator/workspace/xgboost-win64_release_1.5.1/src/learner.cc:1115: Starting in XGBoost 1.3.0, the default evaluation metric used with the objective 'binary:logistic' was changed from 'error' to 'logloss'. Explicitly set eval_metric if you'd like to restore the old behavior.\n",
      "[11:49:49] WARNING: C:/Users/Administrator/workspace/xgboost-win64_release_1.5.1/src/learner.cc:1115: Starting in XGBoost 1.3.0, the default evaluation metric used with the objective 'binary:logistic' was changed from 'error' to 'logloss'. Explicitly set eval_metric if you'd like to restore the old behavior.\n",
      "[11:50:05] WARNING: C:/Users/Administrator/workspace/xgboost-win64_release_1.5.1/src/learner.cc:1115: Starting in XGBoost 1.3.0, the default evaluation metric used with the objective 'binary:logistic' was changed from 'error' to 'logloss'. Explicitly set eval_metric if you'd like to restore the old behavior.\n",
      "[11:50:21] WARNING: C:/Users/Administrator/workspace/xgboost-win64_release_1.5.1/src/learner.cc:1115: Starting in XGBoost 1.3.0, the default evaluation metric used with the objective 'binary:logistic' was changed from 'error' to 'logloss'. Explicitly set eval_metric if you'd like to restore the old behavior.\n",
      "[11:50:37] WARNING: C:/Users/Administrator/workspace/xgboost-win64_release_1.5.1/src/learner.cc:1115: Starting in XGBoost 1.3.0, the default evaluation metric used with the objective 'binary:logistic' was changed from 'error' to 'logloss'. Explicitly set eval_metric if you'd like to restore the old behavior.\n",
      "[11:50:53] WARNING: C:/Users/Administrator/workspace/xgboost-win64_release_1.5.1/src/learner.cc:1115: Starting in XGBoost 1.3.0, the default evaluation metric used with the objective 'binary:logistic' was changed from 'error' to 'logloss'. Explicitly set eval_metric if you'd like to restore the old behavior.\n"
     ]
    },
    {
     "data": {
      "text/html": [
       "<div>\n",
       "<style scoped>\n",
       "    .dataframe tbody tr th:only-of-type {\n",
       "        vertical-align: middle;\n",
       "    }\n",
       "\n",
       "    .dataframe tbody tr th {\n",
       "        vertical-align: top;\n",
       "    }\n",
       "\n",
       "    .dataframe thead th {\n",
       "        text-align: right;\n",
       "    }\n",
       "</style>\n",
       "<table border=\"1\" class=\"dataframe\">\n",
       "  <thead>\n",
       "    <tr style=\"text-align: right;\">\n",
       "      <th></th>\n",
       "      <th>Random Forest</th>\n",
       "      <th>XGBoost</th>\n",
       "      <th>Logistic Regression</th>\n",
       "    </tr>\n",
       "  </thead>\n",
       "  <tbody>\n",
       "    <tr>\n",
       "      <th>Mean Accuracy</th>\n",
       "      <td>0.937</td>\n",
       "      <td>0.906</td>\n",
       "      <td>0.782</td>\n",
       "    </tr>\n",
       "    <tr>\n",
       "      <th>Accuracy deviation</th>\n",
       "      <td>0.029</td>\n",
       "      <td>0.038</td>\n",
       "      <td>0.002</td>\n",
       "    </tr>\n",
       "    <tr>\n",
       "      <th>Precision Macro</th>\n",
       "      <td>64.769765</td>\n",
       "      <td>62.771563</td>\n",
       "      <td>58.470842</td>\n",
       "    </tr>\n",
       "    <tr>\n",
       "      <th>Precision Micro</th>\n",
       "      <td>90.893608</td>\n",
       "      <td>89.915181</td>\n",
       "      <td>78.497963</td>\n",
       "    </tr>\n",
       "    <tr>\n",
       "      <th>Recall Macro</th>\n",
       "      <td>66.665205</td>\n",
       "      <td>66.048042</td>\n",
       "      <td>75.043123</td>\n",
       "    </tr>\n",
       "    <tr>\n",
       "      <th>Recall Micro</th>\n",
       "      <td>90.893608</td>\n",
       "      <td>89.915181</td>\n",
       "      <td>78.497963</td>\n",
       "    </tr>\n",
       "    <tr>\n",
       "      <th>F1 Score Macro</th>\n",
       "      <td>65.638834</td>\n",
       "      <td>64.142552</td>\n",
       "      <td>58.93513</td>\n",
       "    </tr>\n",
       "    <tr>\n",
       "      <th>F1 Score Micro</th>\n",
       "      <td>90.893608</td>\n",
       "      <td>89.915181</td>\n",
       "      <td>78.497963</td>\n",
       "    </tr>\n",
       "    <tr>\n",
       "      <th>Confusion Matrix</th>\n",
       "      <td>[[26446, 1503], [1224, 773]]</td>\n",
       "      <td>[[26157, 1792], [1228, 769]]</td>\n",
       "      <td>[[22088, 5861], [578, 1419]]</td>\n",
       "    </tr>\n",
       "  </tbody>\n",
       "</table>\n",
       "</div>"
      ],
      "text/plain": [
       "                                   Random Forest  \\\n",
       "Mean Accuracy                              0.937   \n",
       "Accuracy deviation                         0.029   \n",
       "Precision Macro                        64.769765   \n",
       "Precision Micro                        90.893608   \n",
       "Recall Macro                           66.665205   \n",
       "Recall Micro                           90.893608   \n",
       "F1 Score Macro                         65.638834   \n",
       "F1 Score Micro                         90.893608   \n",
       "Confusion Matrix    [[26446, 1503], [1224, 773]]   \n",
       "\n",
       "                                         XGBoost           Logistic Regression  \n",
       "Mean Accuracy                              0.906                         0.782  \n",
       "Accuracy deviation                         0.038                         0.002  \n",
       "Precision Macro                        62.771563                     58.470842  \n",
       "Precision Micro                        89.915181                     78.497963  \n",
       "Recall Macro                           66.048042                     75.043123  \n",
       "Recall Micro                           89.915181                     78.497963  \n",
       "F1 Score Macro                         64.142552                      58.93513  \n",
       "F1 Score Micro                         89.915181                     78.497963  \n",
       "Confusion Matrix    [[26157, 1792], [1228, 769]]  [[22088, 5861], [578, 1419]]  "
      ]
     },
     "execution_count": 67,
     "metadata": {},
     "output_type": "execute_result"
    }
   ],
   "source": [
    "frame = {}\n",
    "for key in clf_dict:\n",
    "\n",
    "    classifier_result = metrics_calculation(clf_dict[key], os_data_X_tranformed, df_test_transformed, os_data_y, y_test)\n",
    "    frame[key]    = classifier_result\n",
    "        \n",
    "box_cox_smote_df = pd.DataFrame(frame)\n",
    "box_cox_smote_df"
   ]
  }
 ],
 "metadata": {
  "kernelspec": {
   "display_name": "Python 3 (ipykernel)",
   "language": "python",
   "name": "python3"
  },
  "language_info": {
   "codemirror_mode": {
    "name": "ipython",
    "version": 3
   },
   "file_extension": ".py",
   "mimetype": "text/x-python",
   "name": "python",
   "nbconvert_exporter": "python",
   "pygments_lexer": "ipython3",
   "version": "3.9.7"
  }
 },
 "nbformat": 4,
 "nbformat_minor": 5
}
