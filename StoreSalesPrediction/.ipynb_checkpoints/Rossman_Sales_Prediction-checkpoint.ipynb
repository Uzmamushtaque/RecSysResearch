{
 "cells": [
  {
   "cell_type": "markdown",
   "id": "79d94db9",
   "metadata": {},
   "source": [
    "# Business Problem\n",
    "\n",
    "Rossmann operates over 3,000 drug stores in 7 European countries. Currently, Rossmann\n",
    "store managers are tasked with predicting their daily sales for up to six weeks in advance.\n",
    "Store sales are influenced by many factors, including promotions, competition, school and\n",
    "state holidays, seasonality, and locality. With thousands of individual managers predicting\n",
    "sales based on their unique circumstances, the accuracy of results can be quite varied."
   ]
  },
  {
   "cell_type": "markdown",
   "id": "df69bac3",
   "metadata": {},
   "source": [
    "## Data Description\n",
    "\n",
    "We have been provided data with the following data fields.\n",
    "1. Id - an Id that represents a (Store, Date) duple within the test set\n",
    "2. Store - a unique Id for each store\n",
    "3. Sales - the turnover for any given day (this is what you are predicting)\n",
    "4. Customers - the number of customers on a given day\n",
    "5. Open - an indicator for whether the store was open: 0 = closed, 1 = open\n",
    "6. StateHoliday - indicates a state holiday. Normally all stores, with few exceptions, are\n",
    "closed on state holidays. Note that all schools are closed on public holidays and\n",
    "weekends. a = public holiday, b = Easter holiday, c = Christmas, 0 = None\n",
    "7. SchoolHoliday - indicates if the (Store, Date) was affected by the closure of public\n",
    "schools\n",
    "8. StoreType - differentiates between 4 different store models: a, b, c, d\n",
    "9. Assortment - describes an assortment level: a = basic, b = extra, c = extended\n",
    "10. CompetitionDistance - distance in meters to the nearest competitor store\n",
    "11. CompetitionOpenSince[Month/Year] - gives the approximate year and month of the\n",
    "time the nearest competitor was opened\n",
    "12. Promo - indicates whether a store is running a promo on that day\n",
    "13. Promo2 - Promo2 is a continuing and consecutive promotion for some stores: 0 =\n",
    "store is not participating, 1 = store is participating\n",
    "14. Promo2Since[Year/Week] - describes the year and calendar week when the store\n",
    "started participating in Promo2\n",
    "15. PromoInterval - describes the consecutive intervals Promo2 is started, naming the\n",
    "months the promotion is started anew. E.g. \"Feb,May,Aug,Nov\" means each round\n",
    "starts in February, May, August, November of any given year for that store\n",
    "\n",
    "Data Source : https://www.kaggle.com/c/rossmann-store-sales/data"
   ]
  },
  {
   "cell_type": "code",
   "execution_count": null,
   "id": "ac0374e5",
   "metadata": {},
   "outputs": [],
   "source": []
  }
 ],
 "metadata": {
  "kernelspec": {
   "display_name": "Python 3 (ipykernel)",
   "language": "python",
   "name": "python3"
  },
  "language_info": {
   "codemirror_mode": {
    "name": "ipython",
    "version": 3
   },
   "file_extension": ".py",
   "mimetype": "text/x-python",
   "name": "python",
   "nbconvert_exporter": "python",
   "pygments_lexer": "ipython3",
   "version": "3.9.7"
  }
 },
 "nbformat": 4,
 "nbformat_minor": 5
}
