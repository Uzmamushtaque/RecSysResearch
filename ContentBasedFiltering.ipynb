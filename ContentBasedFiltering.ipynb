{
 "cells": [
  {
   "cell_type": "code",
   "execution_count": 1,
   "id": "882cfb71",
   "metadata": {},
   "outputs": [],
   "source": [
    "#Importing the libraries\n",
    "\n",
    "import pandas as pd\n",
    "from sklearn.feature_extraction.text import CountVectorizer\n",
    "from sklearn.metrics.pairwise import cosine_similarity, manhattan_distances, euclidean_distances\n",
    "from sklearn.feature_extraction.text import TfidfVectorizer\n",
    "import re\n",
    "from gensim import models\n",
    "import numpy as np\n",
    "import matplotlib.pyplot as plt\n",
    "import matplotlib.style\n",
    "%matplotlib inline\n",
    "from gensim.models import FastText as ft\n",
    "from IPython.display import Image"
   ]
  },
  {
   "cell_type": "code",
   "execution_count": 2,
   "id": "9095e933",
   "metadata": {},
   "outputs": [
    {
     "data": {
      "text/html": [
       "<div>\n",
       "<style scoped>\n",
       "    .dataframe tbody tr th:only-of-type {\n",
       "        vertical-align: middle;\n",
       "    }\n",
       "\n",
       "    .dataframe tbody tr th {\n",
       "        vertical-align: top;\n",
       "    }\n",
       "\n",
       "    .dataframe thead th {\n",
       "        text-align: right;\n",
       "    }\n",
       "</style>\n",
       "<table border=\"1\" class=\"dataframe\">\n",
       "  <thead>\n",
       "    <tr style=\"text-align: right;\">\n",
       "      <th></th>\n",
       "      <th>StockCode</th>\n",
       "      <th>Product Name</th>\n",
       "      <th>Description</th>\n",
       "      <th>Category</th>\n",
       "      <th>Brand</th>\n",
       "      <th>Unit Price</th>\n",
       "    </tr>\n",
       "  </thead>\n",
       "  <tbody>\n",
       "    <tr>\n",
       "      <th>0</th>\n",
       "      <td>22629</td>\n",
       "      <td>Ganma Superheroes Ordinary Life Case For Samsu...</td>\n",
       "      <td>New unique design, great gift.High quality pla...</td>\n",
       "      <td>Cell Phones|Cellphone Accessories|Cases &amp; Prot...</td>\n",
       "      <td>Ganma</td>\n",
       "      <td>13.99</td>\n",
       "    </tr>\n",
       "    <tr>\n",
       "      <th>1</th>\n",
       "      <td>21238</td>\n",
       "      <td>Eye Buy Express Prescription Glasses Mens Wome...</td>\n",
       "      <td>Rounded rectangular cat-eye reading glasses. T...</td>\n",
       "      <td>Health|Home Health Care|Daily Living Aids</td>\n",
       "      <td>Eye Buy Express</td>\n",
       "      <td>19.22</td>\n",
       "    </tr>\n",
       "    <tr>\n",
       "      <th>2</th>\n",
       "      <td>22181</td>\n",
       "      <td>MightySkins Skin Decal Wrap Compatible with Ni...</td>\n",
       "      <td>Each Nintendo 2DS kit is printed with super-hi...</td>\n",
       "      <td>Video Games|Video Game Accessories|Accessories...</td>\n",
       "      <td>Mightyskins</td>\n",
       "      <td>14.99</td>\n",
       "    </tr>\n",
       "    <tr>\n",
       "      <th>3</th>\n",
       "      <td>84879</td>\n",
       "      <td>Mediven Sheer and Soft 15-20 mmHg Thigh w/ Lac...</td>\n",
       "      <td>The sheerest compression stocking in its class...</td>\n",
       "      <td>Health|Medicine Cabinet|Braces &amp; Supports</td>\n",
       "      <td>Medi</td>\n",
       "      <td>62.38</td>\n",
       "    </tr>\n",
       "    <tr>\n",
       "      <th>4</th>\n",
       "      <td>84836</td>\n",
       "      <td>Stupell Industries Chevron Initial Wall D cor</td>\n",
       "      <td>Features: -Made in the USA. -Sawtooth hanger o...</td>\n",
       "      <td>Home Improvement|Paint|Wall Decals|All Wall De...</td>\n",
       "      <td>Stupell Industries</td>\n",
       "      <td>35.99</td>\n",
       "    </tr>\n",
       "  </tbody>\n",
       "</table>\n",
       "</div>"
      ],
      "text/plain": [
       "  StockCode                                       Product Name  \\\n",
       "0     22629  Ganma Superheroes Ordinary Life Case For Samsu...   \n",
       "1     21238  Eye Buy Express Prescription Glasses Mens Wome...   \n",
       "2     22181  MightySkins Skin Decal Wrap Compatible with Ni...   \n",
       "3     84879  Mediven Sheer and Soft 15-20 mmHg Thigh w/ Lac...   \n",
       "4     84836      Stupell Industries Chevron Initial Wall D cor   \n",
       "\n",
       "                                         Description  \\\n",
       "0  New unique design, great gift.High quality pla...   \n",
       "1  Rounded rectangular cat-eye reading glasses. T...   \n",
       "2  Each Nintendo 2DS kit is printed with super-hi...   \n",
       "3  The sheerest compression stocking in its class...   \n",
       "4  Features: -Made in the USA. -Sawtooth hanger o...   \n",
       "\n",
       "                                            Category               Brand  \\\n",
       "0  Cell Phones|Cellphone Accessories|Cases & Prot...               Ganma   \n",
       "1          Health|Home Health Care|Daily Living Aids     Eye Buy Express   \n",
       "2  Video Games|Video Game Accessories|Accessories...         Mightyskins   \n",
       "3          Health|Medicine Cabinet|Braces & Supports                Medi   \n",
       "4  Home Improvement|Paint|Wall Decals|All Wall De...  Stupell Industries   \n",
       "\n",
       "   Unit Price  \n",
       "0       13.99  \n",
       "1       19.22  \n",
       "2       14.99  \n",
       "3       62.38  \n",
       "4       35.99  "
      ]
     },
     "execution_count": 2,
     "metadata": {},
     "output_type": "execute_result"
    }
   ],
   "source": [
    "df = pd.read_excel(\"data.xlsx\")\n",
    "# Viewing Top 5 Rows\n",
    "df.head(5)"
   ]
  },
  {
   "cell_type": "code",
   "execution_count": 3,
   "id": "cf89a35c",
   "metadata": {},
   "outputs": [
    {
     "name": "stdout",
     "output_type": "stream",
     "text": [
      "<class 'pandas.core.frame.DataFrame'>\n",
      "RangeIndex: 3958 entries, 0 to 3957\n",
      "Data columns (total 6 columns):\n",
      " #   Column        Non-Null Count  Dtype  \n",
      "---  ------        --------------  -----  \n",
      " 0   StockCode     3958 non-null   object \n",
      " 1   Product Name  3958 non-null   object \n",
      " 2   Description   3958 non-null   object \n",
      " 3   Category      3856 non-null   object \n",
      " 4   Brand         3818 non-null   object \n",
      " 5   Unit Price    3943 non-null   float64\n",
      "dtypes: float64(1), object(5)\n",
      "memory usage: 185.7+ KB\n"
     ]
    }
   ],
   "source": [
    "df.info()"
   ]
  },
  {
   "cell_type": "code",
   "execution_count": 4,
   "id": "4c177c81",
   "metadata": {},
   "outputs": [
    {
     "data": {
      "text/plain": [
       "StockCode         0\n",
       "Product Name      0\n",
       "Description       0\n",
       "Category        102\n",
       "Brand           140\n",
       "Unit Price       15\n",
       "dtype: int64"
      ]
     },
     "execution_count": 4,
     "metadata": {},
     "output_type": "execute_result"
    }
   ],
   "source": [
    "df.isnull().sum()"
   ]
  },
  {
   "cell_type": "markdown",
   "id": "ff07a018",
   "metadata": {},
   "source": [
    "## Download word embeddings\n",
    "\n",
    "download w2v\n",
    "gdown https://drive.google.com/file/d/1LDdF6M6VzNhXfJyqb1OXLWno8TrExg6o/view?usp=sharing\n",
    "\n",
    "download glove\n",
    "wget https://drive.google.com/file/d/1P9JFZ43Id9dXOo_xFpqLkx81jOsXrQC0/view?usp=sharing\n",
    "\n",
    "download fastext\n",
    "fasttext https://drive.google.com/file/d/1hgb-kxJzFkcktsxBEpthmCxzlwe_IM6o/view?usp=sharing"
   ]
  },
  {
   "cell_type": "code",
   "execution_count": 5,
   "id": "73d4f31e",
   "metadata": {},
   "outputs": [],
   "source": [
    "# Importing Word2Vec\n",
    "word2vecModel = models.KeyedVectors.load_word2vec_format('GoogleNews-vectors-negative300.bin.gz', binary=True)"
   ]
  },
  {
   "cell_type": "code",
   "execution_count": 6,
   "id": "127aecd8",
   "metadata": {},
   "outputs": [],
   "source": [
    "# # Import Glove\n",
    "glove_df = pd.read_csv('glove.6B/glove.6B.300d.txt', sep=\" \",\n",
    "                       quoting=3, header=None, index_col=0)\n",
    "glove_model = {key: value.values for key, value in glove_df.T.items()}"
   ]
  },
  {
   "cell_type": "code",
   "execution_count": 7,
   "id": "a859623a",
   "metadata": {},
   "outputs": [],
   "source": [
    "count_vectorizer=CountVectorizer(stop_words='english')\n",
    "tfidf=TfidfVectorizer(stop_words='english',analyzer='word',ngram_range=(1,3))"
   ]
  },
  {
   "cell_type": "code",
   "execution_count": 8,
   "id": "0c4d1a8b",
   "metadata": {},
   "outputs": [],
   "source": [
    "# Combining Product and Description\n",
    "df['Description'] = df['Product Name'] + ' ' +df['Description']"
   ]
  },
  {
   "cell_type": "code",
   "execution_count": 9,
   "id": "c2e31887",
   "metadata": {},
   "outputs": [],
   "source": [
    "# Dropping Duplicates and keeping first record\n",
    "unique_df = df.drop_duplicates(subset=['Description'], keep='first')"
   ]
  },
  {
   "cell_type": "code",
   "execution_count": 10,
   "id": "aa98d7f7",
   "metadata": {},
   "outputs": [
    {
     "data": {
      "text/html": [
       "<div>\n",
       "<style scoped>\n",
       "    .dataframe tbody tr th:only-of-type {\n",
       "        vertical-align: middle;\n",
       "    }\n",
       "\n",
       "    .dataframe tbody tr th {\n",
       "        vertical-align: top;\n",
       "    }\n",
       "\n",
       "    .dataframe thead th {\n",
       "        text-align: right;\n",
       "    }\n",
       "</style>\n",
       "<table border=\"1\" class=\"dataframe\">\n",
       "  <thead>\n",
       "    <tr style=\"text-align: right;\">\n",
       "      <th></th>\n",
       "      <th>StockCode</th>\n",
       "      <th>Product Name</th>\n",
       "      <th>Description</th>\n",
       "      <th>Category</th>\n",
       "      <th>Brand</th>\n",
       "      <th>Unit Price</th>\n",
       "    </tr>\n",
       "  </thead>\n",
       "  <tbody>\n",
       "    <tr>\n",
       "      <th>0</th>\n",
       "      <td>22629</td>\n",
       "      <td>Ganma Superheroes Ordinary Life Case For Samsu...</td>\n",
       "      <td>Ganma Superheroes Ordinary Life Case For Samsu...</td>\n",
       "      <td>Cell Phones|Cellphone Accessories|Cases &amp; Prot...</td>\n",
       "      <td>Ganma</td>\n",
       "      <td>13.99</td>\n",
       "    </tr>\n",
       "    <tr>\n",
       "      <th>1</th>\n",
       "      <td>21238</td>\n",
       "      <td>Eye Buy Express Prescription Glasses Mens Wome...</td>\n",
       "      <td>Eye Buy Express Prescription Glasses Mens Wome...</td>\n",
       "      <td>Health|Home Health Care|Daily Living Aids</td>\n",
       "      <td>Eye Buy Express</td>\n",
       "      <td>19.22</td>\n",
       "    </tr>\n",
       "    <tr>\n",
       "      <th>2</th>\n",
       "      <td>22181</td>\n",
       "      <td>MightySkins Skin Decal Wrap Compatible with Ni...</td>\n",
       "      <td>MightySkins Skin Decal Wrap Compatible with Ni...</td>\n",
       "      <td>Video Games|Video Game Accessories|Accessories...</td>\n",
       "      <td>Mightyskins</td>\n",
       "      <td>14.99</td>\n",
       "    </tr>\n",
       "    <tr>\n",
       "      <th>3</th>\n",
       "      <td>84879</td>\n",
       "      <td>Mediven Sheer and Soft 15-20 mmHg Thigh w/ Lac...</td>\n",
       "      <td>Mediven Sheer and Soft 15-20 mmHg Thigh w/ Lac...</td>\n",
       "      <td>Health|Medicine Cabinet|Braces &amp; Supports</td>\n",
       "      <td>Medi</td>\n",
       "      <td>62.38</td>\n",
       "    </tr>\n",
       "    <tr>\n",
       "      <th>4</th>\n",
       "      <td>84836</td>\n",
       "      <td>Stupell Industries Chevron Initial Wall D cor</td>\n",
       "      <td>Stupell Industries Chevron Initial Wall D cor ...</td>\n",
       "      <td>Home Improvement|Paint|Wall Decals|All Wall De...</td>\n",
       "      <td>Stupell Industries</td>\n",
       "      <td>35.99</td>\n",
       "    </tr>\n",
       "  </tbody>\n",
       "</table>\n",
       "</div>"
      ],
      "text/plain": [
       "  StockCode                                       Product Name  \\\n",
       "0     22629  Ganma Superheroes Ordinary Life Case For Samsu...   \n",
       "1     21238  Eye Buy Express Prescription Glasses Mens Wome...   \n",
       "2     22181  MightySkins Skin Decal Wrap Compatible with Ni...   \n",
       "3     84879  Mediven Sheer and Soft 15-20 mmHg Thigh w/ Lac...   \n",
       "4     84836      Stupell Industries Chevron Initial Wall D cor   \n",
       "\n",
       "                                         Description  \\\n",
       "0  Ganma Superheroes Ordinary Life Case For Samsu...   \n",
       "1  Eye Buy Express Prescription Glasses Mens Wome...   \n",
       "2  MightySkins Skin Decal Wrap Compatible with Ni...   \n",
       "3  Mediven Sheer and Soft 15-20 mmHg Thigh w/ Lac...   \n",
       "4  Stupell Industries Chevron Initial Wall D cor ...   \n",
       "\n",
       "                                            Category               Brand  \\\n",
       "0  Cell Phones|Cellphone Accessories|Cases & Prot...               Ganma   \n",
       "1          Health|Home Health Care|Daily Living Aids     Eye Buy Express   \n",
       "2  Video Games|Video Game Accessories|Accessories...         Mightyskins   \n",
       "3          Health|Medicine Cabinet|Braces & Supports                Medi   \n",
       "4  Home Improvement|Paint|Wall Decals|All Wall De...  Stupell Industries   \n",
       "\n",
       "   Unit Price  \n",
       "0       13.99  \n",
       "1       19.22  \n",
       "2       14.99  \n",
       "3       62.38  \n",
       "4       35.99  "
      ]
     },
     "execution_count": 10,
     "metadata": {},
     "output_type": "execute_result"
    }
   ],
   "source": [
    "unique_df.head()"
   ]
  },
  {
   "cell_type": "code",
   "execution_count": 11,
   "id": "d10f9589",
   "metadata": {},
   "outputs": [
    {
     "name": "stderr",
     "output_type": "stream",
     "text": [
      "C:\\Users\\uzmam\\AppData\\Local\\Temp/ipykernel_688/1090978541.py:1: SettingWithCopyWarning: \n",
      "A value is trying to be set on a copy of a slice from a DataFrame.\n",
      "Try using .loc[row_indexer,col_indexer] = value instead\n",
      "\n",
      "See the caveats in the documentation: https://pandas.pydata.org/pandas-docs/stable/user_guide/indexing.html#returning-a-view-versus-a-copy\n",
      "  unique_df['desc_lower']=unique_df['Description'].apply(lambda x: x.lower())\n"
     ]
    }
   ],
   "source": [
    "unique_df['desc_lower']=unique_df['Description'].apply(lambda x: x.lower())"
   ]
  },
  {
   "cell_type": "code",
   "execution_count": 12,
   "id": "6be42021",
   "metadata": {},
   "outputs": [
    {
     "data": {
      "text/html": [
       "<div>\n",
       "<style scoped>\n",
       "    .dataframe tbody tr th:only-of-type {\n",
       "        vertical-align: middle;\n",
       "    }\n",
       "\n",
       "    .dataframe tbody tr th {\n",
       "        vertical-align: top;\n",
       "    }\n",
       "\n",
       "    .dataframe thead th {\n",
       "        text-align: right;\n",
       "    }\n",
       "</style>\n",
       "<table border=\"1\" class=\"dataframe\">\n",
       "  <thead>\n",
       "    <tr style=\"text-align: right;\">\n",
       "      <th></th>\n",
       "      <th>StockCode</th>\n",
       "      <th>Product Name</th>\n",
       "      <th>Description</th>\n",
       "      <th>Category</th>\n",
       "      <th>Brand</th>\n",
       "      <th>Unit Price</th>\n",
       "      <th>desc_lower</th>\n",
       "    </tr>\n",
       "  </thead>\n",
       "  <tbody>\n",
       "    <tr>\n",
       "      <th>0</th>\n",
       "      <td>22629</td>\n",
       "      <td>Ganma Superheroes Ordinary Life Case For Samsu...</td>\n",
       "      <td>Ganma Superheroes Ordinary Life Case For Samsu...</td>\n",
       "      <td>Cell Phones|Cellphone Accessories|Cases &amp; Prot...</td>\n",
       "      <td>Ganma</td>\n",
       "      <td>13.99</td>\n",
       "      <td>ganma superheroes ordinary life case for samsu...</td>\n",
       "    </tr>\n",
       "    <tr>\n",
       "      <th>1</th>\n",
       "      <td>21238</td>\n",
       "      <td>Eye Buy Express Prescription Glasses Mens Wome...</td>\n",
       "      <td>Eye Buy Express Prescription Glasses Mens Wome...</td>\n",
       "      <td>Health|Home Health Care|Daily Living Aids</td>\n",
       "      <td>Eye Buy Express</td>\n",
       "      <td>19.22</td>\n",
       "      <td>eye buy express prescription glasses mens wome...</td>\n",
       "    </tr>\n",
       "    <tr>\n",
       "      <th>2</th>\n",
       "      <td>22181</td>\n",
       "      <td>MightySkins Skin Decal Wrap Compatible with Ni...</td>\n",
       "      <td>MightySkins Skin Decal Wrap Compatible with Ni...</td>\n",
       "      <td>Video Games|Video Game Accessories|Accessories...</td>\n",
       "      <td>Mightyskins</td>\n",
       "      <td>14.99</td>\n",
       "      <td>mightyskins skin decal wrap compatible with ni...</td>\n",
       "    </tr>\n",
       "    <tr>\n",
       "      <th>3</th>\n",
       "      <td>84879</td>\n",
       "      <td>Mediven Sheer and Soft 15-20 mmHg Thigh w/ Lac...</td>\n",
       "      <td>Mediven Sheer and Soft 15-20 mmHg Thigh w/ Lac...</td>\n",
       "      <td>Health|Medicine Cabinet|Braces &amp; Supports</td>\n",
       "      <td>Medi</td>\n",
       "      <td>62.38</td>\n",
       "      <td>mediven sheer and soft 15-20 mmhg thigh w/ lac...</td>\n",
       "    </tr>\n",
       "    <tr>\n",
       "      <th>4</th>\n",
       "      <td>84836</td>\n",
       "      <td>Stupell Industries Chevron Initial Wall D cor</td>\n",
       "      <td>Stupell Industries Chevron Initial Wall D cor ...</td>\n",
       "      <td>Home Improvement|Paint|Wall Decals|All Wall De...</td>\n",
       "      <td>Stupell Industries</td>\n",
       "      <td>35.99</td>\n",
       "      <td>stupell industries chevron initial wall d cor ...</td>\n",
       "    </tr>\n",
       "  </tbody>\n",
       "</table>\n",
       "</div>"
      ],
      "text/plain": [
       "  StockCode                                       Product Name  \\\n",
       "0     22629  Ganma Superheroes Ordinary Life Case For Samsu...   \n",
       "1     21238  Eye Buy Express Prescription Glasses Mens Wome...   \n",
       "2     22181  MightySkins Skin Decal Wrap Compatible with Ni...   \n",
       "3     84879  Mediven Sheer and Soft 15-20 mmHg Thigh w/ Lac...   \n",
       "4     84836      Stupell Industries Chevron Initial Wall D cor   \n",
       "\n",
       "                                         Description  \\\n",
       "0  Ganma Superheroes Ordinary Life Case For Samsu...   \n",
       "1  Eye Buy Express Prescription Glasses Mens Wome...   \n",
       "2  MightySkins Skin Decal Wrap Compatible with Ni...   \n",
       "3  Mediven Sheer and Soft 15-20 mmHg Thigh w/ Lac...   \n",
       "4  Stupell Industries Chevron Initial Wall D cor ...   \n",
       "\n",
       "                                            Category               Brand  \\\n",
       "0  Cell Phones|Cellphone Accessories|Cases & Prot...               Ganma   \n",
       "1          Health|Home Health Care|Daily Living Aids     Eye Buy Express   \n",
       "2  Video Games|Video Game Accessories|Accessories...         Mightyskins   \n",
       "3          Health|Medicine Cabinet|Braces & Supports                Medi   \n",
       "4  Home Improvement|Paint|Wall Decals|All Wall De...  Stupell Industries   \n",
       "\n",
       "   Unit Price                                         desc_lower  \n",
       "0       13.99  ganma superheroes ordinary life case for samsu...  \n",
       "1       19.22  eye buy express prescription glasses mens wome...  \n",
       "2       14.99  mightyskins skin decal wrap compatible with ni...  \n",
       "3       62.38  mediven sheer and soft 15-20 mmhg thigh w/ lac...  \n",
       "4       35.99  stupell industries chevron initial wall d cor ...  "
      ]
     },
     "execution_count": 12,
     "metadata": {},
     "output_type": "execute_result"
    }
   ],
   "source": [
    "unique_df.head()"
   ]
  },
  {
   "cell_type": "code",
   "execution_count": 13,
   "id": "9af9e61f",
   "metadata": {},
   "outputs": [
    {
     "name": "stderr",
     "output_type": "stream",
     "text": [
      "C:\\Users\\uzmam\\AppData\\Local\\Temp/ipykernel_688/3469033122.py:1: SettingWithCopyWarning: \n",
      "A value is trying to be set on a copy of a slice from a DataFrame.\n",
      "Try using .loc[row_indexer,col_indexer] = value instead\n",
      "\n",
      "See the caveats in the documentation: https://pandas.pydata.org/pandas-docs/stable/user_guide/indexing.html#returning-a-view-versus-a-copy\n",
      "  unique_df['desc_lower']=unique_df['desc_lower'].apply(lambda x: re.sub(r'[^\\w\\s]', '', x))\n"
     ]
    }
   ],
   "source": [
    "unique_df['desc_lower']=unique_df['desc_lower'].apply(lambda x: re.sub(r'[^\\w\\s]', '', x))"
   ]
  },
  {
   "cell_type": "code",
   "execution_count": 14,
   "id": "df805f21",
   "metadata": {},
   "outputs": [],
   "source": [
    "# Coverting Description to List\n",
    "desc_list = list(unique_df['desc_lower'])"
   ]
  },
  {
   "cell_type": "code",
   "execution_count": 15,
   "id": "cb6e2991",
   "metadata": {},
   "outputs": [],
   "source": [
    "unique_df= unique_df.reset_index(drop=True)"
   ]
  },
  {
   "cell_type": "code",
   "execution_count": 16,
   "id": "58ed2e6d",
   "metadata": {},
   "outputs": [],
   "source": [
    "unique_df.reset_index(inplace=True)"
   ]
  },
  {
   "cell_type": "code",
   "execution_count": 17,
   "id": "d70c8d9d",
   "metadata": {},
   "outputs": [
    {
     "data": {
      "text/html": [
       "<div>\n",
       "<style scoped>\n",
       "    .dataframe tbody tr th:only-of-type {\n",
       "        vertical-align: middle;\n",
       "    }\n",
       "\n",
       "    .dataframe tbody tr th {\n",
       "        vertical-align: top;\n",
       "    }\n",
       "\n",
       "    .dataframe thead th {\n",
       "        text-align: right;\n",
       "    }\n",
       "</style>\n",
       "<table border=\"1\" class=\"dataframe\">\n",
       "  <thead>\n",
       "    <tr style=\"text-align: right;\">\n",
       "      <th></th>\n",
       "      <th>index</th>\n",
       "      <th>StockCode</th>\n",
       "      <th>Product Name</th>\n",
       "      <th>Description</th>\n",
       "      <th>Category</th>\n",
       "      <th>Brand</th>\n",
       "      <th>Unit Price</th>\n",
       "      <th>desc_lower</th>\n",
       "    </tr>\n",
       "  </thead>\n",
       "  <tbody>\n",
       "    <tr>\n",
       "      <th>0</th>\n",
       "      <td>0</td>\n",
       "      <td>22629</td>\n",
       "      <td>Ganma Superheroes Ordinary Life Case For Samsu...</td>\n",
       "      <td>Ganma Superheroes Ordinary Life Case For Samsu...</td>\n",
       "      <td>Cell Phones|Cellphone Accessories|Cases &amp; Prot...</td>\n",
       "      <td>Ganma</td>\n",
       "      <td>13.99</td>\n",
       "      <td>ganma superheroes ordinary life case for samsu...</td>\n",
       "    </tr>\n",
       "    <tr>\n",
       "      <th>1</th>\n",
       "      <td>1</td>\n",
       "      <td>21238</td>\n",
       "      <td>Eye Buy Express Prescription Glasses Mens Wome...</td>\n",
       "      <td>Eye Buy Express Prescription Glasses Mens Wome...</td>\n",
       "      <td>Health|Home Health Care|Daily Living Aids</td>\n",
       "      <td>Eye Buy Express</td>\n",
       "      <td>19.22</td>\n",
       "      <td>eye buy express prescription glasses mens wome...</td>\n",
       "    </tr>\n",
       "    <tr>\n",
       "      <th>2</th>\n",
       "      <td>2</td>\n",
       "      <td>22181</td>\n",
       "      <td>MightySkins Skin Decal Wrap Compatible with Ni...</td>\n",
       "      <td>MightySkins Skin Decal Wrap Compatible with Ni...</td>\n",
       "      <td>Video Games|Video Game Accessories|Accessories...</td>\n",
       "      <td>Mightyskins</td>\n",
       "      <td>14.99</td>\n",
       "      <td>mightyskins skin decal wrap compatible with ni...</td>\n",
       "    </tr>\n",
       "    <tr>\n",
       "      <th>3</th>\n",
       "      <td>3</td>\n",
       "      <td>84879</td>\n",
       "      <td>Mediven Sheer and Soft 15-20 mmHg Thigh w/ Lac...</td>\n",
       "      <td>Mediven Sheer and Soft 15-20 mmHg Thigh w/ Lac...</td>\n",
       "      <td>Health|Medicine Cabinet|Braces &amp; Supports</td>\n",
       "      <td>Medi</td>\n",
       "      <td>62.38</td>\n",
       "      <td>mediven sheer and soft 1520 mmhg thigh w lace ...</td>\n",
       "    </tr>\n",
       "    <tr>\n",
       "      <th>4</th>\n",
       "      <td>4</td>\n",
       "      <td>84836</td>\n",
       "      <td>Stupell Industries Chevron Initial Wall D cor</td>\n",
       "      <td>Stupell Industries Chevron Initial Wall D cor ...</td>\n",
       "      <td>Home Improvement|Paint|Wall Decals|All Wall De...</td>\n",
       "      <td>Stupell Industries</td>\n",
       "      <td>35.99</td>\n",
       "      <td>stupell industries chevron initial wall d cor ...</td>\n",
       "    </tr>\n",
       "  </tbody>\n",
       "</table>\n",
       "</div>"
      ],
      "text/plain": [
       "   index StockCode                                       Product Name  \\\n",
       "0      0     22629  Ganma Superheroes Ordinary Life Case For Samsu...   \n",
       "1      1     21238  Eye Buy Express Prescription Glasses Mens Wome...   \n",
       "2      2     22181  MightySkins Skin Decal Wrap Compatible with Ni...   \n",
       "3      3     84879  Mediven Sheer and Soft 15-20 mmHg Thigh w/ Lac...   \n",
       "4      4     84836      Stupell Industries Chevron Initial Wall D cor   \n",
       "\n",
       "                                         Description  \\\n",
       "0  Ganma Superheroes Ordinary Life Case For Samsu...   \n",
       "1  Eye Buy Express Prescription Glasses Mens Wome...   \n",
       "2  MightySkins Skin Decal Wrap Compatible with Ni...   \n",
       "3  Mediven Sheer and Soft 15-20 mmHg Thigh w/ Lac...   \n",
       "4  Stupell Industries Chevron Initial Wall D cor ...   \n",
       "\n",
       "                                            Category               Brand  \\\n",
       "0  Cell Phones|Cellphone Accessories|Cases & Prot...               Ganma   \n",
       "1          Health|Home Health Care|Daily Living Aids     Eye Buy Express   \n",
       "2  Video Games|Video Game Accessories|Accessories...         Mightyskins   \n",
       "3          Health|Medicine Cabinet|Braces & Supports                Medi   \n",
       "4  Home Improvement|Paint|Wall Decals|All Wall De...  Stupell Industries   \n",
       "\n",
       "   Unit Price                                         desc_lower  \n",
       "0       13.99  ganma superheroes ordinary life case for samsu...  \n",
       "1       19.22  eye buy express prescription glasses mens wome...  \n",
       "2       14.99  mightyskins skin decal wrap compatible with ni...  \n",
       "3       62.38  mediven sheer and soft 1520 mmhg thigh w lace ...  \n",
       "4       35.99  stupell industries chevron initial wall d cor ...  "
      ]
     },
     "execution_count": 17,
     "metadata": {},
     "output_type": "execute_result"
    }
   ],
   "source": [
    "unique_df.head()"
   ]
  },
  {
   "cell_type": "code",
   "execution_count": 18,
   "id": "fc106b19",
   "metadata": {},
   "outputs": [],
   "source": [
    "def find_euclidean_distances(sim_matrix, index, n=10): \n",
    "\n",
    "    # Getting Score and Index\n",
    "    result = list(enumerate(sim_matrix[index]))\n",
    "\n",
    "    # Sorting the Score and taking top 10 products\n",
    "    sorted_result = sorted(result,key=lambda x:x[1],reverse=False)[1:10+1]\n",
    "\n",
    "    # Mapping index with data\n",
    "    similar_products =  [{'value': unique_df.iloc[x[0]]['Product Name'], 'score' : round(x[1], 2)} for x in sorted_result]\n",
    "    \n",
    "    return similar_products"
   ]
  },
  {
   "cell_type": "code",
   "execution_count": 19,
   "id": "1414544a",
   "metadata": {},
   "outputs": [],
   "source": [
    "def find_similarity(cosine_sim_matrix, index, n=10):\n",
    "    \n",
    "    # calculate cosine similarity between each vectors\n",
    "    result = list(enumerate(cosine_sim_matrix[index]))\n",
    "    \n",
    "    # Sorting the Score\n",
    "    sorted_result = sorted(result,key=lambda x:x[1],reverse=True)[1:n+1]\n",
    "    \n",
    "    similar_products =  [{'value': unique_df.iloc[x[0]]['Product Name'], 'score' : round(x[1], 2)} for x in sorted_result]\n",
    "     \n",
    "    return similar_products\n"
   ]
  },
  {
   "cell_type": "code",
   "execution_count": 20,
   "id": "0e4deecd",
   "metadata": {},
   "outputs": [],
   "source": [
    "def find_manhattan_distance(sim_matrix, index, n=10):   \n",
    "     \n",
    "    # Getting Score and Index\n",
    "    result = list(enumerate(sim_matrix[index]))\n",
    "\n",
    "    # Sorting the Score and taking top 10 products\n",
    "    sorted_result = sorted(result,key=lambda x:x[1],reverse=False)[1:10+1]\n",
    "    \n",
    "    # Mapping index with data\n",
    "    similar_products =  [{'value': unique_df.iloc[x[0]]['Product Name'], 'score' : round(x[1], 2)} for x in sorted_result]\n",
    "    \n",
    "    return similar_products"
   ]
  },
  {
   "cell_type": "code",
   "execution_count": 24,
   "id": "815c6714",
   "metadata": {},
   "outputs": [],
   "source": [
    "def get_recommendation_cv(product_id, df, similarity, n=10):\n",
    "\n",
    "    row = df.loc[df['Product Name'] == product_id]\n",
    "    index = list(row.index)[0]\n",
    "    description = row['desc_lower'].loc[index]\n",
    "\n",
    "    #Create vector using Count Vectorizer\n",
    "\n",
    "    count_vector = count_vectorizer.fit_transform(desc_list)\n",
    "    \n",
    "    if similarity == \"cosine\":\n",
    "        sim_matrix = cosine_similarity(count_vector)\n",
    "        products = find_similarity(sim_matrix , index)\n",
    "        \n",
    "    elif similarity == \"manhattan\":\n",
    "        sim_matrix = manhattan_distances(count_vector)\n",
    "        products = find_manhattan_distance(sim_matrix , index)\n",
    "        \n",
    "    else:\n",
    "        sim_matrix = euclidean_distances(count_vector)\n",
    "        products = find_euclidean_distances(sim_matrix , index)\n",
    "\n",
    "    return products"
   ]
  },
  {
   "cell_type": "code",
   "execution_count": 27,
   "id": "9b1abdf2",
   "metadata": {},
   "outputs": [
    {
     "data": {
      "text/plain": [
       "[{'value': 'Fancyleo Christmas Glasses Frames 2 Pack Glittered Eyeglasses Glasses Set No Lens Kids Family Xmas Party Ornaments Gift',\n",
       "  'score': 0.28},\n",
       " {'value': 'storefront christmas LED Decoration Light Gold Color Star Shape Vine Wedding Party event',\n",
       "  'score': 0.2},\n",
       " {'value': '16 inches 40 inches \"MERRY CHRISTMAS\" Letter Foil Inflated Balloon Float Helium Aluminum Balloons for Christmas Decoration',\n",
       "  'score': 0.19},\n",
       " {'value': '12ct Light Gunmetal Gray Shatterproof 4-Finish Christmas Ball Ornaments 4\" (100mm)',\n",
       "  'score': 0.19},\n",
       " {'value': 'PeanutsÃƒâ€šÃ‚ Valentine Sign Craft Kit (Pack of 12)',\n",
       "  'score': 0.13},\n",
       " {'value': 'Simplicity 3 Pack Elastic Hair Ties White/Pink/Pink Leopard, 24 Count',\n",
       "  'score': 0.13},\n",
       " {'value': '3 Pack Newbee Fashion- \"Butterfly\" Thin Design Gold Emblem Reading Glasses with Lanyard +1.75',\n",
       "  'score': 0.12},\n",
       " {'value': 'Paper Mate Write Bros. Grip Mechanical Pencil, 0.7mm 5 ea (Pack of 2)',\n",
       "  'score': 0.11},\n",
       " {'value': 'Christopher Radko Glass Plum Frosty Snowman Christmas Ornament #1017624',\n",
       "  'score': 0.11},\n",
       " {'value': 'Is It To Late To Be Good Grinch Christmas Mens Tank Top Shirt',\n",
       "  'score': 0.11}]"
      ]
     },
     "execution_count": 27,
     "metadata": {},
     "output_type": "execute_result"
    }
   ],
   "source": [
    "# Cosine Similarity \n",
    "product_id = 'Vickerman 14\" Finial Drop Christmas Ornaments, Pack of 2'\n",
    "get_recommendation_cv(product_id, unique_df, similarity = \"cosine\", n=10)\n"
   ]
  },
  {
   "cell_type": "code",
   "execution_count": 28,
   "id": "04ff2656",
   "metadata": {},
   "outputs": [
    {
     "data": {
      "text/plain": [
       "[{'value': 'Stepping Stones', 'score': 43.0},\n",
       " {'value': 'Global Portuguese', 'score': 43.0},\n",
       " {'value': 'Polo Blue by Ralph Lauren', 'score': 43.0},\n",
       " {'value': 'Auburn Leathercrafters Tuscany Leather Dog Collar', 'score': 45.0},\n",
       " {'value': 'Leftover Salmon', 'score': 45.0},\n",
       " {'value': 'Good (Vinyl)', 'score': 45.0},\n",
       " {'value': 'Drunken Monkeys', 'score': 45.0},\n",
       " {'value': 'DuraTech Roof Support Trim', 'score': 47.0},\n",
       " {'value': 'Amerlite Niche Sealing Ring', 'score': 47.0},\n",
       " {'value': 'Learning and Performance in Corrections', 'score': 47.0}]"
      ]
     },
     "execution_count": 28,
     "metadata": {},
     "output_type": "execute_result"
    }
   ],
   "source": [
    "# Manhattan Similarity \n",
    "get_recommendation_cv(product_id, unique_df, similarity = \"manhattan\", n=10)"
   ]
  },
  {
   "cell_type": "code",
   "execution_count": 29,
   "id": "e5ee4d3f",
   "metadata": {},
   "outputs": [
    {
     "data": {
      "text/plain": [
       "[{'value': 'Polo Blue by Ralph Lauren', 'score': 9.0},\n",
       " {'value': 'Auburn Leathercrafters Tuscany Leather Dog Collar', 'score': 9.11},\n",
       " {'value': 'Global Portuguese', 'score': 9.11},\n",
       " {'value': 'Stepping Stones', 'score': 9.22},\n",
       " {'value': 'Always in My Heart', 'score': 9.22},\n",
       " {'value': 'Leftover Salmon', 'score': 9.22},\n",
       " {'value': 'Good (Vinyl)', 'score': 9.22},\n",
       " {'value': 'Drunken Monkeys', 'score': 9.22},\n",
       " {'value': 'Learning and Performance in Corrections', 'score': 9.43},\n",
       " {'value': 'Chasing Hamburg (Vinyl)', 'score': 9.43}]"
      ]
     },
     "execution_count": 29,
     "metadata": {},
     "output_type": "execute_result"
    }
   ],
   "source": [
    "# Euclidean Similarity \n",
    "get_recommendation_cv(product_id, unique_df, similarity = \"euclidean\", n=10)"
   ]
  },
  {
   "cell_type": "code",
   "execution_count": 34,
   "id": "4171dfeb",
   "metadata": {},
   "outputs": [],
   "source": [
    "# Comparing similarity to get the top matches using TF-IDF\n",
    "\n",
    "def get_recommendation_tfidf(product_id, df, similarity, n=10):\n",
    "\n",
    "    row = df.loc[df['Product Name'] == product_id]\n",
    "    index = list(row.index)[0]\n",
    "    description = row['desc_lower'].loc[index]\n",
    "\n",
    "    #Create vector using tfidf\n",
    "    \n",
    "    tfidf_matrix = tfidf.fit_transform(desc_list)\n",
    "    \n",
    "    if similarity == \"cosine\":\n",
    "        sim_matrix = cosine_similarity(tfidf_matrix)\n",
    "        products = find_similarity(sim_matrix , index)\n",
    "        \n",
    "    elif similarity == \"manhattan\":\n",
    "        sim_matrix = manhattan_distances(tfidf_matrix)\n",
    "        products = find_manhattan_distance(sim_matrix , index)\n",
    "        \n",
    "    else:\n",
    "        sim_matrix = euclidean_distances(tfidf_matrix)\n",
    "        products = find_euclidean_distances(sim_matrix , index)\n",
    "\n",
    "    return products"
   ]
  },
  {
   "cell_type": "code",
   "execution_count": 35,
   "id": "2cfe592b",
   "metadata": {},
   "outputs": [
    {
     "data": {
      "text/plain": [
       "[{'value': 'Fancyleo Christmas Glasses Frames 2 Pack Glittered Eyeglasses Glasses Set No Lens Kids Family Xmas Party Ornaments Gift',\n",
       "  'score': 0.07},\n",
       " {'value': 'storefront christmas LED Decoration Light Gold Color Star Shape Vine Wedding Party event',\n",
       "  'score': 0.05},\n",
       " {'value': '12ct Light Gunmetal Gray Shatterproof 4-Finish Christmas Ball Ornaments 4\" (100mm)',\n",
       "  'score': 0.05},\n",
       " {'value': '16 inches 40 inches \"MERRY CHRISTMAS\" Letter Foil Inflated Balloon Float Helium Aluminum Balloons for Christmas Decoration',\n",
       "  'score': 0.05},\n",
       " {'value': 'Is It To Late To Be Good Grinch Christmas Mens Tank Top Shirt',\n",
       "  'score': 0.02},\n",
       " {'value': 'Christopher Radko Glass Plum Frosty Snowman Christmas Ornament #1017624',\n",
       "  'score': 0.02},\n",
       " {'value': 'CMFUN Watercolor Brush Creative Flower Made with Ink Hand Painting for Your Designs Pillowcase 20x20 inch',\n",
       "  'score': 0.02},\n",
       " {'value': 'SKIN DECAL FOR OtterBox Symmetry Samsung Galaxy S7 Case - Christmas Snowflake Blue Ornaments DECAL, NOT A CASE',\n",
       "  'score': 0.02},\n",
       " {'value': \"Santa's Workshop Illinois Mascot and Flag Nutcracker\",\n",
       "  'score': 0.02},\n",
       " {'value': 'The Holiday Aisle LED C7 Faceted Christmas Light Bulb',\n",
       "  'score': 0.02}]"
      ]
     },
     "execution_count": 35,
     "metadata": {},
     "output_type": "execute_result"
    }
   ],
   "source": [
    "# Cosine Similarity \n",
    "get_recommendation_tfidf(product_id, unique_df, similarity = \"cosine\", n=10)\n"
   ]
  },
  {
   "cell_type": "code",
   "execution_count": 36,
   "id": "8de626f9",
   "metadata": {},
   "outputs": [
    {
     "data": {
      "text/plain": [
       "[{'value': 'Stepping Stones', 'score': 11.05},\n",
       " {'value': 'Global Portuguese', 'score': 11.42},\n",
       " {'value': 'Polo Blue by Ralph Lauren', 'score': 11.68},\n",
       " {'value': 'DuraTech Roof Support Trim', 'score': 12.06},\n",
       " {'value': 'Silver Metallic Foil Streamers', 'score': 12.07},\n",
       " {'value': 'Pro Pinstripe Jersey Sleeveles', 'score': 12.07},\n",
       " {'value': 'Amerlite Niche Sealing Ring', 'score': 12.07},\n",
       " {'value': 'Leftover Salmon', 'score': 12.3},\n",
       " {'value': 'Drunken Monkeys', 'score': 12.32},\n",
       " {'value': \"Alfred's Drum Method, Book 1\", 'score': 12.41}]"
      ]
     },
     "execution_count": 36,
     "metadata": {},
     "output_type": "execute_result"
    }
   ],
   "source": [
    "# Manhattan Similarity \n",
    "get_recommendation_tfidf(product_id, unique_df, similarity = \"manhattan\", n=10)\n"
   ]
  },
  {
   "cell_type": "code",
   "execution_count": 37,
   "id": "fcae9121",
   "metadata": {},
   "outputs": [
    {
     "data": {
      "text/plain": [
       "[{'value': 'Fancyleo Christmas Glasses Frames 2 Pack Glittered Eyeglasses Glasses Set No Lens Kids Family Xmas Party Ornaments Gift',\n",
       "  'score': 1.37},\n",
       " {'value': 'storefront christmas LED Decoration Light Gold Color Star Shape Vine Wedding Party event',\n",
       "  'score': 1.38},\n",
       " {'value': '12ct Light Gunmetal Gray Shatterproof 4-Finish Christmas Ball Ornaments 4\" (100mm)',\n",
       "  'score': 1.38},\n",
       " {'value': '16 inches 40 inches \"MERRY CHRISTMAS\" Letter Foil Inflated Balloon Float Helium Aluminum Balloons for Christmas Decoration',\n",
       "  'score': 1.38},\n",
       " {'value': 'Is It To Late To Be Good Grinch Christmas Mens Tank Top Shirt',\n",
       "  'score': 1.4},\n",
       " {'value': 'Christopher Radko Glass Plum Frosty Snowman Christmas Ornament #1017624',\n",
       "  'score': 1.4},\n",
       " {'value': 'CMFUN Watercolor Brush Creative Flower Made with Ink Hand Painting for Your Designs Pillowcase 20x20 inch',\n",
       "  'score': 1.4},\n",
       " {'value': 'SKIN DECAL FOR OtterBox Symmetry Samsung Galaxy S7 Case - Christmas Snowflake Blue Ornaments DECAL, NOT A CASE',\n",
       "  'score': 1.4},\n",
       " {'value': \"Santa's Workshop Illinois Mascot and Flag Nutcracker\",\n",
       "  'score': 1.4},\n",
       " {'value': 'The Holiday Aisle LED C7 Faceted Christmas Light Bulb',\n",
       "  'score': 1.4}]"
      ]
     },
     "execution_count": 37,
     "metadata": {},
     "output_type": "execute_result"
    }
   ],
   "source": [
    "# Euclidean Similarity \n",
    "get_recommendation_tfidf(product_id, unique_df, similarity = \"euclidean\", n=10)\n"
   ]
  },
  {
   "cell_type": "code",
   "execution_count": 40,
   "id": "23a2e24d",
   "metadata": {},
   "outputs": [],
   "source": [
    "def get_recommendation_word2vec(product_id, df, similarity, n=10):\n",
    "    \n",
    "    row = df.loc[df['Product Name'] == product_id]\n",
    "    input_index = list(row.index)[0]\n",
    "    description = row['desc_lower'].loc[input_index]\n",
    "\n",
    "    #create vectors for each desc using word2vec\n",
    "    vector_matrix = np.empty((len(desc_list), 300))\n",
    "    for index, each_sentence in enumerate(desc_list):\n",
    "        sentence_vector = np.zeros((300,))\n",
    "        count  = 0\n",
    "        for each_word in each_sentence.split():\n",
    "            try:\n",
    "                sentence_vector += word2vecModel[each_word]\n",
    "                count += 1\n",
    "            except:\n",
    "                continue\n",
    "        \n",
    "        vector_matrix[index] = sentence_vector\n",
    "        \n",
    "    \n",
    "    if similarity == \"cosine\":\n",
    "        sim_matrix = cosine_similarity(vector_matrix)\n",
    "        products = find_similarity(sim_matrix , input_index)\n",
    "        \n",
    "    elif similarity == \"manhattan\":\n",
    "        sim_matrix = manhattan_distances(vector_matrix)\n",
    "        products = find_manhattan_distance(sim_matrix , input_index)\n",
    "        \n",
    "    else:\n",
    "        sim_matrix = euclidean_distances(vector_matrix)\n",
    "        products = find_euclidean_distances(sim_matrix , input_index)\n",
    "\n",
    "    return products"
   ]
  },
  {
   "cell_type": "code",
   "execution_count": 41,
   "id": "0c3a2d5f",
   "metadata": {},
   "outputs": [
    {
     "data": {
      "text/plain": [
       "[{'value': 'Fancyleo Christmas Glasses Frames 2 Pack Glittered Eyeglasses Glasses Set No Lens Kids Family Xmas Party Ornaments Gift',\n",
       "  'score': 0.85},\n",
       " {'value': 'Red Gift Wrap Bag by K-Kraft (Festive Red Stripes, 13 x 17.5 inches)',\n",
       "  'score': 0.85},\n",
       " {'value': '12 Pcs 3D Butterfly Stickers DIY Mural Art Decal Wall Stickers Crafts Wall Paper Decor (Yellow Series)',\n",
       "  'score': 0.84},\n",
       " {'value': 'Cat Mod Garden Complex - Unfinished/Black', 'score': 0.83},\n",
       " {'value': 'Three Things That Makes Good Coffee: Sugar, Sugar and More Sugar Wall Decal - wall decal, sticker, quotes and sayings - W5082 - Light pink, 35in x 18in',\n",
       "  'score': 0.82},\n",
       " {'value': 'Halloween Bats Wall Decal - Wall Sticker, Vinyl Wall Art, Home Decor, Wall Mural - W5014 - Royal blue, 16in x 10in',\n",
       "  'score': 0.82},\n",
       " {'value': 'Hibiscus Flowers Wall Decal - Wall Sticker, Vinyl Wall Art, Home Decor, Wall Mural - 2186 - 8in x 19in, Dark green',\n",
       "  'score': 0.82},\n",
       " {'value': 'Abstract Heart Plant Wall Decal - Wall Sticker, Vinyl Wall Art, Home Decor, Wall Mural - S125 - 12in x 13in, Royal blue',\n",
       "  'score': 0.82},\n",
       " {'value': 'Ecclesiastes 8:15 so I commend the enjoymentÃ¢â‚¬Â¦ Vinyl Decal Sticker Quote - Small - Metallic Gold',\n",
       "  'score': 0.82},\n",
       " {'value': 'Pterosaur Wall Decal - dinosaur wall decal, sticker, mural vinyl art home decor - 3765 - Orange, 47in x 24in',\n",
       "  'score': 0.82}]"
      ]
     },
     "execution_count": 41,
     "metadata": {},
     "output_type": "execute_result"
    }
   ],
   "source": [
    "# Cosine Similarity \n",
    "get_recommendation_word2vec(product_id, unique_df, similarity = \"cosine\", n=10)\n"
   ]
  },
  {
   "cell_type": "code",
   "execution_count": 42,
   "id": "81502f17",
   "metadata": {},
   "outputs": [
    {
     "data": {
      "text/plain": [
       "[{'value': 'storefront christmas LED Decoration Light Gold Color Star Shape Vine Wedding Party event',\n",
       "  'score': 458.13},\n",
       " {'value': '8 1/2 x 14 Cardstock - Crystal Metallic (500 Qty.)',\n",
       "  'score': 488.19},\n",
       " {'value': 'Cavalier Spaniel St. Patricks Day Shamrock Mouse Pad&#44; Hot Pad Or Trivet',\n",
       "  'score': 497.0},\n",
       " {'value': \"Call of the Wild Howling the Full Moon Women's Racerback Alpha Wolf\",\n",
       "  'score': 509.22},\n",
       " {'value': 'Fringe Table Skirt Purple 9 ft x 29 inches Pkg/1',\n",
       "  'score': 516.08},\n",
       " {'value': 'Trend Enterprises T-83315 1.25 in. Holiday Pals & Peppermint Scratch N Sniff Stinky Stickers&#44; Large Round',\n",
       "  'score': 522.0},\n",
       " {'value': \"Allwitty 1039 - Women's T-Shirt Ipac Pistol Gun Apple Iphone Parody\",\n",
       "  'score': 525.03},\n",
       " {'value': 'Clear 18 Note Acrylic Box Musical Paperweight - Light My Fire',\n",
       "  'score': 526.08},\n",
       " {'value': 'Handcrafted Ercolano Music Box Featuring \"Luncheon of the Boating Party\" by Renoir, Pierre Auguste - New YorkNew York',\n",
       "  'score': 527.88},\n",
       " {'value': 'Platinum 5 mm Comfort Fit Half Round Wedding Band - Size 9.5',\n",
       "  'score': 528.08}]"
      ]
     },
     "execution_count": 42,
     "metadata": {},
     "output_type": "execute_result"
    }
   ],
   "source": [
    "# Manhattan Similarity \n",
    "get_recommendation_word2vec(product_id, unique_df, similarity = \"manhattan\", n=10)\n"
   ]
  },
  {
   "cell_type": "code",
   "execution_count": 43,
   "id": "2f919fcb",
   "metadata": {},
   "outputs": [
    {
     "data": {
      "text/plain": [
       "[{'value': 'storefront christmas LED Decoration Light Gold Color Star Shape Vine Wedding Party event',\n",
       "  'score': 32.76},\n",
       " {'value': '8 1/2 x 14 Cardstock - Crystal Metallic (500 Qty.)',\n",
       "  'score': 34.82},\n",
       " {'value': 'Cavalier Spaniel St. Patricks Day Shamrock Mouse Pad&#44; Hot Pad Or Trivet',\n",
       "  'score': 35.78},\n",
       " {'value': \"Call of the Wild Howling the Full Moon Women's Racerback Alpha Wolf\",\n",
       "  'score': 36.09},\n",
       " {'value': 'Fringe Table Skirt Purple 9 ft x 29 inches Pkg/1', 'score': 36.28},\n",
       " {'value': \"New Way 075 - Men's Sleeveless Fbi Female Body Inspector\",\n",
       "  'score': 37.43},\n",
       " {'value': 'Trend Enterprises T-83315 1.25 in. Holiday Pals & Peppermint Scratch N Sniff Stinky Stickers&#44; Large Round',\n",
       "  'score': 37.51},\n",
       " {'value': 'Platinum 5 mm Comfort Fit Half Round Wedding Band - Size 9.5',\n",
       "  'score': 37.6},\n",
       " {'value': 'Christmas Presents Between Friends Chinese Crested Black Sticky Note Holder',\n",
       "  'score': 37.78},\n",
       " {'value': 'Tulane Green Wave Muscle Mug', 'score': 37.85}]"
      ]
     },
     "execution_count": 43,
     "metadata": {},
     "output_type": "execute_result"
    }
   ],
   "source": [
    "# Euclidean Similarity \n",
    "get_recommendation_word2vec(product_id, unique_df, similarity = \"euclidean\", n=10)\n"
   ]
  },
  {
   "cell_type": "code",
   "execution_count": 44,
   "id": "2e7f4107",
   "metadata": {},
   "outputs": [],
   "source": [
    "# Comparing similarity to get the top matches using Glove pretrained model\n",
    "\n",
    "def get_recommendation_glove(product_id, df, similarity, n=10):\n",
    "\n",
    "    row = df.loc[df['Product Name'] == product_id]\n",
    "    input_index = list(row.index)[0]\n",
    "    description = row['desc_lower'].loc[input_index]\n",
    "\n",
    "    #using glove embeddings to create vectors\n",
    "    vector_matrix = np.empty((len(desc_list), 300))\n",
    "    for index, each_sentence in enumerate(desc_list):\n",
    "        sentence_vector = np.zeros((300,))\n",
    "        count  = 0\n",
    "        for each_word in each_sentence.split():\n",
    "            try:\n",
    "                sentence_vector += glove_model[each_word]\n",
    "                count += 1\n",
    "                \n",
    "            except:\n",
    "                continue\n",
    "        \n",
    "        vector_matrix[index] = sentence_vector\n",
    "    \n",
    "    \n",
    "    if similarity == \"cosine\":\n",
    "        sim_matrix = cosine_similarity(vector_matrix)\n",
    "        products = find_similarity(sim_matrix , input_index)\n",
    "        \n",
    "    elif similarity == \"manhattan\":\n",
    "        sim_matrix = manhattan_distances(vector_matrix)\n",
    "        products = find_manhattan_distance(sim_matrix , input_index)\n",
    "        \n",
    "    else:\n",
    "        sim_matrix = euclidean_distances(vector_matrix)\n",
    "        products = find_euclidean_distances(sim_matrix , input_index)\n",
    "\n",
    "    return products\n"
   ]
  },
  {
   "cell_type": "code",
   "execution_count": 45,
   "id": "43f5f567",
   "metadata": {},
   "outputs": [
    {
     "data": {
      "text/plain": [
       "[{'value': 'Red Gift Wrap Bag by K-Kraft (Festive Red Stripes, 13 x 17.5 inches)',\n",
       "  'score': 0.94},\n",
       " {'value': 'Cat Mod Garden Complex - Unfinished/Black', 'score': 0.93},\n",
       " {'value': 'CafePress - FIN Nuts Squirrel - Cute Infant Baby Football Bodysuit',\n",
       "  'score': 0.93},\n",
       " {'value': 'American Foxhound Christmas Sticky Note Holder BB8433SN',\n",
       "  'score': 0.93},\n",
       " {'value': 'CHAIM Street Sign Childrens Name Room Sign | Indoor/Outdoor | Â\\xa024\" Wide',\n",
       "  'score': 0.93},\n",
       " {'value': 'All Weather Cornhole Bags - Set of 8', 'score': 0.93},\n",
       " {'value': '12 Pcs 3D Butterfly Stickers DIY Mural Art Decal Wall Stickers Crafts Wall Paper Decor (Yellow Series)',\n",
       "  'score': 0.93},\n",
       " {'value': 'MightySkins Skin for Fitbit Charge 3 - Cartoon Mania | Protective, Durable, and Unique Vinyl Decal wrap cover | Easy To Apply, Remove, and Change Styles | Made in the USA',\n",
       "  'score': 0.93},\n",
       " {'value': 'Ecclesiastes 8:15 so I commend the enjoymentÃ¢â‚¬Â¦ Vinyl Decal Sticker Quote - Small - Metallic Gold',\n",
       "  'score': 0.93},\n",
       " {'value': 'Fancyleo Christmas Glasses Frames 2 Pack Glittered Eyeglasses Glasses Set No Lens Kids Family Xmas Party Ornaments Gift',\n",
       "  'score': 0.93}]"
      ]
     },
     "execution_count": 45,
     "metadata": {},
     "output_type": "execute_result"
    }
   ],
   "source": [
    "# Cosine Similarity \n",
    "get_recommendation_glove(product_id, unique_df, similarity = \"cosine\", n=10)\n"
   ]
  },
  {
   "cell_type": "code",
   "execution_count": 47,
   "id": "bd5d9c59",
   "metadata": {},
   "outputs": [
    {
     "data": {
      "text/plain": [
       "[{'value': 'Is It To Late To Be Good Grinch Christmas Mens Tank Top Shirt',\n",
       "  'score': 1187.12},\n",
       " {'value': 'Platinum 5 mm Comfort Fit Half Round Wedding Band - Size 9.5',\n",
       "  'score': 1191.95},\n",
       " {'value': \"New Way 075 - Men's Sleeveless Fbi Female Body Inspector\",\n",
       "  'score': 1202.32},\n",
       " {'value': 'storefront christmas LED Decoration Light Gold Color Star Shape Vine Wedding Party event',\n",
       "  'score': 1211.6},\n",
       " {'value': '8 1/2 x 14 Cardstock - Crystal Metallic (500 Qty.)',\n",
       "  'score': 1232.94},\n",
       " {'value': \"Allwitty 1039 - Women's T-Shirt Ipac Pistol Gun Apple Iphone Parody\",\n",
       "  'score': 1234.72},\n",
       " {'value': \"Call of the Wild Howling the Full Moon Women's Racerback Alpha Wolf\",\n",
       "  'score': 1240.1},\n",
       " {'value': '031 - Unisex Long-Sleeve T-Shirt Disobey V For Vendetta Anonymous Fawkes Mask',\n",
       "  'score': 1252.5},\n",
       " {'value': 'Skin Decal For Beats By Dr. Dre Beats Pill Plus / Sugar Skull Girl',\n",
       "  'score': 1256.38},\n",
       " {'value': \"1042 - Unisex Long-Sleeve T-Shirt Free Hugs And Maybe A Kiss If You're Lucky\",\n",
       "  'score': 1258.73}]"
      ]
     },
     "execution_count": 47,
     "metadata": {},
     "output_type": "execute_result"
    }
   ],
   "source": [
    "# Manhattan Similarity \n",
    "get_recommendation_glove(product_id, unique_df, similarity = \"manhattan\", n=10)\n"
   ]
  },
  {
   "cell_type": "code",
   "execution_count": null,
   "id": "413fd515",
   "metadata": {},
   "outputs": [],
   "source": []
  }
 ],
 "metadata": {
  "kernelspec": {
   "display_name": "Python 3 (ipykernel)",
   "language": "python",
   "name": "python3"
  },
  "language_info": {
   "codemirror_mode": {
    "name": "ipython",
    "version": 3
   },
   "file_extension": ".py",
   "mimetype": "text/x-python",
   "name": "python",
   "nbconvert_exporter": "python",
   "pygments_lexer": "ipython3",
   "version": "3.9.7"
  }
 },
 "nbformat": 4,
 "nbformat_minor": 5
}
