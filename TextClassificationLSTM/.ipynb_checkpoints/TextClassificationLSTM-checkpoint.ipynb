{
 "cells": [
  {
   "cell_type": "markdown",
   "id": "9b460a2f",
   "metadata": {},
   "source": [
    "# LSTM Text Classification"
   ]
  },
  {
   "cell_type": "markdown",
   "id": "e52b2ffd",
   "metadata": {},
   "source": [
    "LSTM are a class of RNNs that are capable of learning long-term dependencies with feedback connections. In this project we use an LSTM model for classifying app review on a scale of 1 to 5.\n",
    "\n",
    "This project focuses on text analytics which is the process of deriving high quality information from text."
   ]
  },
  {
   "cell_type": "markdown",
   "id": "84ad5967",
   "metadata": {},
   "source": [
    "Data link: https://www.kaggle.com/datasets/prakharrathi25/google-play-store-reviews"
   ]
  },
  {
   "cell_type": "code",
   "execution_count": 1,
   "id": "a6b1df28",
   "metadata": {},
   "outputs": [],
   "source": [
    "#Get required libraries\n",
    "import re\n",
    "import nltk\n",
    "import time\n",
    "import torch\n",
    "import string\n",
    "import numpy as np\n",
    "import pandas as pd\n",
    "import torch.nn as nn"
   ]
  },
  {
   "cell_type": "code",
   "execution_count": 2,
   "id": "bb39ad58",
   "metadata": {},
   "outputs": [],
   "source": [
    "# Ignore all warnings\n",
    "import warnings\n",
    "warnings.filterwarnings('ignore')\n",
    "warnings.filterwarnings(action='ignore')"
   ]
  },
  {
   "cell_type": "code",
   "execution_count": 3,
   "id": "403d85f6",
   "metadata": {},
   "outputs": [
    {
     "name": "stderr",
     "output_type": "stream",
     "text": [
      "[nltk_data] Downloading package stopwords to\n",
      "[nltk_data]     C:\\Users\\uzmam\\AppData\\Roaming\\nltk_data...\n",
      "[nltk_data]   Package stopwords is already up-to-date!\n"
     ]
    },
    {
     "data": {
      "text/plain": [
       "True"
      ]
     },
     "execution_count": 3,
     "metadata": {},
     "output_type": "execute_result"
    }
   ],
   "source": [
    "nltk.download('stopwords')"
   ]
  },
  {
   "cell_type": "code",
   "execution_count": 4,
   "id": "eaa7d609",
   "metadata": {},
   "outputs": [],
   "source": [
    "from nltk import PorterStemmer\n",
    "import torch.nn.functional as F\n",
    "import matplotlib.pyplot as plt\n",
    "from nltk.corpus import stopwords\n",
    "from sklearn.utils import resample\n",
    "from sklearn.model_selection import train_test_split\n"
   ]
  },
  {
   "cell_type": "code",
   "execution_count": 5,
   "id": "a6502ba6",
   "metadata": {},
   "outputs": [
    {
     "data": {
      "text/html": [
       "<div>\n",
       "<style scoped>\n",
       "    .dataframe tbody tr th:only-of-type {\n",
       "        vertical-align: middle;\n",
       "    }\n",
       "\n",
       "    .dataframe tbody tr th {\n",
       "        vertical-align: top;\n",
       "    }\n",
       "\n",
       "    .dataframe thead th {\n",
       "        text-align: right;\n",
       "    }\n",
       "</style>\n",
       "<table border=\"1\" class=\"dataframe\">\n",
       "  <thead>\n",
       "    <tr style=\"text-align: right;\">\n",
       "      <th></th>\n",
       "      <th>reviewId</th>\n",
       "      <th>userName</th>\n",
       "      <th>userImage</th>\n",
       "      <th>content</th>\n",
       "      <th>score</th>\n",
       "      <th>thumbsUpCount</th>\n",
       "      <th>reviewCreatedVersion</th>\n",
       "      <th>at</th>\n",
       "      <th>replyContent</th>\n",
       "      <th>repliedAt</th>\n",
       "    </tr>\n",
       "  </thead>\n",
       "  <tbody>\n",
       "    <tr>\n",
       "      <th>0</th>\n",
       "      <td>gp:AOqpTOFxf3fttcT5DSvFIn9KPp5FErgH9yC533Fmoxv...</td>\n",
       "      <td>Donna Caritero</td>\n",
       "      <td>https://play-lh.googleusercontent.com/a-/AOh14...</td>\n",
       "      <td>Overall it's really an amazing app. I've been ...</td>\n",
       "      <td>4</td>\n",
       "      <td>528</td>\n",
       "      <td>2.116.0</td>\n",
       "      <td>2021-06-17 07:18:54</td>\n",
       "      <td>Hi Donna. We are sorry that your text or desig...</td>\n",
       "      <td>2021-06-19 21:24:32</td>\n",
       "    </tr>\n",
       "    <tr>\n",
       "      <th>1</th>\n",
       "      <td>gp:AOqpTOEq6rNIWLnPV4KFTctWvm0mpGEQljtD6mvy1H-...</td>\n",
       "      <td>Soumi Mukhopadhyay</td>\n",
       "      <td>https://play-lh.googleusercontent.com/a-/AOh14...</td>\n",
       "      <td>Hey! Yes I gave a 5 star rating... coz I belie...</td>\n",
       "      <td>5</td>\n",
       "      <td>351</td>\n",
       "      <td>2.116.0</td>\n",
       "      <td>2021-06-17 19:18:28</td>\n",
       "      <td>NaN</td>\n",
       "      <td>NaN</td>\n",
       "    </tr>\n",
       "    <tr>\n",
       "      <th>2</th>\n",
       "      <td>gp:AOqpTOE86hSyPRHZgYt28Uk5zGe4FZGb1hkmtFDiYJ2...</td>\n",
       "      <td>Theknown _unknown</td>\n",
       "      <td>https://play-lh.googleusercontent.com/a-/AOh14...</td>\n",
       "      <td>Canva used to be a good app! But recently I've...</td>\n",
       "      <td>1</td>\n",
       "      <td>160</td>\n",
       "      <td>2.116.0</td>\n",
       "      <td>2021-06-23 19:13:28</td>\n",
       "      <td>Hi there. We're sorry to hear that you are hav...</td>\n",
       "      <td>2021-06-26 20:20:56</td>\n",
       "    </tr>\n",
       "    <tr>\n",
       "      <th>3</th>\n",
       "      <td>gp:AOqpTOHSuKkVTcM3QgCCKysHQlxEnk2ocOKsUMiMIJy...</td>\n",
       "      <td>Anthony Dean</td>\n",
       "      <td>https://play-lh.googleusercontent.com/a/AATXAJ...</td>\n",
       "      <td>It's a brilliant app, but I have just one prob...</td>\n",
       "      <td>5</td>\n",
       "      <td>145</td>\n",
       "      <td>2.116.0</td>\n",
       "      <td>2021-06-19 23:36:07</td>\n",
       "      <td>NaN</td>\n",
       "      <td>NaN</td>\n",
       "    </tr>\n",
       "    <tr>\n",
       "      <th>4</th>\n",
       "      <td>gp:AOqpTOEOrZt5H6jXPiplJyffCd5ZBnVXACTWgwNsF1R...</td>\n",
       "      <td>Neha Diana Wesley</td>\n",
       "      <td>https://play-lh.googleusercontent.com/a-/AOh14...</td>\n",
       "      <td>This was such a great app. I used to make BTS ...</td>\n",
       "      <td>4</td>\n",
       "      <td>142</td>\n",
       "      <td>2.116.0</td>\n",
       "      <td>2021-06-21 00:29:27</td>\n",
       "      <td>Hi Neha. Sorry to hear that you are unable to ...</td>\n",
       "      <td>2021-06-24 20:46:28</td>\n",
       "    </tr>\n",
       "  </tbody>\n",
       "</table>\n",
       "</div>"
      ],
      "text/plain": [
       "                                            reviewId            userName  \\\n",
       "0  gp:AOqpTOFxf3fttcT5DSvFIn9KPp5FErgH9yC533Fmoxv...      Donna Caritero   \n",
       "1  gp:AOqpTOEq6rNIWLnPV4KFTctWvm0mpGEQljtD6mvy1H-...  Soumi Mukhopadhyay   \n",
       "2  gp:AOqpTOE86hSyPRHZgYt28Uk5zGe4FZGb1hkmtFDiYJ2...   Theknown _unknown   \n",
       "3  gp:AOqpTOHSuKkVTcM3QgCCKysHQlxEnk2ocOKsUMiMIJy...        Anthony Dean   \n",
       "4  gp:AOqpTOEOrZt5H6jXPiplJyffCd5ZBnVXACTWgwNsF1R...   Neha Diana Wesley   \n",
       "\n",
       "                                           userImage  \\\n",
       "0  https://play-lh.googleusercontent.com/a-/AOh14...   \n",
       "1  https://play-lh.googleusercontent.com/a-/AOh14...   \n",
       "2  https://play-lh.googleusercontent.com/a-/AOh14...   \n",
       "3  https://play-lh.googleusercontent.com/a/AATXAJ...   \n",
       "4  https://play-lh.googleusercontent.com/a-/AOh14...   \n",
       "\n",
       "                                             content  score  thumbsUpCount  \\\n",
       "0  Overall it's really an amazing app. I've been ...      4            528   \n",
       "1  Hey! Yes I gave a 5 star rating... coz I belie...      5            351   \n",
       "2  Canva used to be a good app! But recently I've...      1            160   \n",
       "3  It's a brilliant app, but I have just one prob...      5            145   \n",
       "4  This was such a great app. I used to make BTS ...      4            142   \n",
       "\n",
       "  reviewCreatedVersion                   at  \\\n",
       "0              2.116.0  2021-06-17 07:18:54   \n",
       "1              2.116.0  2021-06-17 19:18:28   \n",
       "2              2.116.0  2021-06-23 19:13:28   \n",
       "3              2.116.0  2021-06-19 23:36:07   \n",
       "4              2.116.0  2021-06-21 00:29:27   \n",
       "\n",
       "                                        replyContent            repliedAt  \n",
       "0  Hi Donna. We are sorry that your text or desig...  2021-06-19 21:24:32  \n",
       "1                                                NaN                  NaN  \n",
       "2  Hi there. We're sorry to hear that you are hav...  2021-06-26 20:20:56  \n",
       "3                                                NaN                  NaN  \n",
       "4  Hi Neha. Sorry to hear that you are unable to ...  2021-06-24 20:46:28  "
      ]
     },
     "execution_count": 5,
     "metadata": {},
     "output_type": "execute_result"
    }
   ],
   "source": [
    "data=pd.read_csv('review.csv')\n",
    "data.head()"
   ]
  },
  {
   "cell_type": "code",
   "execution_count": 6,
   "id": "136b14d8",
   "metadata": {},
   "outputs": [
    {
     "data": {
      "text/plain": [
       "reviewId                  0\n",
       "userName                  0\n",
       "userImage                 0\n",
       "content                   0\n",
       "score                     0\n",
       "thumbsUpCount             0\n",
       "reviewCreatedVersion      0\n",
       "at                        0\n",
       "replyContent            977\n",
       "repliedAt               977\n",
       "dtype: int64"
      ]
     },
     "execution_count": 6,
     "metadata": {},
     "output_type": "execute_result"
    }
   ],
   "source": [
    "data.isna().sum()"
   ]
  },
  {
   "cell_type": "code",
   "execution_count": 7,
   "id": "211ff4de",
   "metadata": {},
   "outputs": [
    {
     "data": {
      "text/html": [
       "<div>\n",
       "<style scoped>\n",
       "    .dataframe tbody tr th:only-of-type {\n",
       "        vertical-align: middle;\n",
       "    }\n",
       "\n",
       "    .dataframe tbody tr th {\n",
       "        vertical-align: top;\n",
       "    }\n",
       "\n",
       "    .dataframe thead th {\n",
       "        text-align: right;\n",
       "    }\n",
       "</style>\n",
       "<table border=\"1\" class=\"dataframe\">\n",
       "  <thead>\n",
       "    <tr style=\"text-align: right;\">\n",
       "      <th></th>\n",
       "      <th>score</th>\n",
       "      <th>thumbsUpCount</th>\n",
       "    </tr>\n",
       "  </thead>\n",
       "  <tbody>\n",
       "    <tr>\n",
       "      <th>count</th>\n",
       "      <td>1500.000000</td>\n",
       "      <td>1500.000000</td>\n",
       "    </tr>\n",
       "    <tr>\n",
       "      <th>mean</th>\n",
       "      <td>4.154000</td>\n",
       "      <td>1.591333</td>\n",
       "    </tr>\n",
       "    <tr>\n",
       "      <th>std</th>\n",
       "      <td>1.361195</td>\n",
       "      <td>18.936791</td>\n",
       "    </tr>\n",
       "    <tr>\n",
       "      <th>min</th>\n",
       "      <td>1.000000</td>\n",
       "      <td>0.000000</td>\n",
       "    </tr>\n",
       "    <tr>\n",
       "      <th>25%</th>\n",
       "      <td>4.000000</td>\n",
       "      <td>0.000000</td>\n",
       "    </tr>\n",
       "    <tr>\n",
       "      <th>50%</th>\n",
       "      <td>5.000000</td>\n",
       "      <td>0.000000</td>\n",
       "    </tr>\n",
       "    <tr>\n",
       "      <th>75%</th>\n",
       "      <td>5.000000</td>\n",
       "      <td>0.000000</td>\n",
       "    </tr>\n",
       "    <tr>\n",
       "      <th>max</th>\n",
       "      <td>5.000000</td>\n",
       "      <td>528.000000</td>\n",
       "    </tr>\n",
       "  </tbody>\n",
       "</table>\n",
       "</div>"
      ],
      "text/plain": [
       "             score  thumbsUpCount\n",
       "count  1500.000000    1500.000000\n",
       "mean      4.154000       1.591333\n",
       "std       1.361195      18.936791\n",
       "min       1.000000       0.000000\n",
       "25%       4.000000       0.000000\n",
       "50%       5.000000       0.000000\n",
       "75%       5.000000       0.000000\n",
       "max       5.000000     528.000000"
      ]
     },
     "execution_count": 7,
     "metadata": {},
     "output_type": "execute_result"
    }
   ],
   "source": [
    "data.describe()"
   ]
  },
  {
   "cell_type": "markdown",
   "id": "a5175a4b",
   "metadata": {},
   "source": [
    "Most of the reply content is not available, so that is not a very useful feature. Our analysis will be based off of the content column (although other features can  be explored as well)."
   ]
  },
  {
   "cell_type": "code",
   "execution_count": 8,
   "id": "2cd31027",
   "metadata": {},
   "outputs": [],
   "source": [
    "df=data[['content','score']]\n"
   ]
  },
  {
   "cell_type": "code",
   "execution_count": 9,
   "id": "3dbbc764",
   "metadata": {},
   "outputs": [],
   "source": [
    "pd.set_option('display.max_colwidth', -1)"
   ]
  },
  {
   "cell_type": "code",
   "execution_count": 10,
   "id": "b0242dfe",
   "metadata": {},
   "outputs": [
    {
     "data": {
      "text/html": [
       "<div>\n",
       "<style scoped>\n",
       "    .dataframe tbody tr th:only-of-type {\n",
       "        vertical-align: middle;\n",
       "    }\n",
       "\n",
       "    .dataframe tbody tr th {\n",
       "        vertical-align: top;\n",
       "    }\n",
       "\n",
       "    .dataframe thead th {\n",
       "        text-align: right;\n",
       "    }\n",
       "</style>\n",
       "<table border=\"1\" class=\"dataframe\">\n",
       "  <thead>\n",
       "    <tr style=\"text-align: right;\">\n",
       "      <th></th>\n",
       "      <th>content</th>\n",
       "      <th>score</th>\n",
       "    </tr>\n",
       "  </thead>\n",
       "  <tbody>\n",
       "    <tr>\n",
       "      <th>0</th>\n",
       "      <td>Overall it's really an amazing app. I've been using this for the past 5 years however I only have one issue though and I wanted this to get address since I think this issue had lasted for how many years? The texts were blurred and when you zoom it out it's pixelated. I thought this issue only occurs on mobile apps however it was also present on the website. Please fix this. I still remember the time when I can export high definition texts and I love that experience. Thank you!</td>\n",
       "      <td>4</td>\n",
       "    </tr>\n",
       "    <tr>\n",
       "      <th>1</th>\n",
       "      <td>Hey! Yes I gave a 5 star rating... coz I believe it deserves it! I mostly use the desktop version and I am seriously so satisfied with this app in both android and desktop version. I just came here to thank the developers for this beautiful app and its facilities. I literally find almost everything that I need for and the best part is even without the premium feature it provides us with a lot many facilities. I love it! Thank you..! ❤</td>\n",
       "      <td>5</td>\n",
       "    </tr>\n",
       "    <tr>\n",
       "      <th>2</th>\n",
       "      <td>Canva used to be a good app! But recently I've been facing issues in saving my files. When I want my files to be saved in '.png' format, it gets saved in .jpg format! Moreover when I want my files to be saved it gets stuck at the downloading screen (where your so called magic does not happen) For now you'll be getting 1 stars from me. I hope you will fix the app soon! Thank you .</td>\n",
       "      <td>1</td>\n",
       "    </tr>\n",
       "    <tr>\n",
       "      <th>3</th>\n",
       "      <td>It's a brilliant app, but I have just one problem, if I'm editing a post and I double tap the photo to reposition, if I then start to zoom the photo, 8 times out of 10 my app crashes and restarts, this is on my LG G5 SE, sometimes I've had to go over to the desktop version on my PC just to reposition and zoom the photo where I want it to then resume editing back on my mobile.</td>\n",
       "      <td>5</td>\n",
       "    </tr>\n",
       "    <tr>\n",
       "      <th>4</th>\n",
       "      <td>This was such a great app. I used to make BTS memes through this. But after recent update... I'm not able to change my font style. The edit option of font is missing. I tried uninstalling and installing the app, but still it's isn't working. The edit option for font is appearing very rarely. The previous version was far better. Canva could you please work on it! 💜</td>\n",
       "      <td>4</td>\n",
       "    </tr>\n",
       "  </tbody>\n",
       "</table>\n",
       "</div>"
      ],
      "text/plain": [
       "                                                                                                                                                                                                                                                                                                                                                                                                                                                                                             content  \\\n",
       "0  Overall it's really an amazing app. I've been using this for the past 5 years however I only have one issue though and I wanted this to get address since I think this issue had lasted for how many years? The texts were blurred and when you zoom it out it's pixelated. I thought this issue only occurs on mobile apps however it was also present on the website. Please fix this. I still remember the time when I can export high definition texts and I love that experience. Thank you!   \n",
       "1  Hey! Yes I gave a 5 star rating... coz I believe it deserves it! I mostly use the desktop version and I am seriously so satisfied with this app in both android and desktop version. I just came here to thank the developers for this beautiful app and its facilities. I literally find almost everything that I need for and the best part is even without the premium feature it provides us with a lot many facilities. I love it! Thank you..! ❤                                              \n",
       "2  Canva used to be a good app! But recently I've been facing issues in saving my files. When I want my files to be saved in '.png' format, it gets saved in .jpg format! Moreover when I want my files to be saved it gets stuck at the downloading screen (where your so called magic does not happen) For now you'll be getting 1 stars from me. I hope you will fix the app soon! Thank you .                                                                                                      \n",
       "3  It's a brilliant app, but I have just one problem, if I'm editing a post and I double tap the photo to reposition, if I then start to zoom the photo, 8 times out of 10 my app crashes and restarts, this is on my LG G5 SE, sometimes I've had to go over to the desktop version on my PC just to reposition and zoom the photo where I want it to then resume editing back on my mobile.                                                                                                          \n",
       "4  This was such a great app. I used to make BTS memes through this. But after recent update... I'm not able to change my font style. The edit option of font is missing. I tried uninstalling and installing the app, but still it's isn't working. The edit option for font is appearing very rarely. The previous version was far better. Canva could you please work on it! 💜                                                                                                                      \n",
       "\n",
       "   score  \n",
       "0  4      \n",
       "1  5      \n",
       "2  1      \n",
       "3  5      \n",
       "4  4      "
      ]
     },
     "execution_count": 10,
     "metadata": {},
     "output_type": "execute_result"
    }
   ],
   "source": [
    "df.head()"
   ]
  },
  {
   "cell_type": "code",
   "execution_count": 11,
   "id": "154c8e15",
   "metadata": {},
   "outputs": [],
   "source": [
    " # Defining a Function to Clean the Textual Data\n",
    " \n",
    "def clean_text(txt):\n",
    "    \n",
    "  txt = txt.lower() #Lowering the text\n",
    "  txt = re.sub(r'\\W', ' ', str(txt)) # remove all special characters including apastrophie \n",
    "  txt = txt.translate(str.maketrans('', '', string.punctuation)) # remove punctuations\n",
    "  txt = ''.join([i for i in txt if not i.isdigit()]).strip() # remove digits ()\n",
    "  txt = re.sub(r'\\s+[a-zA-Z]\\s+', ' ', txt)   # remove all single characters (it's -> it s then we need to remove s)\n",
    "  txt = re.sub(r'\\s+', ' ', txt, flags=re.I) # Substituting multiple spaces with single space\n",
    "  txt = re.sub(r\"(http\\S+|http)\", \"\", txt) # remove links\n",
    "  txt = ' '.join([PorterStemmer().stem(word=word) for word in txt.split(\" \") if word not in stopwords.words('english') ]) # stem & remove stop words\n",
    "  return txt"
   ]
  },
  {
   "cell_type": "code",
   "execution_count": 12,
   "id": "20706569",
   "metadata": {},
   "outputs": [
    {
     "name": "stdout",
     "output_type": "stream",
     "text": [
      "Original Text :  Hey! Yes I gave a 5 star rating... coz I believe it deserves it! I mostly use the desktop version and I am seriously so satisfied with this app in both android and desktop version. I just came here to thank the developers for this beautiful app and its facilities. I literally find almost everything that I need for and the best part is even without the premium feature it provides us with a lot many facilities. I love it! Thank you..! ❤\n",
      "Processed Text :  hey ye gave star rate coz believ deserv mostli use desktop version serious satisfi app android desktop version came thank develop beauti app facil liter find almost everyth need best part even without premium featur provid us lot mani facil love thank\n"
     ]
    }
   ],
   "source": [
    "print('Original Text : ',data['content'][1])  \n",
    "print('Processed Text : ',clean_text(data['content'][1]))"
   ]
  },
  {
   "cell_type": "code",
   "execution_count": 13,
   "id": "5abc62ef",
   "metadata": {},
   "outputs": [
    {
     "data": {
      "text/html": [
       "<div>\n",
       "<style scoped>\n",
       "    .dataframe tbody tr th:only-of-type {\n",
       "        vertical-align: middle;\n",
       "    }\n",
       "\n",
       "    .dataframe tbody tr th {\n",
       "        vertical-align: top;\n",
       "    }\n",
       "\n",
       "    .dataframe thead th {\n",
       "        text-align: right;\n",
       "    }\n",
       "</style>\n",
       "<table border=\"1\" class=\"dataframe\">\n",
       "  <thead>\n",
       "    <tr style=\"text-align: right;\">\n",
       "      <th></th>\n",
       "      <th>content</th>\n",
       "      <th>score</th>\n",
       "    </tr>\n",
       "  </thead>\n",
       "  <tbody>\n",
       "    <tr>\n",
       "      <th>0</th>\n",
       "      <td>overal realli amaz app use past year howev one issu though want get address sinc think issu last mani year text blur zoom pixel thought issu occur mobil app howev also present websit pleas fix still rememb time export high definit text love experi thank</td>\n",
       "      <td>4</td>\n",
       "    </tr>\n",
       "    <tr>\n",
       "      <th>1</th>\n",
       "      <td>hey ye gave star rate coz believ deserv mostli use desktop version serious satisfi app android desktop version came thank develop beauti app facil liter find almost everyth need best part even without premium featur provid us lot mani facil love thank</td>\n",
       "      <td>5</td>\n",
       "    </tr>\n",
       "    <tr>\n",
       "      <th>2</th>\n",
       "      <td>canva use good app recent face issu save file want file save png format get save jpg format moreov want file save get stuck download screen call magic happen get star hope fix app soon thank</td>\n",
       "      <td>1</td>\n",
       "    </tr>\n",
       "    <tr>\n",
       "      <th>3</th>\n",
       "      <td>brilliant app one problem edit post doubl tap photo reposit start zoom photo time app crash restart lg se sometim go desktop version pc reposit zoom photo want resum edit back mobil</td>\n",
       "      <td>5</td>\n",
       "    </tr>\n",
       "    <tr>\n",
       "      <th>4</th>\n",
       "      <td>great app use make bt meme recent updat abl chang font style edit option font miss tri uninstal instal app still work edit option font appear rare previou version far better canva could pleas work</td>\n",
       "      <td>4</td>\n",
       "    </tr>\n",
       "    <tr>\n",
       "      <th>...</th>\n",
       "      <td>...</td>\n",
       "      <td>...</td>\n",
       "    </tr>\n",
       "    <tr>\n",
       "      <th>1495</th>\n",
       "      <td>absolut amaz lifesav teacher</td>\n",
       "      <td>5</td>\n",
       "    </tr>\n",
       "    <tr>\n",
       "      <th>1496</th>\n",
       "      <td>nice mani time show error open ppt school project disturb</td>\n",
       "      <td>3</td>\n",
       "    </tr>\n",
       "    <tr>\n",
       "      <th>1497</th>\n",
       "      <td>much lag alway stuck start page worst app download</td>\n",
       "      <td>1</td>\n",
       "    </tr>\n",
       "    <tr>\n",
       "      <th>1498</th>\n",
       "      <td>nice app colleg work mani featur templat work love</td>\n",
       "      <td>5</td>\n",
       "    </tr>\n",
       "    <tr>\n",
       "      <th>1499</th>\n",
       "      <td>teacher much school year love</td>\n",
       "      <td>5</td>\n",
       "    </tr>\n",
       "  </tbody>\n",
       "</table>\n",
       "<p>1500 rows × 2 columns</p>\n",
       "</div>"
      ],
      "text/plain": [
       "                                                                                                                                                                                                                                                            content  \\\n",
       "0     overal realli amaz app use past year howev one issu though want get address sinc think issu last mani year text blur zoom pixel thought issu occur mobil app howev also present websit pleas fix still rememb time export high definit text love experi thank   \n",
       "1     hey ye gave star rate coz believ deserv mostli use desktop version serious satisfi app android desktop version came thank develop beauti app facil liter find almost everyth need best part even without premium featur provid us lot mani facil love thank     \n",
       "2     canva use good app recent face issu save file want file save png format get save jpg format moreov want file save get stuck download screen call magic happen get star hope fix app soon thank                                                                  \n",
       "3     brilliant app one problem edit post doubl tap photo reposit start zoom photo time app crash restart lg se sometim go desktop version pc reposit zoom photo want resum edit back mobil                                                                           \n",
       "4     great app use make bt meme recent updat abl chang font style edit option font miss tri uninstal instal app still work edit option font appear rare previou version far better canva could pleas work                                                            \n",
       "...                                                                                                                                                                                                    ...                                                            \n",
       "1495  absolut amaz lifesav teacher                                                                                                                                                                                                                                    \n",
       "1496  nice mani time show error open ppt school project disturb                                                                                                                                                                                                       \n",
       "1497  much lag alway stuck start page worst app download                                                                                                                                                                                                              \n",
       "1498  nice app colleg work mani featur templat work love                                                                                                                                                                                                              \n",
       "1499  teacher much school year love                                                                                                                                                                                                                                   \n",
       "\n",
       "      score  \n",
       "0     4      \n",
       "1     5      \n",
       "2     1      \n",
       "3     5      \n",
       "4     4      \n",
       "...  ..      \n",
       "1495  5      \n",
       "1496  3      \n",
       "1497  1      \n",
       "1498  5      \n",
       "1499  5      \n",
       "\n",
       "[1500 rows x 2 columns]"
      ]
     },
     "execution_count": 13,
     "metadata": {},
     "output_type": "execute_result"
    }
   ],
   "source": [
    "df['content'] = df['content'].apply(clean_text) #apply the function to every text in the dataset\n",
    "df"
   ]
  },
  {
   "cell_type": "code",
   "execution_count": 14,
   "id": "9bab12a6",
   "metadata": {},
   "outputs": [
    {
     "data": {
      "text/plain": [
       "5    952\n",
       "4    227\n",
       "1    170\n",
       "3    91 \n",
       "2    60 \n",
       "Name: score, dtype: int64"
      ]
     },
     "execution_count": 14,
     "metadata": {},
     "output_type": "execute_result"
    }
   ],
   "source": [
    "df.score.value_counts()"
   ]
  },
  {
   "cell_type": "code",
   "execution_count": 15,
   "id": "fe4c1e5a",
   "metadata": {},
   "outputs": [
    {
     "data": {
      "text/plain": [
       "<AxesSubplot:xlabel='score', ylabel='count'>"
      ]
     },
     "execution_count": 15,
     "metadata": {},
     "output_type": "execute_result"
    },
    {
     "data": {
      "image/png": "[encoded data removed]",
      "text/plain": [
       "<Figure size 432x288 with 1 Axes>"
      ]
     },
     "metadata": {
      "needs_background": "light"
     },
     "output_type": "display_data"
    }
   ],
   "source": [
    "import seaborn as sns\n",
    "sns.countplot(df['score'])"
   ]
  },
  {
   "cell_type": "code",
   "execution_count": 16,
   "id": "0df56337",
   "metadata": {},
   "outputs": [],
   "source": [
    "df_majority = df[df['score']==5] #Data with class 5\n",
    "\n",
    "df_minority1= df[df['score']==2] #Data with class 2\n",
    "\n",
    "df_minority2 = df[df['score']==3] #Data with class 3\n",
    "\n",
    "df_minority3 = df[df['score']==1] #Data with class 1\n",
    "\n",
    "df_minority4 = df[df['score']==4] #Data with class 4\n"
   ]
  },
  {
   "cell_type": "code",
   "execution_count": 17,
   "id": "a1ec246e",
   "metadata": {},
   "outputs": [],
   "source": [
    "#Down Sampling Majority Class \"5\"\n",
    "df_majority_downsampled = resample(df_majority, \n",
    "                                 replace=False,    \n",
    "                                 n_samples = 600)\n",
    "#Upsample Minority class  \"2\"\n",
    "df_minority_upsampled = resample(df_minority1, \n",
    "                                 replace=True,     \n",
    "                                 n_samples=200)\n",
    "#Upsample Minority class \"3\"\n",
    "df_minority_upsampled1 = resample(df_minority2, \n",
    "                                 replace=True,     \n",
    "                                 n_samples=300)\n",
    "#Upsample Minority class \"1\"\n",
    "df_minority_upsampled2 = resample(df_minority3, \n",
    "                                 replace=True,     \n",
    "                                 n_samples=225)\n",
    "#Upsample Minority class \"4\"\n",
    "df_minority_upsampled3 = resample(df_minority4, \n",
    "                                 replace=True,     \n",
    "                                 n_samples=250)\n",
    "\n",
    "\n",
    "# Combine minority class with downsampled majority class\n",
    "data1 = pd.concat([df_majority_downsampled, df_minority_upsampled,df_minority_upsampled1,df_minority_upsampled2,df_minority_upsampled3])"
   ]
  },
  {
   "cell_type": "markdown",
   "id": "2b9da473",
   "metadata": {},
   "source": [
    "This is a multi-class imbalanced classification problem."
   ]
  },
  {
   "cell_type": "code",
   "execution_count": 18,
   "id": "5660f459",
   "metadata": {},
   "outputs": [
    {
     "data": {
      "text/plain": [
       "<AxesSubplot:xlabel='score', ylabel='count'>"
      ]
     },
     "execution_count": 18,
     "metadata": {},
     "output_type": "execute_result"
    },
    {
     "data": {
      "image/png": "[encoded data removed]",
      "text/plain": [
       "<Figure size 432x288 with 1 Axes>"
      ]
     },
     "metadata": {
      "needs_background": "light"
     },
     "output_type": "display_data"
    }
   ],
   "source": [
    "sns.countplot(data1['score'])"
   ]
  },
  {
   "cell_type": "code",
   "execution_count": 19,
   "id": "b3149553",
   "metadata": {},
   "outputs": [
    {
     "name": "stdout",
     "output_type": "stream",
     "text": [
      "Found 1324 unique tokens.\n"
     ]
    }
   ],
   "source": [
    "from tensorflow.keras.preprocessing.text import Tokenizer\n",
    "from tensorflow.keras.preprocessing.sequence import pad_sequences\n",
    "# The maximum number of words to be used. (most frequent)\n",
    "MAX_NB_WORDS = 2000\n",
    "# Max number of words in each Content.\n",
    "MAX_SEQUENCE_LENGTH = 600\n",
    "# This is fixed. Embedding\n",
    "EMBEDDING_DIM = 120\n",
    "tokenizer = Tokenizer(num_words=MAX_NB_WORDS, filters='!\"#$%&()*+,-./:;<=>?@[\\]^_`{|}~', lower=True)\n",
    "tokenizer.fit_on_texts(data1['content'].values)\n",
    "word_index = tokenizer.word_index\n",
    "print('Found %s unique tokens.' % len(word_index))"
   ]
  },
  {
   "cell_type": "code",
   "execution_count": 20,
   "id": "6312d929",
   "metadata": {},
   "outputs": [
    {
     "name": "stdout",
     "output_type": "stream",
     "text": [
      "Shape of data tensor: 600\n"
     ]
    }
   ],
   "source": [
    "#Tokenizing the content\n",
    " \n",
    "X = tokenizer.texts_to_sequences(data1['content'].values)\n",
    "X = pad_sequences(X, maxlen=MAX_SEQUENCE_LENGTH)\n",
    "print('Shape of data tensor:', X.shape[1])"
   ]
  },
  {
   "cell_type": "code",
   "execution_count": 21,
   "id": "15ddb325",
   "metadata": {},
   "outputs": [
    {
     "name": "stdout",
     "output_type": "stream",
     "text": [
      "(1575,)\n",
      "[1 2 3 4 5]\n"
     ]
    },
    {
     "data": {
      "text/plain": [
       "dtype('int64')"
      ]
     },
     "execution_count": 21,
     "metadata": {},
     "output_type": "execute_result"
    }
   ],
   "source": [
    "from sklearn.preprocessing import LabelEncoder\n",
    "le = LabelEncoder()\n",
    "Y = le.fit_transform(data1['score'])\n",
    "print(Y.shape)\n",
    "print(le.classes_)\n",
    "Y.dtype"
   ]
  },
  {
   "cell_type": "code",
   "execution_count": 22,
   "id": "54c01d04",
   "metadata": {},
   "outputs": [
    {
     "name": "stdout",
     "output_type": "stream",
     "text": [
      "(1417, 600) (1417,)\n",
      "(158, 600) (158,)\n"
     ]
    }
   ],
   "source": [
    " #Train and Test Split\n",
    "\n",
    "X_train, X_test, Y_train, Y_test = train_test_split(X, Y, test_size = 0.10, random_state = 42, stratify=Y)\n",
    "print(X_train.shape,Y_train.shape)\n",
    "print(X_test.shape,Y_test.shape)"
   ]
  },
  {
   "cell_type": "code",
   "execution_count": 23,
   "id": "286f3960",
   "metadata": {},
   "outputs": [],
   "source": [
    " # Converting data into Torch and getting it into CPU\n",
    "\n",
    "x_train = torch.tensor(X_train, dtype=torch.long)\n",
    "y_train = torch.tensor(Y_train, dtype=torch.long)\n",
    "x_cv = torch.tensor(X_test, dtype=torch.long)\n",
    "y_cv = torch.tensor(Y_test, dtype=torch.long)"
   ]
  },
  {
   "cell_type": "code",
   "execution_count": 24,
   "id": "11c5e5db",
   "metadata": {},
   "outputs": [],
   "source": [
    "train = torch.utils.data.TensorDataset(x_train, y_train)\n",
    "valid = torch.utils.data.TensorDataset(x_cv, y_cv)"
   ]
  },
  {
   "cell_type": "code",
   "execution_count": 25,
   "id": "1bf988ab",
   "metadata": {},
   "outputs": [],
   "source": [
    "# Defing the Parameters:\n",
    "max_features =  2000  \n",
    "batch_size = 50\n",
    "vocab_size = max_features\n",
    "\n",
    "# Initialising the DataLoaders\n",
    "train_dl = torch.utils.data.DataLoader(train, batch_size=batch_size, shuffle=True)\n",
    "val_dl = torch.utils.data.DataLoader(valid, batch_size=batch_size, shuffle=False)"
   ]
  },
  {
   "cell_type": "code",
   "execution_count": 26,
   "id": "0c9dcdfa",
   "metadata": {},
   "outputs": [],
   "source": [
    "class LSTM(torch.nn.Module) :\n",
    "    def __init__(self, vocab_size, embedding_dim, hidden_dim) : # \n",
    "        super().__init__()\n",
    "        self.hidden_dim = hidden_dim\n",
    "        self.embeddings = nn.Embedding(vocab_size, embedding_dim, padding_idx=0)\n",
    "        #self.drop  = nn.Dropout(p=0.2)\n",
    "        self.lstm = nn.LSTM(embedding_dim, hidden_dim, batch_first=True)\n",
    "        self.lstm1 = nn.LSTM(hidden_dim, 64, batch_first=True)\n",
    "        self.linear = nn.Linear(64, 5)\n",
    "        #self.softmax = nn.Softmax(dim=1)\n",
    "        \n",
    "    def forward(self, x):\n",
    "        x = self.embeddings(x)\n",
    "        #x = self.drop(x)\n",
    "        out_pack, (ht, ct) = self.lstm(x)\n",
    "        out_pack1, (ht, ct) = self.lstm1(out_pack)\n",
    "        out = self.linear(ht[-1])\n",
    "        #out = self.softmax(out)\n",
    "        return out"
   ]
  },
  {
   "cell_type": "code",
   "execution_count": 27,
   "id": "6f37114c",
   "metadata": {},
   "outputs": [
    {
     "name": "stdout",
     "output_type": "stream",
     "text": [
      "LSTM(\n",
      "  (embeddings): Embedding(2000, 128, padding_idx=0)\n",
      "  (lstm): LSTM(128, 64, batch_first=True)\n",
      "  (lstm1): LSTM(64, 64, batch_first=True)\n",
      "  (linear): Linear(in_features=64, out_features=5, bias=True)\n",
      ")\n"
     ]
    }
   ],
   "source": [
    "#intializing model\n",
    "model = LSTM(vocab_size, 128,64)\n",
    "print(model)"
   ]
  },
  {
   "cell_type": "code",
   "execution_count": 28,
   "id": "db949f17",
   "metadata": {},
   "outputs": [
    {
     "name": "stdout",
     "output_type": "stream",
     "text": [
      "Epoch 1/10 \t loss=1.5145 \t val_loss=1.3955  \t val_acc=0.3861  \t time=189.41s\n",
      "Epoch 2/10 \t loss=1.2792 \t val_loss=1.1493  \t val_acc=0.5696  \t time=188.46s\n",
      "Epoch 3/10 \t loss=1.0732 \t val_loss=0.9422  \t val_acc=0.6013  \t time=160.97s\n",
      "Epoch 4/10 \t loss=0.8354 \t val_loss=0.7539  \t val_acc=0.6646  \t time=163.22s\n",
      "Epoch 5/10 \t loss=0.6073 \t val_loss=0.6360  \t val_acc=0.7785  \t time=107.95s\n",
      "Epoch 6/10 \t loss=0.4263 \t val_loss=0.5949  \t val_acc=0.7722  \t time=57.43s\n",
      "Epoch 7/10 \t loss=0.3572 \t val_loss=0.6410  \t val_acc=0.7722  \t time=97.89s\n",
      "Epoch 8/10 \t loss=0.2869 \t val_loss=0.5227  \t val_acc=0.8544  \t time=183.37s\n",
      "Epoch 9/10 \t loss=0.1820 \t val_loss=0.5088  \t val_acc=0.8544  \t time=229.57s\n",
      "Epoch 10/10 \t loss=0.1323 \t val_loss=0.4754  \t val_acc=0.8608  \t time=123.26s\n"
     ]
    }
   ],
   "source": [
    "# Defining Train Loop:\n",
    "\n",
    "n_epochs = 10\n",
    "\n",
    "loss_fn = nn.CrossEntropyLoss() # Loss Function\n",
    "optimizer = torch.optim.Adam(model.parameters(), lr=0.001) # Optimiser\n",
    "\n",
    "# model.cuda() # Moving Model Into GPU\n",
    "# loss_fn.cuda() # Moving Loss Function Into GPU\n",
    "\n",
    "train_loss = []\n",
    "valid_loss = []\n",
    "for epoch in range(n_epochs):\n",
    "      start_time = time.time()\n",
    "\n",
    "\n",
    "\n",
    "    # Set model to train configuration\n",
    "      model.train() # indicator for training\n",
    "      avg_loss = 0.  \n",
    "      for i, (x_batch, y_batch) in enumerate(train_dl):\n",
    "#           x_batch = x_batch.cuda()\n",
    "#           y_batch = y_batch.cuda()\n",
    "\n",
    "\n",
    "          # Predict/Forward Pass\n",
    "          y_pred = model(x_batch)\n",
    "\n",
    "\n",
    "\n",
    "          # Compute loss\n",
    "          loss = loss_fn(y_pred, y_batch)\n",
    "          optimizer.zero_grad()\n",
    "          loss.backward() \n",
    "          optimizer.step()\n",
    "          avg_loss += loss.item() / len(train_dl)\n",
    "          \n",
    "\n",
    "\n",
    "\n",
    "      # Set model to validation configuration\n",
    "      model.eval() # Indicator for Validation       \n",
    "      avg_val_loss = 0.\n",
    "      val_preds = np.zeros((len(x_cv),len(le.classes_)))\n",
    "    \n",
    "      for i, (x_batch, y_batch) in enumerate(val_dl):\n",
    "          y_pred = model(x_batch).detach()\n",
    "          avg_val_loss += loss_fn(y_pred, y_batch).item() / len(val_dl)\n",
    "\n",
    "           #keep/store predictions\n",
    "\n",
    "          val_preds[i * batch_size:(i+1) * batch_size] =F.softmax(y_pred).cpu().numpy()\n",
    "          \n",
    "          # Check Accuracy\n",
    "      val_accuracy = sum(val_preds.argmax(axis=1)==Y_test)/len(Y_test)\n",
    "      train_loss.append(avg_loss)\n",
    "      valid_loss.append(avg_val_loss)\n",
    "      elapsed_time = time.time() - start_time \n",
    "      print('Epoch {}/{} \\t loss={:.4f} \\t val_loss={:.4f}  \\t val_acc={:.4f}  \\t time={:.2f}s'.format(\n",
    "                epoch + 1, n_epochs, avg_loss, avg_val_loss, val_accuracy, elapsed_time))\n"
   ]
  },
  {
   "cell_type": "code",
   "execution_count": 29,
   "id": "2a633173",
   "metadata": {},
   "outputs": [],
   "source": [
    "#loss vs epoch graph\n",
    "def plot_graph(epochs):\n",
    "    fig = plt.figure(figsize=(12,12))\n",
    "    plt.title(\"Train/Validation Loss\")\n",
    "    plt.plot(list(np.arange(epochs) + 1) , train_loss, label='train') # X axis \n",
    "    plt.plot(list(np.arange(epochs) + 1), valid_loss, label='validation') # Y axis\n",
    "    plt.xlabel('num_epochs', fontsize=12)\n",
    "    plt.ylabel('loss', fontsize=12)\n",
    "    plt.legend(loc='best')"
   ]
  },
  {
   "cell_type": "code",
   "execution_count": 30,
   "id": "48cce523",
   "metadata": {},
   "outputs": [
    {
     "data": {
      "image/png": "[encoded data removed]",
      "text/plain": [
       "<Figure size 864x864 with 1 Axes>"
      ]
     },
     "metadata": {
      "needs_background": "light"
     },
     "output_type": "display_data"
    }
   ],
   "source": [
    "plot_graph(n_epochs)"
   ]
  }
 ],
 "metadata": {
  "kernelspec": {
   "display_name": "Python 3 (ipykernel)",
   "language": "python",
   "name": "python3"
  },
  "language_info": {
   "codemirror_mode": {
    "name": "ipython",
    "version": 3
   },
   "file_extension": ".py",
   "mimetype": "text/x-python",
   "name": "python",
   "nbconvert_exporter": "python",
   "pygments_lexer": "ipython3",
   "version": "3.9.7"
  }
 },
 "nbformat": 4,
 "nbformat_minor": 5
}
