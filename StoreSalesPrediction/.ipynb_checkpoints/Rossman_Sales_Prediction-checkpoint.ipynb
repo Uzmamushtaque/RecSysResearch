{
 "cells": [
  {
   "cell_type": "markdown",
   "id": "01cfd8b2",
   "metadata": {},
   "source": [
    "# Business Problem\n",
    "\n",
    "Rossmann operates over 3,000 drug stores in 7 European countries. Currently, Rossmann\n",
    "store managers are tasked with predicting their daily sales for up to six weeks in advance.\n",
    "Store sales are influenced by many factors, including promotions, competition, school and\n",
    "state holidays, seasonality, and locality. With thousands of individual managers predicting\n",
    "sales based on their unique circumstances, the accuracy of results can be quite varied."
   ]
  },
  {
   "cell_type": "markdown",
   "id": "b394caf0",
   "metadata": {},
   "source": [
    "## Data Description\n",
    "\n",
    "We have been provided data with the following data fields.\n",
    "1. Id - an Id that represents a (Store, Date) duple within the test set\n",
    "2. Store - a unique Id for each store\n",
    "3. Sales - the turnover for any given day (this is what you are predicting)\n",
    "4. Customers - the number of customers on a given day\n",
    "5. Open - an indicator for whether the store was open: 0 = closed, 1 = open\n",
    "6. StateHoliday - indicates a state holiday. Normally all stores, with few exceptions, are\n",
    "closed on state holidays. Note that all schools are closed on public holidays and\n",
    "weekends. a = public holiday, b = Easter holiday, c = Christmas, 0 = None\n",
    "7. SchoolHoliday - indicates if the (Store, Date) was affected by the closure of public\n",
    "schools\n",
    "8. StoreType - differentiates between 4 different store models: a, b, c, d\n",
    "9. Assortment - describes an assortment level: a = basic, b = extra, c = extended\n",
    "10. CompetitionDistance - distance in meters to the nearest competitor store\n",
    "11. CompetitionOpenSince[Month/Year] - gives the approximate year and month of the\n",
    "time the nearest competitor was opened\n",
    "12. Promo - indicates whether a store is running a promo on that day\n",
    "13. Promo2 - Promo2 is a continuing and consecutive promotion for some stores: 0 =\n",
    "store is not participating, 1 = store is participating\n",
    "14. Promo2Since[Year/Week] - describes the year and calendar week when the store\n",
    "started participating in Promo2\n",
    "15. PromoInterval - describes the consecutive intervals Promo2 is started, naming the\n",
    "months the promotion is started anew. E.g. \"Feb,May,Aug,Nov\" means each round\n",
    "starts in February, May, August, November of any given year for that store\n",
    "\n",
    "Data Source : https://www.kaggle.com/c/rossmann-store-sales/data"
   ]
  },
  {
   "cell_type": "code",
   "execution_count": 1,
   "id": "807009eb",
   "metadata": {},
   "outputs": [],
   "source": [
    "# Import the libraries\n",
    "import numpy as np\n",
    "import pandas as pd\n",
    "import matplotlib.pyplot as plt\n",
    "import seaborn as sns"
   ]
  },
  {
   "cell_type": "code",
   "execution_count": 2,
   "id": "402723ed",
   "metadata": {},
   "outputs": [
    {
     "data": {
      "text/html": [
       "<div>\n",
       "<style scoped>\n",
       "    .dataframe tbody tr th:only-of-type {\n",
       "        vertical-align: middle;\n",
       "    }\n",
       "\n",
       "    .dataframe tbody tr th {\n",
       "        vertical-align: top;\n",
       "    }\n",
       "\n",
       "    .dataframe thead th {\n",
       "        text-align: right;\n",
       "    }\n",
       "</style>\n",
       "<table border=\"1\" class=\"dataframe\">\n",
       "  <thead>\n",
       "    <tr style=\"text-align: right;\">\n",
       "      <th></th>\n",
       "      <th>Store</th>\n",
       "      <th>StoreType</th>\n",
       "      <th>Assortment</th>\n",
       "      <th>CompetitionDistance</th>\n",
       "      <th>CompetitionOpenSinceMonth</th>\n",
       "      <th>CompetitionOpenSinceYear</th>\n",
       "      <th>Promo2</th>\n",
       "      <th>Promo2SinceWeek</th>\n",
       "      <th>Promo2SinceYear</th>\n",
       "      <th>PromoInterval</th>\n",
       "    </tr>\n",
       "  </thead>\n",
       "  <tbody>\n",
       "    <tr>\n",
       "      <th>0</th>\n",
       "      <td>1</td>\n",
       "      <td>c</td>\n",
       "      <td>a</td>\n",
       "      <td>1270.0</td>\n",
       "      <td>9.0</td>\n",
       "      <td>2008.0</td>\n",
       "      <td>0</td>\n",
       "      <td>NaN</td>\n",
       "      <td>NaN</td>\n",
       "      <td>NaN</td>\n",
       "    </tr>\n",
       "    <tr>\n",
       "      <th>1</th>\n",
       "      <td>2</td>\n",
       "      <td>a</td>\n",
       "      <td>a</td>\n",
       "      <td>570.0</td>\n",
       "      <td>11.0</td>\n",
       "      <td>2007.0</td>\n",
       "      <td>1</td>\n",
       "      <td>13.0</td>\n",
       "      <td>2010.0</td>\n",
       "      <td>Jan,Apr,Jul,Oct</td>\n",
       "    </tr>\n",
       "    <tr>\n",
       "      <th>2</th>\n",
       "      <td>3</td>\n",
       "      <td>a</td>\n",
       "      <td>a</td>\n",
       "      <td>14130.0</td>\n",
       "      <td>12.0</td>\n",
       "      <td>2006.0</td>\n",
       "      <td>1</td>\n",
       "      <td>14.0</td>\n",
       "      <td>2011.0</td>\n",
       "      <td>Jan,Apr,Jul,Oct</td>\n",
       "    </tr>\n",
       "    <tr>\n",
       "      <th>3</th>\n",
       "      <td>4</td>\n",
       "      <td>c</td>\n",
       "      <td>c</td>\n",
       "      <td>620.0</td>\n",
       "      <td>9.0</td>\n",
       "      <td>2009.0</td>\n",
       "      <td>0</td>\n",
       "      <td>NaN</td>\n",
       "      <td>NaN</td>\n",
       "      <td>NaN</td>\n",
       "    </tr>\n",
       "    <tr>\n",
       "      <th>4</th>\n",
       "      <td>5</td>\n",
       "      <td>a</td>\n",
       "      <td>a</td>\n",
       "      <td>29910.0</td>\n",
       "      <td>4.0</td>\n",
       "      <td>2015.0</td>\n",
       "      <td>0</td>\n",
       "      <td>NaN</td>\n",
       "      <td>NaN</td>\n",
       "      <td>NaN</td>\n",
       "    </tr>\n",
       "  </tbody>\n",
       "</table>\n",
       "</div>"
      ],
      "text/plain": [
       "   Store StoreType Assortment  CompetitionDistance  CompetitionOpenSinceMonth  \\\n",
       "0      1         c          a               1270.0                        9.0   \n",
       "1      2         a          a                570.0                       11.0   \n",
       "2      3         a          a              14130.0                       12.0   \n",
       "3      4         c          c                620.0                        9.0   \n",
       "4      5         a          a              29910.0                        4.0   \n",
       "\n",
       "   CompetitionOpenSinceYear  Promo2  Promo2SinceWeek  Promo2SinceYear  \\\n",
       "0                    2008.0       0              NaN              NaN   \n",
       "1                    2007.0       1             13.0           2010.0   \n",
       "2                    2006.0       1             14.0           2011.0   \n",
       "3                    2009.0       0              NaN              NaN   \n",
       "4                    2015.0       0              NaN              NaN   \n",
       "\n",
       "     PromoInterval  \n",
       "0              NaN  \n",
       "1  Jan,Apr,Jul,Oct  \n",
       "2  Jan,Apr,Jul,Oct  \n",
       "3              NaN  \n",
       "4              NaN  "
      ]
     },
     "execution_count": 2,
     "metadata": {},
     "output_type": "execute_result"
    }
   ],
   "source": [
    "#Read the Data\n",
    "store_details=pd.read_csv('store.csv')\n",
    "store_details.head()"
   ]
  },
  {
   "cell_type": "code",
   "execution_count": 3,
   "id": "adb3c052",
   "metadata": {},
   "outputs": [
    {
     "name": "stderr",
     "output_type": "stream",
     "text": [
      "C:\\Users\\uzmam\\anaconda3\\lib\\site-packages\\IPython\\core\\interactiveshell.py:3444: DtypeWarning: Columns (7) have mixed types.Specify dtype option on import or set low_memory=False.\n",
      "  exec(code_obj, self.user_global_ns, self.user_ns)\n"
     ]
    },
    {
     "data": {
      "text/html": [
       "<div>\n",
       "<style scoped>\n",
       "    .dataframe tbody tr th:only-of-type {\n",
       "        vertical-align: middle;\n",
       "    }\n",
       "\n",
       "    .dataframe tbody tr th {\n",
       "        vertical-align: top;\n",
       "    }\n",
       "\n",
       "    .dataframe thead th {\n",
       "        text-align: right;\n",
       "    }\n",
       "</style>\n",
       "<table border=\"1\" class=\"dataframe\">\n",
       "  <thead>\n",
       "    <tr style=\"text-align: right;\">\n",
       "      <th></th>\n",
       "      <th>Store</th>\n",
       "      <th>DayOfWeek</th>\n",
       "      <th>Date</th>\n",
       "      <th>Sales</th>\n",
       "      <th>Customers</th>\n",
       "      <th>Open</th>\n",
       "      <th>Promo</th>\n",
       "      <th>StateHoliday</th>\n",
       "      <th>SchoolHoliday</th>\n",
       "    </tr>\n",
       "  </thead>\n",
       "  <tbody>\n",
       "    <tr>\n",
       "      <th>1017204</th>\n",
       "      <td>1111</td>\n",
       "      <td>2</td>\n",
       "      <td>2013-01-01</td>\n",
       "      <td>0</td>\n",
       "      <td>0</td>\n",
       "      <td>0</td>\n",
       "      <td>0</td>\n",
       "      <td>a</td>\n",
       "      <td>1</td>\n",
       "    </tr>\n",
       "    <tr>\n",
       "      <th>1017205</th>\n",
       "      <td>1112</td>\n",
       "      <td>2</td>\n",
       "      <td>2013-01-01</td>\n",
       "      <td>0</td>\n",
       "      <td>0</td>\n",
       "      <td>0</td>\n",
       "      <td>0</td>\n",
       "      <td>a</td>\n",
       "      <td>1</td>\n",
       "    </tr>\n",
       "    <tr>\n",
       "      <th>1017206</th>\n",
       "      <td>1113</td>\n",
       "      <td>2</td>\n",
       "      <td>2013-01-01</td>\n",
       "      <td>0</td>\n",
       "      <td>0</td>\n",
       "      <td>0</td>\n",
       "      <td>0</td>\n",
       "      <td>a</td>\n",
       "      <td>1</td>\n",
       "    </tr>\n",
       "    <tr>\n",
       "      <th>1017207</th>\n",
       "      <td>1114</td>\n",
       "      <td>2</td>\n",
       "      <td>2013-01-01</td>\n",
       "      <td>0</td>\n",
       "      <td>0</td>\n",
       "      <td>0</td>\n",
       "      <td>0</td>\n",
       "      <td>a</td>\n",
       "      <td>1</td>\n",
       "    </tr>\n",
       "    <tr>\n",
       "      <th>1017208</th>\n",
       "      <td>1115</td>\n",
       "      <td>2</td>\n",
       "      <td>2013-01-01</td>\n",
       "      <td>0</td>\n",
       "      <td>0</td>\n",
       "      <td>0</td>\n",
       "      <td>0</td>\n",
       "      <td>a</td>\n",
       "      <td>1</td>\n",
       "    </tr>\n",
       "  </tbody>\n",
       "</table>\n",
       "</div>"
      ],
      "text/plain": [
       "         Store  DayOfWeek        Date  Sales  Customers  Open  Promo  \\\n",
       "1017204   1111          2  2013-01-01      0          0     0      0   \n",
       "1017205   1112          2  2013-01-01      0          0     0      0   \n",
       "1017206   1113          2  2013-01-01      0          0     0      0   \n",
       "1017207   1114          2  2013-01-01      0          0     0      0   \n",
       "1017208   1115          2  2013-01-01      0          0     0      0   \n",
       "\n",
       "        StateHoliday  SchoolHoliday  \n",
       "1017204            a              1  \n",
       "1017205            a              1  \n",
       "1017206            a              1  \n",
       "1017207            a              1  \n",
       "1017208            a              1  "
      ]
     },
     "execution_count": 3,
     "metadata": {},
     "output_type": "execute_result"
    }
   ],
   "source": [
    "train_data = pd.read_csv(\"train.csv\")\n",
    "train_data.tail()"
   ]
  },
  {
   "cell_type": "code",
   "execution_count": 4,
   "id": "2fe403f1",
   "metadata": {},
   "outputs": [
    {
     "data": {
      "text/html": [
       "<div>\n",
       "<style scoped>\n",
       "    .dataframe tbody tr th:only-of-type {\n",
       "        vertical-align: middle;\n",
       "    }\n",
       "\n",
       "    .dataframe tbody tr th {\n",
       "        vertical-align: top;\n",
       "    }\n",
       "\n",
       "    .dataframe thead th {\n",
       "        text-align: right;\n",
       "    }\n",
       "</style>\n",
       "<table border=\"1\" class=\"dataframe\">\n",
       "  <thead>\n",
       "    <tr style=\"text-align: right;\">\n",
       "      <th></th>\n",
       "      <th>Store</th>\n",
       "      <th>DayOfWeek</th>\n",
       "      <th>Date</th>\n",
       "      <th>Sales</th>\n",
       "      <th>Customers</th>\n",
       "      <th>Open</th>\n",
       "      <th>Promo</th>\n",
       "      <th>StateHoliday</th>\n",
       "      <th>SchoolHoliday</th>\n",
       "      <th>StoreType</th>\n",
       "      <th>Assortment</th>\n",
       "      <th>CompetitionDistance</th>\n",
       "      <th>CompetitionOpenSinceMonth</th>\n",
       "      <th>CompetitionOpenSinceYear</th>\n",
       "      <th>Promo2</th>\n",
       "      <th>Promo2SinceWeek</th>\n",
       "      <th>Promo2SinceYear</th>\n",
       "      <th>PromoInterval</th>\n",
       "    </tr>\n",
       "  </thead>\n",
       "  <tbody>\n",
       "    <tr>\n",
       "      <th>0</th>\n",
       "      <td>1</td>\n",
       "      <td>5</td>\n",
       "      <td>2015-07-31</td>\n",
       "      <td>5263</td>\n",
       "      <td>555</td>\n",
       "      <td>1</td>\n",
       "      <td>1</td>\n",
       "      <td>0</td>\n",
       "      <td>1</td>\n",
       "      <td>c</td>\n",
       "      <td>a</td>\n",
       "      <td>1270.0</td>\n",
       "      <td>9.0</td>\n",
       "      <td>2008.0</td>\n",
       "      <td>0</td>\n",
       "      <td>NaN</td>\n",
       "      <td>NaN</td>\n",
       "      <td>NaN</td>\n",
       "    </tr>\n",
       "    <tr>\n",
       "      <th>1</th>\n",
       "      <td>1</td>\n",
       "      <td>4</td>\n",
       "      <td>2015-07-30</td>\n",
       "      <td>5020</td>\n",
       "      <td>546</td>\n",
       "      <td>1</td>\n",
       "      <td>1</td>\n",
       "      <td>0</td>\n",
       "      <td>1</td>\n",
       "      <td>c</td>\n",
       "      <td>a</td>\n",
       "      <td>1270.0</td>\n",
       "      <td>9.0</td>\n",
       "      <td>2008.0</td>\n",
       "      <td>0</td>\n",
       "      <td>NaN</td>\n",
       "      <td>NaN</td>\n",
       "      <td>NaN</td>\n",
       "    </tr>\n",
       "    <tr>\n",
       "      <th>2</th>\n",
       "      <td>1</td>\n",
       "      <td>3</td>\n",
       "      <td>2015-07-29</td>\n",
       "      <td>4782</td>\n",
       "      <td>523</td>\n",
       "      <td>1</td>\n",
       "      <td>1</td>\n",
       "      <td>0</td>\n",
       "      <td>1</td>\n",
       "      <td>c</td>\n",
       "      <td>a</td>\n",
       "      <td>1270.0</td>\n",
       "      <td>9.0</td>\n",
       "      <td>2008.0</td>\n",
       "      <td>0</td>\n",
       "      <td>NaN</td>\n",
       "      <td>NaN</td>\n",
       "      <td>NaN</td>\n",
       "    </tr>\n",
       "    <tr>\n",
       "      <th>3</th>\n",
       "      <td>1</td>\n",
       "      <td>2</td>\n",
       "      <td>2015-07-28</td>\n",
       "      <td>5011</td>\n",
       "      <td>560</td>\n",
       "      <td>1</td>\n",
       "      <td>1</td>\n",
       "      <td>0</td>\n",
       "      <td>1</td>\n",
       "      <td>c</td>\n",
       "      <td>a</td>\n",
       "      <td>1270.0</td>\n",
       "      <td>9.0</td>\n",
       "      <td>2008.0</td>\n",
       "      <td>0</td>\n",
       "      <td>NaN</td>\n",
       "      <td>NaN</td>\n",
       "      <td>NaN</td>\n",
       "    </tr>\n",
       "    <tr>\n",
       "      <th>4</th>\n",
       "      <td>1</td>\n",
       "      <td>1</td>\n",
       "      <td>2015-07-27</td>\n",
       "      <td>6102</td>\n",
       "      <td>612</td>\n",
       "      <td>1</td>\n",
       "      <td>1</td>\n",
       "      <td>0</td>\n",
       "      <td>1</td>\n",
       "      <td>c</td>\n",
       "      <td>a</td>\n",
       "      <td>1270.0</td>\n",
       "      <td>9.0</td>\n",
       "      <td>2008.0</td>\n",
       "      <td>0</td>\n",
       "      <td>NaN</td>\n",
       "      <td>NaN</td>\n",
       "      <td>NaN</td>\n",
       "    </tr>\n",
       "  </tbody>\n",
       "</table>\n",
       "</div>"
      ],
      "text/plain": [
       "   Store  DayOfWeek        Date  Sales  Customers  Open  Promo StateHoliday  \\\n",
       "0      1          5  2015-07-31   5263        555     1      1            0   \n",
       "1      1          4  2015-07-30   5020        546     1      1            0   \n",
       "2      1          3  2015-07-29   4782        523     1      1            0   \n",
       "3      1          2  2015-07-28   5011        560     1      1            0   \n",
       "4      1          1  2015-07-27   6102        612     1      1            0   \n",
       "\n",
       "   SchoolHoliday StoreType Assortment  CompetitionDistance  \\\n",
       "0              1         c          a               1270.0   \n",
       "1              1         c          a               1270.0   \n",
       "2              1         c          a               1270.0   \n",
       "3              1         c          a               1270.0   \n",
       "4              1         c          a               1270.0   \n",
       "\n",
       "   CompetitionOpenSinceMonth  CompetitionOpenSinceYear  Promo2  \\\n",
       "0                        9.0                    2008.0       0   \n",
       "1                        9.0                    2008.0       0   \n",
       "2                        9.0                    2008.0       0   \n",
       "3                        9.0                    2008.0       0   \n",
       "4                        9.0                    2008.0       0   \n",
       "\n",
       "   Promo2SinceWeek  Promo2SinceYear PromoInterval  \n",
       "0              NaN              NaN           NaN  \n",
       "1              NaN              NaN           NaN  \n",
       "2              NaN              NaN           NaN  \n",
       "3              NaN              NaN           NaN  \n",
       "4              NaN              NaN           NaN  "
      ]
     },
     "execution_count": 4,
     "metadata": {},
     "output_type": "execute_result"
    }
   ],
   "source": [
    "#Performing a join on the store ids\n",
    "data=pd.merge(train_data,store_details,on='Store')\n",
    "data.head()"
   ]
  },
  {
   "cell_type": "code",
   "execution_count": 5,
   "id": "a6f374be",
   "metadata": {},
   "outputs": [
    {
     "data": {
      "text/plain": [
       "(1017209, 18)"
      ]
     },
     "execution_count": 5,
     "metadata": {},
     "output_type": "execute_result"
    }
   ],
   "source": [
    "data.shape"
   ]
  },
  {
   "cell_type": "code",
   "execution_count": 6,
   "id": "0388f236",
   "metadata": {},
   "outputs": [
    {
     "data": {
      "text/plain": [
       "Store                             0\n",
       "DayOfWeek                         0\n",
       "Date                              0\n",
       "Sales                             0\n",
       "Customers                         0\n",
       "Open                              0\n",
       "Promo                             0\n",
       "StateHoliday                      0\n",
       "SchoolHoliday                     0\n",
       "StoreType                         0\n",
       "Assortment                        0\n",
       "CompetitionDistance            2642\n",
       "CompetitionOpenSinceMonth    323348\n",
       "CompetitionOpenSinceYear     323348\n",
       "Promo2                            0\n",
       "Promo2SinceWeek              508031\n",
       "Promo2SinceYear              508031\n",
       "PromoInterval                508031\n",
       "dtype: int64"
      ]
     },
     "execution_count": 6,
     "metadata": {},
     "output_type": "execute_result"
    }
   ],
   "source": [
    "data.isna().sum() #missing values"
   ]
  },
  {
   "cell_type": "code",
   "execution_count": 7,
   "id": "4914a4fc",
   "metadata": {},
   "outputs": [
    {
     "name": "stdout",
     "output_type": "stream",
     "text": [
      "Store -----> [   1    2    3 ... 1113 1114 1115]\n",
      "DayOfWeek -----> [5 4 3 2 1 7 6]\n",
      "Sales -----> [ 5263  5020  4782 ... 20362 18841 21237]\n",
      "Customers -----> [ 555  546  523 ... 3727 4022 4106]\n",
      "Open -----> [1 0]\n",
      "Promo -----> [1 0]\n",
      "StateHoliday -----> ['0' 'a' 'b' 'c' 0]\n",
      "SchoolHoliday -----> [1 0]\n",
      "StoreType -----> ['c' 'a' 'd' 'b']\n",
      "Assortment -----> ['a' 'c' 'b']\n",
      "CompetitionOpenSinceMonth -----> [ 9. 11. 12.  4. 10.  8. nan  3.  6.  5.  1.  2.  7.]\n",
      "CompetitionOpenSinceYear -----> [2008. 2007. 2006. 2009. 2015. 2013. 2014. 2000. 2011.   nan 2010. 2005.\n",
      " 1999. 2003. 2012. 2004. 2002. 1961. 1995. 2001. 1990. 1994. 1900. 1998.]\n",
      "Promo2 -----> [0 1]\n",
      "Promo2SinceWeek -----> [nan 13. 14.  1. 45. 40. 26. 22.  5.  6. 10. 31. 37.  9. 39. 27. 18. 35.\n",
      " 23. 48. 36. 50. 44. 49. 28.]\n",
      "Promo2SinceYear -----> [  nan 2010. 2011. 2012. 2009. 2014. 2015. 2013.]\n",
      "PromoInterval -----> [nan 'Jan,Apr,Jul,Oct' 'Feb,May,Aug,Nov' 'Mar,Jun,Sept,Dec']\n"
     ]
    }
   ],
   "source": [
    "columns=list(data.columns)\n",
    "columns.remove('Date')\n",
    "columns.remove('CompetitionDistance')\n",
    "for i in columns:\n",
    "    print(i,'----->',data[i].unique())"
   ]
  },
  {
   "cell_type": "code",
   "execution_count": 8,
   "id": "781a7c37",
   "metadata": {},
   "outputs": [],
   "source": [
    "data['Year']=data['Date'].apply(lambda x: int(str(x)[:4]))\n",
    "data['Month']=data['Date'].apply(lambda x: int(str(x)[5:7]))"
   ]
  },
  {
   "cell_type": "code",
   "execution_count": 9,
   "id": "a0d820eb",
   "metadata": {},
   "outputs": [
    {
     "data": {
      "text/plain": [
       "[Text(0.5, 1.0, 'Year vs Sales')]"
      ]
     },
     "execution_count": 9,
     "metadata": {},
     "output_type": "execute_result"
    },
    {
     "data": {
      "image/png": "[encoded data removed]",
      "text/plain": [
       "<Figure size 432x288 with 1 Axes>"
      ]
     },
     "metadata": {
      "needs_background": "light"
     },
     "output_type": "display_data"
    }
   ],
   "source": [
    "sns.barplot(x='Year',y='Sales',data=data).set(title='Year vs Sales')"
   ]
  },
  {
   "cell_type": "markdown",
   "id": "e82ae771",
   "metadata": {},
   "source": [
    "Sales are increasing with each passing year."
   ]
  },
  {
   "cell_type": "code",
   "execution_count": 11,
   "id": "43dfcf9f",
   "metadata": {},
   "outputs": [
    {
     "data": {
      "image/png": "[encoded data removed]",
      "text/plain": [
       "<Figure size 432x288 with 1 Axes>"
      ]
     },
     "metadata": {
      "needs_background": "light"
     },
     "output_type": "display_data"
    }
   ],
   "source": [
    "# Sales with respect to week\n",
    "sns.barplot(x='DayOfWeek', y='Sales', data=data).set(title='Week vs Sales')\n",
    "plt.show()"
   ]
  },
  {
   "cell_type": "markdown",
   "id": "75653ea6",
   "metadata": {},
   "source": [
    "Sales on Monday and Friday are the highest"
   ]
  },
  {
   "cell_type": "code",
   "execution_count": 14,
   "id": "005e6adb",
   "metadata": {},
   "outputs": [
    {
     "data": {
      "image/png": "[encoded data removed]",
      "text/plain": [
       "<Figure size 432x288 with 1 Axes>"
      ]
     },
     "metadata": {
      "needs_background": "light"
     },
     "output_type": "display_data"
    }
   ],
   "source": [
    "sns.barplot(x='Promo', y='Sales', data=data).set(title='Promo vs Sales')\n",
    "plt.show()"
   ]
  },
  {
   "cell_type": "markdown",
   "id": "6326cc2e",
   "metadata": {},
   "source": [
    "Promo days witness higher sales"
   ]
  },
  {
   "cell_type": "code",
   "execution_count": 15,
   "id": "3673801a",
   "metadata": {},
   "outputs": [
    {
     "name": "stderr",
     "output_type": "stream",
     "text": [
      "C:\\Users\\uzmam\\anaconda3\\lib\\site-packages\\pandas\\core\\indexing.py:1732: SettingWithCopyWarning: \n",
      "A value is trying to be set on a copy of a slice from a DataFrame\n",
      "\n",
      "See the caveats in the documentation: https://pandas.pydata.org/pandas-docs/stable/user_guide/indexing.html#returning-a-view-versus-a-copy\n",
      "  self._setitem_single_block(indexer, value, name)\n"
     ]
    },
    {
     "data": {
      "image/png": "[encoded data removed]",
      "text/plain": [
       "<Figure size 432x288 with 1 Axes>"
      ]
     },
     "metadata": {
      "needs_background": "light"
     },
     "output_type": "display_data"
    }
   ],
   "source": [
    "# StateHoliday column has values 0 & \"0\", So, we need to change values with 0 to \"0\"\n",
    "data[\"StateHoliday\"].loc[data[\"StateHoliday\"] == 0] = \"0\"\n",
    "\n",
    "# Sales with respect to State Holiday\n",
    "sns.barplot(x='StateHoliday', y='Sales', data=data).set(title='State Holiday vs Sales')\n",
    "plt.show()"
   ]
  },
  {
   "cell_type": "markdown",
   "id": "1ce6296a",
   "metadata": {},
   "source": [
    "Most stores are closed on State Holidays that's why we can see that there are very less sales in a,b,c where:\n",
    "\n",
    "a = Public Holiday\n",
    "\n",
    "b = Easter Holiday\n",
    "\n",
    "c = Chirstmas\n",
    "\n",
    "0 = No Holiday, Working day"
   ]
  },
  {
   "cell_type": "code",
   "execution_count": 18,
   "id": "b6243cc9",
   "metadata": {},
   "outputs": [
    {
     "data": {
      "image/png": "[encoded data removed]",
      "text/plain": [
       "<Figure size 432x288 with 1 Axes>"
      ]
     },
     "metadata": {
      "needs_background": "light"
     },
     "output_type": "display_data"
    }
   ],
   "source": [
    "sns.barplot(x='SchoolHoliday', y='Sales', data=data).set(title='School Holiday vs Sales')\n",
    "plt.show()"
   ]
  },
  {
   "cell_type": "markdown",
   "id": "6879fa5b",
   "metadata": {},
   "source": [
    "Sales are higher on school holidays"
   ]
  },
  {
   "cell_type": "code",
   "execution_count": 19,
   "id": "19fcc315",
   "metadata": {},
   "outputs": [
    {
     "data": {
      "image/png": "[encoded data removed]",
      "text/plain": [
       "<Figure size 432x288 with 1 Axes>"
      ]
     },
     "metadata": {
      "needs_background": "light"
     },
     "output_type": "display_data"
    }
   ],
   "source": [
    "# Sales with respect to StoreType\n",
    "sns.barplot(x='StoreType', y='Sales', data=data).set(title='StoreType vs Sales')\n",
    "plt.show()"
   ]
  },
  {
   "cell_type": "markdown",
   "id": "720f44e7",
   "metadata": {},
   "source": [
    "Store type b has the highest sales"
   ]
  },
  {
   "cell_type": "code",
   "execution_count": 16,
   "id": "c4095453",
   "metadata": {},
   "outputs": [
    {
     "data": {
      "image/png": "[encoded data removed]",
      "text/plain": [
       "<Figure size 432x288 with 1 Axes>"
      ]
     },
     "metadata": {
      "needs_background": "light"
     },
     "output_type": "display_data"
    }
   ],
   "source": [
    "# Sales with respect to Assortment\n",
    "sns.barplot(x='Assortment', y='Sales', data=data).set(title='Assortment vs Sales')\n",
    "plt.show()"
   ]
  },
  {
   "cell_type": "markdown",
   "id": "34e16473",
   "metadata": {},
   "source": [
    "b assortment has the highest sales."
   ]
  },
  {
   "cell_type": "markdown",
   "id": "263ff19c",
   "metadata": {},
   "source": [
    "## Finding missing values and removing outliers"
   ]
  },
  {
   "cell_type": "markdown",
   "id": "ebc8a7bf",
   "metadata": {},
   "source": [
    "### Approach\n",
    "\n",
    "1: The null values in Column Promo2SinceWeek, Promo2SinceYear, PromoInterval is due to Promo2 is 0 for those stores. So we would fill all the null values in these columns with 0.\n",
    "\n",
    "2: Since Competition Distance for 3 stores isn't given so we could fill it with mean of the distance given for all other stores\n",
    "\n",
    "3: CompetitionOpenSinceMonth, CompetitionOpenSinceYear can be filled using the most occuring(mode) month and year respectively."
   ]
  },
  {
   "cell_type": "code",
   "execution_count": 17,
   "id": "526b6b57",
   "metadata": {},
   "outputs": [
    {
     "data": {
      "text/plain": [
       "Store                          0\n",
       "StoreType                      0\n",
       "Assortment                     0\n",
       "CompetitionDistance            3\n",
       "CompetitionOpenSinceMonth    354\n",
       "CompetitionOpenSinceYear     354\n",
       "Promo2                         0\n",
       "Promo2SinceWeek              544\n",
       "Promo2SinceYear              544\n",
       "PromoInterval                544\n",
       "dtype: int64"
      ]
     },
     "execution_count": 17,
     "metadata": {},
     "output_type": "execute_result"
    }
   ],
   "source": [
    "store_details.isna().sum()"
   ]
  },
  {
   "cell_type": "code",
   "execution_count": 18,
   "id": "b13b1b40",
   "metadata": {},
   "outputs": [],
   "source": [
    "# Filling Promo2SinceWeek, Promo2SinceYear, PromoInterval with 0\n",
    "store_details.update(store_details[['Promo2SinceWeek','Promo2SinceYear','PromoInterval']].fillna(0))"
   ]
  },
  {
   "cell_type": "code",
   "execution_count": 19,
   "id": "7882d405",
   "metadata": {},
   "outputs": [],
   "source": [
    "store_details['CompetitionDistance'].fillna(store_details['CompetitionDistance'].mean(),inplace=True)"
   ]
  },
  {
   "cell_type": "code",
   "execution_count": 20,
   "id": "b1f456b0",
   "metadata": {},
   "outputs": [],
   "source": [
    "# Filling CompetitionOpenSinceMonth, CompetitionOpenSinceYear with most occuring month and year respectively\n",
    "mode_competition_open_month = store_details['CompetitionOpenSinceMonth'].mode()[0]\n",
    "\n",
    "mode_competition_open_year = store_details['CompetitionOpenSinceYear'].mode()[0]\n",
    "\n",
    "store_details['CompetitionOpenSinceMonth'].fillna(mode_competition_open_month,inplace=True)\n",
    "store_details['CompetitionOpenSinceYear'].fillna(mode_competition_open_year,inplace=True)"
   ]
  },
  {
   "cell_type": "code",
   "execution_count": 21,
   "id": "98e9952a",
   "metadata": {},
   "outputs": [
    {
     "data": {
      "text/plain": [
       "Store                        0\n",
       "StoreType                    0\n",
       "Assortment                   0\n",
       "CompetitionDistance          0\n",
       "CompetitionOpenSinceMonth    0\n",
       "CompetitionOpenSinceYear     0\n",
       "Promo2                       0\n",
       "Promo2SinceWeek              0\n",
       "Promo2SinceYear              0\n",
       "PromoInterval                0\n",
       "dtype: int64"
      ]
     },
     "execution_count": 21,
     "metadata": {},
     "output_type": "execute_result"
    }
   ],
   "source": [
    "store_details.isna().sum()"
   ]
  },
  {
   "cell_type": "code",
   "execution_count": 22,
   "id": "62767015",
   "metadata": {},
   "outputs": [
    {
     "data": {
      "text/html": [
       "<div>\n",
       "<style scoped>\n",
       "    .dataframe tbody tr th:only-of-type {\n",
       "        vertical-align: middle;\n",
       "    }\n",
       "\n",
       "    .dataframe tbody tr th {\n",
       "        vertical-align: top;\n",
       "    }\n",
       "\n",
       "    .dataframe thead th {\n",
       "        text-align: right;\n",
       "    }\n",
       "</style>\n",
       "<table border=\"1\" class=\"dataframe\">\n",
       "  <thead>\n",
       "    <tr style=\"text-align: right;\">\n",
       "      <th></th>\n",
       "      <th>Store</th>\n",
       "      <th>DayOfWeek</th>\n",
       "      <th>Date</th>\n",
       "      <th>Sales</th>\n",
       "      <th>Customers</th>\n",
       "      <th>Open</th>\n",
       "      <th>Promo</th>\n",
       "      <th>StateHoliday</th>\n",
       "      <th>SchoolHoliday</th>\n",
       "      <th>StoreType</th>\n",
       "      <th>Assortment</th>\n",
       "      <th>CompetitionDistance</th>\n",
       "      <th>CompetitionOpenSinceMonth</th>\n",
       "      <th>CompetitionOpenSinceYear</th>\n",
       "      <th>Promo2</th>\n",
       "      <th>Promo2SinceWeek</th>\n",
       "      <th>Promo2SinceYear</th>\n",
       "      <th>PromoInterval</th>\n",
       "    </tr>\n",
       "  </thead>\n",
       "  <tbody>\n",
       "    <tr>\n",
       "      <th>0</th>\n",
       "      <td>1</td>\n",
       "      <td>5</td>\n",
       "      <td>2015-07-31</td>\n",
       "      <td>5263</td>\n",
       "      <td>555</td>\n",
       "      <td>1</td>\n",
       "      <td>1</td>\n",
       "      <td>0</td>\n",
       "      <td>1</td>\n",
       "      <td>c</td>\n",
       "      <td>a</td>\n",
       "      <td>1270.0</td>\n",
       "      <td>9.0</td>\n",
       "      <td>2008.0</td>\n",
       "      <td>0</td>\n",
       "      <td>0.0</td>\n",
       "      <td>0.0</td>\n",
       "      <td>0</td>\n",
       "    </tr>\n",
       "    <tr>\n",
       "      <th>1</th>\n",
       "      <td>1</td>\n",
       "      <td>4</td>\n",
       "      <td>2015-07-30</td>\n",
       "      <td>5020</td>\n",
       "      <td>546</td>\n",
       "      <td>1</td>\n",
       "      <td>1</td>\n",
       "      <td>0</td>\n",
       "      <td>1</td>\n",
       "      <td>c</td>\n",
       "      <td>a</td>\n",
       "      <td>1270.0</td>\n",
       "      <td>9.0</td>\n",
       "      <td>2008.0</td>\n",
       "      <td>0</td>\n",
       "      <td>0.0</td>\n",
       "      <td>0.0</td>\n",
       "      <td>0</td>\n",
       "    </tr>\n",
       "    <tr>\n",
       "      <th>2</th>\n",
       "      <td>1</td>\n",
       "      <td>3</td>\n",
       "      <td>2015-07-29</td>\n",
       "      <td>4782</td>\n",
       "      <td>523</td>\n",
       "      <td>1</td>\n",
       "      <td>1</td>\n",
       "      <td>0</td>\n",
       "      <td>1</td>\n",
       "      <td>c</td>\n",
       "      <td>a</td>\n",
       "      <td>1270.0</td>\n",
       "      <td>9.0</td>\n",
       "      <td>2008.0</td>\n",
       "      <td>0</td>\n",
       "      <td>0.0</td>\n",
       "      <td>0.0</td>\n",
       "      <td>0</td>\n",
       "    </tr>\n",
       "    <tr>\n",
       "      <th>3</th>\n",
       "      <td>1</td>\n",
       "      <td>2</td>\n",
       "      <td>2015-07-28</td>\n",
       "      <td>5011</td>\n",
       "      <td>560</td>\n",
       "      <td>1</td>\n",
       "      <td>1</td>\n",
       "      <td>0</td>\n",
       "      <td>1</td>\n",
       "      <td>c</td>\n",
       "      <td>a</td>\n",
       "      <td>1270.0</td>\n",
       "      <td>9.0</td>\n",
       "      <td>2008.0</td>\n",
       "      <td>0</td>\n",
       "      <td>0.0</td>\n",
       "      <td>0.0</td>\n",
       "      <td>0</td>\n",
       "    </tr>\n",
       "    <tr>\n",
       "      <th>4</th>\n",
       "      <td>1</td>\n",
       "      <td>1</td>\n",
       "      <td>2015-07-27</td>\n",
       "      <td>6102</td>\n",
       "      <td>612</td>\n",
       "      <td>1</td>\n",
       "      <td>1</td>\n",
       "      <td>0</td>\n",
       "      <td>1</td>\n",
       "      <td>c</td>\n",
       "      <td>a</td>\n",
       "      <td>1270.0</td>\n",
       "      <td>9.0</td>\n",
       "      <td>2008.0</td>\n",
       "      <td>0</td>\n",
       "      <td>0.0</td>\n",
       "      <td>0.0</td>\n",
       "      <td>0</td>\n",
       "    </tr>\n",
       "  </tbody>\n",
       "</table>\n",
       "</div>"
      ],
      "text/plain": [
       "   Store  DayOfWeek        Date  Sales  Customers  Open  Promo StateHoliday  \\\n",
       "0      1          5  2015-07-31   5263        555     1      1            0   \n",
       "1      1          4  2015-07-30   5020        546     1      1            0   \n",
       "2      1          3  2015-07-29   4782        523     1      1            0   \n",
       "3      1          2  2015-07-28   5011        560     1      1            0   \n",
       "4      1          1  2015-07-27   6102        612     1      1            0   \n",
       "\n",
       "   SchoolHoliday StoreType Assortment  CompetitionDistance  \\\n",
       "0              1         c          a               1270.0   \n",
       "1              1         c          a               1270.0   \n",
       "2              1         c          a               1270.0   \n",
       "3              1         c          a               1270.0   \n",
       "4              1         c          a               1270.0   \n",
       "\n",
       "   CompetitionOpenSinceMonth  CompetitionOpenSinceYear  Promo2  \\\n",
       "0                        9.0                    2008.0       0   \n",
       "1                        9.0                    2008.0       0   \n",
       "2                        9.0                    2008.0       0   \n",
       "3                        9.0                    2008.0       0   \n",
       "4                        9.0                    2008.0       0   \n",
       "\n",
       "   Promo2SinceWeek  Promo2SinceYear PromoInterval  \n",
       "0              0.0              0.0             0  \n",
       "1              0.0              0.0             0  \n",
       "2              0.0              0.0             0  \n",
       "3              0.0              0.0             0  \n",
       "4              0.0              0.0             0  "
      ]
     },
     "execution_count": 22,
     "metadata": {},
     "output_type": "execute_result"
    }
   ],
   "source": [
    "# merging the data again\n",
    "combined_data = pd.merge(train_data, store_details, on='Store')\n",
    "combined_data.head()"
   ]
  },
  {
   "cell_type": "code",
   "execution_count": 23,
   "id": "a7f04673",
   "metadata": {},
   "outputs": [
    {
     "data": {
      "text/plain": [
       "Store                        0\n",
       "DayOfWeek                    0\n",
       "Date                         0\n",
       "Sales                        0\n",
       "Customers                    0\n",
       "Open                         0\n",
       "Promo                        0\n",
       "StateHoliday                 0\n",
       "SchoolHoliday                0\n",
       "StoreType                    0\n",
       "Assortment                   0\n",
       "CompetitionDistance          0\n",
       "CompetitionOpenSinceMonth    0\n",
       "CompetitionOpenSinceYear     0\n",
       "Promo2                       0\n",
       "Promo2SinceWeek              0\n",
       "Promo2SinceYear              0\n",
       "PromoInterval                0\n",
       "dtype: int64"
      ]
     },
     "execution_count": 23,
     "metadata": {},
     "output_type": "execute_result"
    }
   ],
   "source": [
    "combined_data.isnull().sum()"
   ]
  },
  {
   "cell_type": "code",
   "execution_count": 24,
   "id": "667e9801",
   "metadata": {},
   "outputs": [
    {
     "data": {
      "text/plain": [
       "<AxesSubplot:title={'center':'Sales vs CompetitionDistance'}, xlabel='CompetitionDistance', ylabel='Sales'>"
      ]
     },
     "execution_count": 24,
     "metadata": {},
     "output_type": "execute_result"
    },
    {
     "data": {
      "image/png": "[encoded data removed]",
      "text/plain": [
       "<Figure size 1080x288 with 1 Axes>"
      ]
     },
     "metadata": {
      "needs_background": "light"
     },
     "output_type": "display_data"
    }
   ],
   "source": [
    "combined_data.plot(kind='scatter',x='CompetitionDistance',y='Sales',figsize=(15,4),title=\"Sales vs CompetitionDistance\")"
   ]
  },
  {
   "cell_type": "markdown",
   "id": "06907043",
   "metadata": {},
   "source": [
    "# Finding Outliers"
   ]
  },
  {
   "cell_type": "code",
   "execution_count": 25,
   "id": "fff2cc5b",
   "metadata": {},
   "outputs": [
    {
     "data": {
      "text/plain": [
       "<seaborn.axisgrid.FacetGrid at 0x149bcf068b0>"
      ]
     },
     "execution_count": 25,
     "metadata": {},
     "output_type": "execute_result"
    },
    {
     "data": {
      "image/png": "[encoded data removed]",
      "text/plain": [
       "<Figure size 360x360 with 1 Axes>"
      ]
     },
     "metadata": {
      "needs_background": "light"
     },
     "output_type": "display_data"
    }
   ],
   "source": [
    "# checking distribution of sales \n",
    "sns.displot(combined_data, x=\"Sales\",bins=100).set(title='Distribution of Sales')"
   ]
  },
  {
   "cell_type": "markdown",
   "id": "1ca27e65",
   "metadata": {},
   "source": [
    "Anything beyond 3 standard deviations from the mean can be considered as an outlier. We can consider a z-score."
   ]
  },
  {
   "cell_type": "code",
   "execution_count": 26,
   "id": "1cd65886",
   "metadata": {},
   "outputs": [
    {
     "name": "stdout",
     "output_type": "stream",
     "text": [
      "Sales mean 5773.818972305593\n",
      "Sales standard deviation 3849.9261752410484\n"
     ]
    }
   ],
   "source": [
    "mean_sales=combined_data['Sales'].mean()\n",
    "stdev_sales=combined_data['Sales'].std()\n",
    "print('Sales mean',mean_sales)\n",
    "print('Sales standard deviation',stdev_sales)"
   ]
  },
  {
   "cell_type": "code",
   "execution_count": 27,
   "id": "4367e4a2",
   "metadata": {},
   "outputs": [
    {
     "name": "stdout",
     "output_type": "stream",
     "text": [
      "Total outlier in dataset are:  9731\n",
      "Maximum Sales Outlier:  41551\n",
      "Minimum Sales Outlier:  17325\n"
     ]
    },
    {
     "data": {
      "text/plain": [
       "<seaborn.axisgrid.FacetGrid at 0x149bbcc8490>"
      ]
     },
     "execution_count": 27,
     "metadata": {},
     "output_type": "execute_result"
    },
    {
     "data": {
      "image/png": "[encoded data removed]",
      "text/plain": [
       "<Figure size 360x360 with 1 Axes>"
      ]
     },
     "metadata": {
      "needs_background": "light"
     },
     "output_type": "display_data"
    }
   ],
   "source": [
    "threshold=3\n",
    "outlier=[]\n",
    "for i in combined_data['Sales']:\n",
    "    z=(i-mean_sales)/stdev_sales\n",
    "    if z>threshold:\n",
    "        outlier.append(i)\n",
    "print('Total outlier in dataset are: ', len(outlier))\n",
    "print(\"Maximum Sales Outlier: \", max(outlier))\n",
    "print(\"Minimum Sales Outlier: \", min(outlier))\n",
    "\n",
    "sns.displot(x=outlier,bins=20).set(title='Outlier Distribuition of Sales')"
   ]
  },
  {
   "cell_type": "code",
   "execution_count": 28,
   "id": "346a6638",
   "metadata": {},
   "outputs": [
    {
     "name": "stdout",
     "output_type": "stream",
     "text": [
      "Length of actual dataset: 1017209\n",
      "Length of data where sales is 0: 172871  which is 16.994639253093514 % of the whole data\n",
      "Length of data which is greater than 30: 153 which is  0.015041156733768577 % of the whole data\n"
     ]
    }
   ],
   "source": [
    "# Looking for outliers\n",
    "sales_zero = combined_data.loc[combined_data['Sales'] == 0] \n",
    "sales_greater_than_30 = combined_data.loc[combined_data['Sales'] > 30000]\n",
    "\n",
    "print(\"Length of actual dataset:\", len(combined_data))\n",
    "print(\"Length of data where sales is 0:\", len(sales_zero),\n",
    "      \" which is\", len(sales_zero)/len(combined_data)*100, \"% of the whole data\", )\n",
    "\n",
    "print(\"Length of data which is greater than 30:\", len(sales_greater_than_30),\n",
    "      \"which is \", len(sales_greater_than_30)/len(combined_data)*100, \"% of the whole data\")"
   ]
  },
  {
   "cell_type": "markdown",
   "id": "a8442163",
   "metadata": {},
   "source": [
    "Droping sales which are greater than 30k as they are less frequent in the dataset and are probably outliers"
   ]
  },
  {
   "cell_type": "code",
   "execution_count": 29,
   "id": "10d9309a",
   "metadata": {},
   "outputs": [
    {
     "data": {
      "text/plain": [
       "(1017056, 18)"
      ]
     },
     "execution_count": 29,
     "metadata": {},
     "output_type": "execute_result"
    }
   ],
   "source": [
    "combined_data.drop(combined_data.loc[combined_data['Sales'] > 30000].index,inplace=True)\n",
    "combined_data.shape"
   ]
  },
  {
   "cell_type": "markdown",
   "id": "99cf9287",
   "metadata": {},
   "source": [
    "## Exceptional Cases"
   ]
  },
  {
   "cell_type": "code",
   "execution_count": 30,
   "id": "8543a50c",
   "metadata": {},
   "outputs": [
    {
     "name": "stdout",
     "output_type": "stream",
     "text": [
      "Size of the data where sales were zero even when stores were open:  12\n"
     ]
    },
    {
     "data": {
      "text/html": [
       "<div>\n",
       "<style scoped>\n",
       "    .dataframe tbody tr th:only-of-type {\n",
       "        vertical-align: middle;\n",
       "    }\n",
       "\n",
       "    .dataframe tbody tr th {\n",
       "        vertical-align: top;\n",
       "    }\n",
       "\n",
       "    .dataframe thead th {\n",
       "        text-align: right;\n",
       "    }\n",
       "</style>\n",
       "<table border=\"1\" class=\"dataframe\">\n",
       "  <thead>\n",
       "    <tr style=\"text-align: right;\">\n",
       "      <th></th>\n",
       "      <th>Store</th>\n",
       "      <th>DayOfWeek</th>\n",
       "      <th>Date</th>\n",
       "      <th>Sales</th>\n",
       "      <th>Customers</th>\n",
       "      <th>Open</th>\n",
       "      <th>Promo</th>\n",
       "      <th>StateHoliday</th>\n",
       "      <th>SchoolHoliday</th>\n",
       "      <th>StoreType</th>\n",
       "      <th>Assortment</th>\n",
       "      <th>CompetitionDistance</th>\n",
       "      <th>CompetitionOpenSinceMonth</th>\n",
       "      <th>CompetitionOpenSinceYear</th>\n",
       "      <th>Promo2</th>\n",
       "      <th>Promo2SinceWeek</th>\n",
       "      <th>Promo2SinceYear</th>\n",
       "      <th>PromoInterval</th>\n",
       "    </tr>\n",
       "  </thead>\n",
       "  <tbody>\n",
       "    <tr>\n",
       "      <th>22589</th>\n",
       "      <td>25</td>\n",
       "      <td>4</td>\n",
       "      <td>2014-02-13</td>\n",
       "      <td>0</td>\n",
       "      <td>0</td>\n",
       "      <td>1</td>\n",
       "      <td>0</td>\n",
       "      <td>0</td>\n",
       "      <td>0</td>\n",
       "      <td>c</td>\n",
       "      <td>a</td>\n",
       "      <td>430.0</td>\n",
       "      <td>4.0</td>\n",
       "      <td>2003.0</td>\n",
       "      <td>0</td>\n",
       "      <td>0.0</td>\n",
       "      <td>0.0</td>\n",
       "      <td>0</td>\n",
       "    </tr>\n",
       "    <tr>\n",
       "      <th>22590</th>\n",
       "      <td>25</td>\n",
       "      <td>3</td>\n",
       "      <td>2014-02-12</td>\n",
       "      <td>0</td>\n",
       "      <td>0</td>\n",
       "      <td>1</td>\n",
       "      <td>0</td>\n",
       "      <td>0</td>\n",
       "      <td>0</td>\n",
       "      <td>c</td>\n",
       "      <td>a</td>\n",
       "      <td>430.0</td>\n",
       "      <td>4.0</td>\n",
       "      <td>2003.0</td>\n",
       "      <td>0</td>\n",
       "      <td>0.0</td>\n",
       "      <td>0.0</td>\n",
       "      <td>0</td>\n",
       "    </tr>\n",
       "    <tr>\n",
       "      <th>25212</th>\n",
       "      <td>28</td>\n",
       "      <td>4</td>\n",
       "      <td>2014-09-04</td>\n",
       "      <td>0</td>\n",
       "      <td>0</td>\n",
       "      <td>1</td>\n",
       "      <td>1</td>\n",
       "      <td>0</td>\n",
       "      <td>0</td>\n",
       "      <td>a</td>\n",
       "      <td>a</td>\n",
       "      <td>1200.0</td>\n",
       "      <td>10.0</td>\n",
       "      <td>2014.0</td>\n",
       "      <td>1</td>\n",
       "      <td>6.0</td>\n",
       "      <td>2015.0</td>\n",
       "      <td>Mar,Jun,Sept,Dec</td>\n",
       "    </tr>\n",
       "    <tr>\n",
       "      <th>205303</th>\n",
       "      <td>227</td>\n",
       "      <td>4</td>\n",
       "      <td>2014-09-11</td>\n",
       "      <td>0</td>\n",
       "      <td>0</td>\n",
       "      <td>1</td>\n",
       "      <td>0</td>\n",
       "      <td>0</td>\n",
       "      <td>0</td>\n",
       "      <td>a</td>\n",
       "      <td>a</td>\n",
       "      <td>2370.0</td>\n",
       "      <td>9.0</td>\n",
       "      <td>2013.0</td>\n",
       "      <td>0</td>\n",
       "      <td>0.0</td>\n",
       "      <td>0.0</td>\n",
       "      <td>0</td>\n",
       "    </tr>\n",
       "    <tr>\n",
       "      <th>297110</th>\n",
       "      <td>327</td>\n",
       "      <td>3</td>\n",
       "      <td>2014-03-12</td>\n",
       "      <td>0</td>\n",
       "      <td>0</td>\n",
       "      <td>1</td>\n",
       "      <td>0</td>\n",
       "      <td>0</td>\n",
       "      <td>0</td>\n",
       "      <td>c</td>\n",
       "      <td>c</td>\n",
       "      <td>1390.0</td>\n",
       "      <td>12.0</td>\n",
       "      <td>2004.0</td>\n",
       "      <td>0</td>\n",
       "      <td>0.0</td>\n",
       "      <td>0.0</td>\n",
       "      <td>0</td>\n",
       "    </tr>\n",
       "  </tbody>\n",
       "</table>\n",
       "</div>"
      ],
      "text/plain": [
       "        Store  DayOfWeek        Date  Sales  Customers  Open  Promo  \\\n",
       "22589      25          4  2014-02-13      0          0     1      0   \n",
       "22590      25          3  2014-02-12      0          0     1      0   \n",
       "25212      28          4  2014-09-04      0          0     1      1   \n",
       "205303    227          4  2014-09-11      0          0     1      0   \n",
       "297110    327          3  2014-03-12      0          0     1      0   \n",
       "\n",
       "       StateHoliday  SchoolHoliday StoreType Assortment  CompetitionDistance  \\\n",
       "22589             0              0         c          a                430.0   \n",
       "22590             0              0         c          a                430.0   \n",
       "25212             0              0         a          a               1200.0   \n",
       "205303            0              0         a          a               2370.0   \n",
       "297110            0              0         c          c               1390.0   \n",
       "\n",
       "        CompetitionOpenSinceMonth  CompetitionOpenSinceYear  Promo2  \\\n",
       "22589                         4.0                    2003.0       0   \n",
       "22590                         4.0                    2003.0       0   \n",
       "25212                        10.0                    2014.0       1   \n",
       "205303                        9.0                    2013.0       0   \n",
       "297110                       12.0                    2004.0       0   \n",
       "\n",
       "        Promo2SinceWeek  Promo2SinceYear     PromoInterval  \n",
       "22589               0.0              0.0                 0  \n",
       "22590               0.0              0.0                 0  \n",
       "25212               6.0           2015.0  Mar,Jun,Sept,Dec  \n",
       "205303              0.0              0.0                 0  \n",
       "297110              0.0              0.0                 0  "
      ]
     },
     "execution_count": 30,
     "metadata": {},
     "output_type": "execute_result"
    }
   ],
   "source": [
    "# no sales when Stores were Open\n",
    "no_holiday_zero_sales = combined_data.loc[(combined_data['Sales'] == 0) & (combined_data['Open'] == 1) & \n",
    "                                          (combined_data['StateHoliday'] == 0) & (combined_data['SchoolHoliday'] == 0)]\n",
    "\n",
    "print(\"Size of the data where sales were zero even when stores were open: \",len(no_holiday_zero_sales))\n",
    "no_holiday_zero_sales.head()"
   ]
  },
  {
   "cell_type": "markdown",
   "id": "7008ca89",
   "metadata": {},
   "source": [
    "Removing these data points too as they are an exceptional case"
   ]
  },
  {
   "cell_type": "code",
   "execution_count": 31,
   "id": "e6a61b12",
   "metadata": {},
   "outputs": [
    {
     "data": {
      "text/html": [
       "<div>\n",
       "<style scoped>\n",
       "    .dataframe tbody tr th:only-of-type {\n",
       "        vertical-align: middle;\n",
       "    }\n",
       "\n",
       "    .dataframe tbody tr th {\n",
       "        vertical-align: top;\n",
       "    }\n",
       "\n",
       "    .dataframe thead th {\n",
       "        text-align: right;\n",
       "    }\n",
       "</style>\n",
       "<table border=\"1\" class=\"dataframe\">\n",
       "  <thead>\n",
       "    <tr style=\"text-align: right;\">\n",
       "      <th></th>\n",
       "      <th>Store</th>\n",
       "      <th>DayOfWeek</th>\n",
       "      <th>Date</th>\n",
       "      <th>Sales</th>\n",
       "      <th>Customers</th>\n",
       "      <th>Open</th>\n",
       "      <th>Promo</th>\n",
       "      <th>StateHoliday</th>\n",
       "      <th>SchoolHoliday</th>\n",
       "      <th>StoreType</th>\n",
       "      <th>Assortment</th>\n",
       "      <th>CompetitionDistance</th>\n",
       "      <th>CompetitionOpenSinceMonth</th>\n",
       "      <th>CompetitionOpenSinceYear</th>\n",
       "      <th>Promo2</th>\n",
       "      <th>Promo2SinceWeek</th>\n",
       "      <th>Promo2SinceYear</th>\n",
       "      <th>PromoInterval</th>\n",
       "    </tr>\n",
       "  </thead>\n",
       "  <tbody>\n",
       "    <tr>\n",
       "      <th>0</th>\n",
       "      <td>1</td>\n",
       "      <td>5</td>\n",
       "      <td>2015-07-31</td>\n",
       "      <td>5263</td>\n",
       "      <td>555</td>\n",
       "      <td>1</td>\n",
       "      <td>1</td>\n",
       "      <td>0</td>\n",
       "      <td>1</td>\n",
       "      <td>c</td>\n",
       "      <td>a</td>\n",
       "      <td>1270.0</td>\n",
       "      <td>9.0</td>\n",
       "      <td>2008.0</td>\n",
       "      <td>0</td>\n",
       "      <td>0.0</td>\n",
       "      <td>0.0</td>\n",
       "      <td>0</td>\n",
       "    </tr>\n",
       "    <tr>\n",
       "      <th>1</th>\n",
       "      <td>1</td>\n",
       "      <td>4</td>\n",
       "      <td>2015-07-30</td>\n",
       "      <td>5020</td>\n",
       "      <td>546</td>\n",
       "      <td>1</td>\n",
       "      <td>1</td>\n",
       "      <td>0</td>\n",
       "      <td>1</td>\n",
       "      <td>c</td>\n",
       "      <td>a</td>\n",
       "      <td>1270.0</td>\n",
       "      <td>9.0</td>\n",
       "      <td>2008.0</td>\n",
       "      <td>0</td>\n",
       "      <td>0.0</td>\n",
       "      <td>0.0</td>\n",
       "      <td>0</td>\n",
       "    </tr>\n",
       "    <tr>\n",
       "      <th>2</th>\n",
       "      <td>1</td>\n",
       "      <td>3</td>\n",
       "      <td>2015-07-29</td>\n",
       "      <td>4782</td>\n",
       "      <td>523</td>\n",
       "      <td>1</td>\n",
       "      <td>1</td>\n",
       "      <td>0</td>\n",
       "      <td>1</td>\n",
       "      <td>c</td>\n",
       "      <td>a</td>\n",
       "      <td>1270.0</td>\n",
       "      <td>9.0</td>\n",
       "      <td>2008.0</td>\n",
       "      <td>0</td>\n",
       "      <td>0.0</td>\n",
       "      <td>0.0</td>\n",
       "      <td>0</td>\n",
       "    </tr>\n",
       "    <tr>\n",
       "      <th>3</th>\n",
       "      <td>1</td>\n",
       "      <td>2</td>\n",
       "      <td>2015-07-28</td>\n",
       "      <td>5011</td>\n",
       "      <td>560</td>\n",
       "      <td>1</td>\n",
       "      <td>1</td>\n",
       "      <td>0</td>\n",
       "      <td>1</td>\n",
       "      <td>c</td>\n",
       "      <td>a</td>\n",
       "      <td>1270.0</td>\n",
       "      <td>9.0</td>\n",
       "      <td>2008.0</td>\n",
       "      <td>0</td>\n",
       "      <td>0.0</td>\n",
       "      <td>0.0</td>\n",
       "      <td>0</td>\n",
       "    </tr>\n",
       "    <tr>\n",
       "      <th>4</th>\n",
       "      <td>1</td>\n",
       "      <td>1</td>\n",
       "      <td>2015-07-27</td>\n",
       "      <td>6102</td>\n",
       "      <td>612</td>\n",
       "      <td>1</td>\n",
       "      <td>1</td>\n",
       "      <td>0</td>\n",
       "      <td>1</td>\n",
       "      <td>c</td>\n",
       "      <td>a</td>\n",
       "      <td>1270.0</td>\n",
       "      <td>9.0</td>\n",
       "      <td>2008.0</td>\n",
       "      <td>0</td>\n",
       "      <td>0.0</td>\n",
       "      <td>0.0</td>\n",
       "      <td>0</td>\n",
       "    </tr>\n",
       "  </tbody>\n",
       "</table>\n",
       "</div>"
      ],
      "text/plain": [
       "   Store  DayOfWeek        Date  Sales  Customers  Open  Promo StateHoliday  \\\n",
       "0      1          5  2015-07-31   5263        555     1      1            0   \n",
       "1      1          4  2015-07-30   5020        546     1      1            0   \n",
       "2      1          3  2015-07-29   4782        523     1      1            0   \n",
       "3      1          2  2015-07-28   5011        560     1      1            0   \n",
       "4      1          1  2015-07-27   6102        612     1      1            0   \n",
       "\n",
       "   SchoolHoliday StoreType Assortment  CompetitionDistance  \\\n",
       "0              1         c          a               1270.0   \n",
       "1              1         c          a               1270.0   \n",
       "2              1         c          a               1270.0   \n",
       "3              1         c          a               1270.0   \n",
       "4              1         c          a               1270.0   \n",
       "\n",
       "   CompetitionOpenSinceMonth  CompetitionOpenSinceYear  Promo2  \\\n",
       "0                        9.0                    2008.0       0   \n",
       "1                        9.0                    2008.0       0   \n",
       "2                        9.0                    2008.0       0   \n",
       "3                        9.0                    2008.0       0   \n",
       "4                        9.0                    2008.0       0   \n",
       "\n",
       "   Promo2SinceWeek  Promo2SinceYear PromoInterval  \n",
       "0              0.0              0.0             0  \n",
       "1              0.0              0.0             0  \n",
       "2              0.0              0.0             0  \n",
       "3              0.0              0.0             0  \n",
       "4              0.0              0.0             0  "
      ]
     },
     "execution_count": 31,
     "metadata": {},
     "output_type": "execute_result"
    }
   ],
   "source": [
    "combined_data.drop(combined_data.loc[(combined_data['Sales'] == 0) & (combined_data['Open'] == 1) & \n",
    "                                     (combined_data['StateHoliday'] == 0) & \n",
    "                                     (combined_data['SchoolHoliday'] == 0)].index,inplace=True)\n",
    "combined_data.head()"
   ]
  },
  {
   "cell_type": "markdown",
   "id": "f87c30ba",
   "metadata": {},
   "source": [
    "## Categorical Variables"
   ]
  },
  {
   "cell_type": "code",
   "execution_count": 32,
   "id": "f1fee1a2",
   "metadata": {},
   "outputs": [],
   "source": [
    "# extracting year and month from Date  and make it numeric\n",
    "combined_data['Year']  = combined_data['Date'].apply(lambda x: int(str(x)[:4]))\n",
    "combined_data['Month'] = combined_data['Date'].apply(lambda x: int(str(x)[5:7]))\n",
    "combined_data.drop(['Date'],axis=1,inplace=True)"
   ]
  },
  {
   "cell_type": "code",
   "execution_count": 33,
   "id": "8128bef9",
   "metadata": {},
   "outputs": [
    {
     "data": {
      "text/html": [
       "<div>\n",
       "<style scoped>\n",
       "    .dataframe tbody tr th:only-of-type {\n",
       "        vertical-align: middle;\n",
       "    }\n",
       "\n",
       "    .dataframe tbody tr th {\n",
       "        vertical-align: top;\n",
       "    }\n",
       "\n",
       "    .dataframe thead th {\n",
       "        text-align: right;\n",
       "    }\n",
       "</style>\n",
       "<table border=\"1\" class=\"dataframe\">\n",
       "  <thead>\n",
       "    <tr style=\"text-align: right;\">\n",
       "      <th></th>\n",
       "      <th>Store</th>\n",
       "      <th>DayOfWeek</th>\n",
       "      <th>Sales</th>\n",
       "      <th>Customers</th>\n",
       "      <th>Open</th>\n",
       "      <th>Promo</th>\n",
       "      <th>StateHoliday</th>\n",
       "      <th>SchoolHoliday</th>\n",
       "      <th>StoreType</th>\n",
       "      <th>Assortment</th>\n",
       "      <th>CompetitionDistance</th>\n",
       "      <th>CompetitionOpenSinceMonth</th>\n",
       "      <th>CompetitionOpenSinceYear</th>\n",
       "      <th>Promo2</th>\n",
       "      <th>Promo2SinceWeek</th>\n",
       "      <th>Promo2SinceYear</th>\n",
       "      <th>PromoInterval</th>\n",
       "      <th>Year</th>\n",
       "      <th>Month</th>\n",
       "    </tr>\n",
       "  </thead>\n",
       "  <tbody>\n",
       "    <tr>\n",
       "      <th>0</th>\n",
       "      <td>1</td>\n",
       "      <td>5</td>\n",
       "      <td>5263</td>\n",
       "      <td>555</td>\n",
       "      <td>1</td>\n",
       "      <td>1</td>\n",
       "      <td>0</td>\n",
       "      <td>1</td>\n",
       "      <td>c</td>\n",
       "      <td>a</td>\n",
       "      <td>1270.0</td>\n",
       "      <td>9.0</td>\n",
       "      <td>2008.0</td>\n",
       "      <td>0</td>\n",
       "      <td>0.0</td>\n",
       "      <td>0.0</td>\n",
       "      <td>0</td>\n",
       "      <td>2015</td>\n",
       "      <td>7</td>\n",
       "    </tr>\n",
       "    <tr>\n",
       "      <th>1</th>\n",
       "      <td>1</td>\n",
       "      <td>4</td>\n",
       "      <td>5020</td>\n",
       "      <td>546</td>\n",
       "      <td>1</td>\n",
       "      <td>1</td>\n",
       "      <td>0</td>\n",
       "      <td>1</td>\n",
       "      <td>c</td>\n",
       "      <td>a</td>\n",
       "      <td>1270.0</td>\n",
       "      <td>9.0</td>\n",
       "      <td>2008.0</td>\n",
       "      <td>0</td>\n",
       "      <td>0.0</td>\n",
       "      <td>0.0</td>\n",
       "      <td>0</td>\n",
       "      <td>2015</td>\n",
       "      <td>7</td>\n",
       "    </tr>\n",
       "    <tr>\n",
       "      <th>2</th>\n",
       "      <td>1</td>\n",
       "      <td>3</td>\n",
       "      <td>4782</td>\n",
       "      <td>523</td>\n",
       "      <td>1</td>\n",
       "      <td>1</td>\n",
       "      <td>0</td>\n",
       "      <td>1</td>\n",
       "      <td>c</td>\n",
       "      <td>a</td>\n",
       "      <td>1270.0</td>\n",
       "      <td>9.0</td>\n",
       "      <td>2008.0</td>\n",
       "      <td>0</td>\n",
       "      <td>0.0</td>\n",
       "      <td>0.0</td>\n",
       "      <td>0</td>\n",
       "      <td>2015</td>\n",
       "      <td>7</td>\n",
       "    </tr>\n",
       "    <tr>\n",
       "      <th>3</th>\n",
       "      <td>1</td>\n",
       "      <td>2</td>\n",
       "      <td>5011</td>\n",
       "      <td>560</td>\n",
       "      <td>1</td>\n",
       "      <td>1</td>\n",
       "      <td>0</td>\n",
       "      <td>1</td>\n",
       "      <td>c</td>\n",
       "      <td>a</td>\n",
       "      <td>1270.0</td>\n",
       "      <td>9.0</td>\n",
       "      <td>2008.0</td>\n",
       "      <td>0</td>\n",
       "      <td>0.0</td>\n",
       "      <td>0.0</td>\n",
       "      <td>0</td>\n",
       "      <td>2015</td>\n",
       "      <td>7</td>\n",
       "    </tr>\n",
       "    <tr>\n",
       "      <th>4</th>\n",
       "      <td>1</td>\n",
       "      <td>1</td>\n",
       "      <td>6102</td>\n",
       "      <td>612</td>\n",
       "      <td>1</td>\n",
       "      <td>1</td>\n",
       "      <td>0</td>\n",
       "      <td>1</td>\n",
       "      <td>c</td>\n",
       "      <td>a</td>\n",
       "      <td>1270.0</td>\n",
       "      <td>9.0</td>\n",
       "      <td>2008.0</td>\n",
       "      <td>0</td>\n",
       "      <td>0.0</td>\n",
       "      <td>0.0</td>\n",
       "      <td>0</td>\n",
       "      <td>2015</td>\n",
       "      <td>7</td>\n",
       "    </tr>\n",
       "  </tbody>\n",
       "</table>\n",
       "</div>"
      ],
      "text/plain": [
       "   Store  DayOfWeek  Sales  Customers  Open  Promo StateHoliday  \\\n",
       "0      1          5   5263        555     1      1            0   \n",
       "1      1          4   5020        546     1      1            0   \n",
       "2      1          3   4782        523     1      1            0   \n",
       "3      1          2   5011        560     1      1            0   \n",
       "4      1          1   6102        612     1      1            0   \n",
       "\n",
       "   SchoolHoliday StoreType Assortment  CompetitionDistance  \\\n",
       "0              1         c          a               1270.0   \n",
       "1              1         c          a               1270.0   \n",
       "2              1         c          a               1270.0   \n",
       "3              1         c          a               1270.0   \n",
       "4              1         c          a               1270.0   \n",
       "\n",
       "   CompetitionOpenSinceMonth  CompetitionOpenSinceYear  Promo2  \\\n",
       "0                        9.0                    2008.0       0   \n",
       "1                        9.0                    2008.0       0   \n",
       "2                        9.0                    2008.0       0   \n",
       "3                        9.0                    2008.0       0   \n",
       "4                        9.0                    2008.0       0   \n",
       "\n",
       "   Promo2SinceWeek  Promo2SinceYear PromoInterval  Year  Month  \n",
       "0              0.0              0.0             0  2015      7  \n",
       "1              0.0              0.0             0  2015      7  \n",
       "2              0.0              0.0             0  2015      7  \n",
       "3              0.0              0.0             0  2015      7  \n",
       "4              0.0              0.0             0  2015      7  "
      ]
     },
     "execution_count": 33,
     "metadata": {},
     "output_type": "execute_result"
    }
   ],
   "source": [
    "combined_data.head()"
   ]
  },
  {
   "cell_type": "code",
   "execution_count": 34,
   "id": "62c177e6",
   "metadata": {},
   "outputs": [
    {
     "name": "stderr",
     "output_type": "stream",
     "text": [
      "C:\\Users\\uzmam\\anaconda3\\lib\\site-packages\\pandas\\core\\indexing.py:1732: SettingWithCopyWarning: \n",
      "A value is trying to be set on a copy of a slice from a DataFrame\n",
      "\n",
      "See the caveats in the documentation: https://pandas.pydata.org/pandas-docs/stable/user_guide/indexing.html#returning-a-view-versus-a-copy\n",
      "  self._setitem_single_block(indexer, value, name)\n"
     ]
    }
   ],
   "source": [
    "# encoding all categorical varibale to numeric values\n",
    "from sklearn import preprocessing \n",
    "label_encoder = preprocessing.LabelEncoder()\n",
    "\n",
    "combined_data['StoreType']= label_encoder.fit_transform(combined_data['StoreType'])\n",
    "combined_data['Assortment']= label_encoder.fit_transform(combined_data['Assortment']) \n",
    "\n",
    "# for promo interval\n",
    "combined_data[\"PromoInterval\"].loc[combined_data[\"PromoInterval\"] == \"Jan,Apr,Jul,Oct\"] = 1\n",
    "combined_data[\"PromoInterval\"].loc[combined_data[\"PromoInterval\"] == \"Feb,May,Aug,Nov\"] = 2\n",
    "combined_data[\"PromoInterval\"].loc[combined_data[\"PromoInterval\"] == \"Mar,Jun,Sept,Dec\"] = 3"
   ]
  },
  {
   "cell_type": "code",
   "execution_count": 35,
   "id": "2ce97d35",
   "metadata": {},
   "outputs": [],
   "source": [
    "# for State Holiday\n",
    "combined_data[\"StateHoliday\"].loc[combined_data[\"StateHoliday\"] == \"a\"] = 1\n",
    "combined_data[\"StateHoliday\"].loc[combined_data[\"StateHoliday\"] == \"b\"] = 2\n",
    "combined_data[\"StateHoliday\"].loc[combined_data[\"StateHoliday\"] == \"c\"] = 3"
   ]
  },
  {
   "cell_type": "code",
   "execution_count": 36,
   "id": "562a39f9",
   "metadata": {},
   "outputs": [
    {
     "data": {
      "text/html": [
       "<div>\n",
       "<style scoped>\n",
       "    .dataframe tbody tr th:only-of-type {\n",
       "        vertical-align: middle;\n",
       "    }\n",
       "\n",
       "    .dataframe tbody tr th {\n",
       "        vertical-align: top;\n",
       "    }\n",
       "\n",
       "    .dataframe thead th {\n",
       "        text-align: right;\n",
       "    }\n",
       "</style>\n",
       "<table border=\"1\" class=\"dataframe\">\n",
       "  <thead>\n",
       "    <tr style=\"text-align: right;\">\n",
       "      <th></th>\n",
       "      <th>Store</th>\n",
       "      <th>DayOfWeek</th>\n",
       "      <th>Sales</th>\n",
       "      <th>Customers</th>\n",
       "      <th>Open</th>\n",
       "      <th>Promo</th>\n",
       "      <th>StateHoliday</th>\n",
       "      <th>SchoolHoliday</th>\n",
       "      <th>StoreType</th>\n",
       "      <th>Assortment</th>\n",
       "      <th>CompetitionDistance</th>\n",
       "      <th>CompetitionOpenSinceMonth</th>\n",
       "      <th>CompetitionOpenSinceYear</th>\n",
       "      <th>Promo2</th>\n",
       "      <th>Promo2SinceWeek</th>\n",
       "      <th>Promo2SinceYear</th>\n",
       "      <th>PromoInterval</th>\n",
       "      <th>Year</th>\n",
       "      <th>Month</th>\n",
       "    </tr>\n",
       "  </thead>\n",
       "  <tbody>\n",
       "    <tr>\n",
       "      <th>0</th>\n",
       "      <td>1</td>\n",
       "      <td>5</td>\n",
       "      <td>5263</td>\n",
       "      <td>555</td>\n",
       "      <td>1</td>\n",
       "      <td>1</td>\n",
       "      <td>0</td>\n",
       "      <td>1</td>\n",
       "      <td>2</td>\n",
       "      <td>0</td>\n",
       "      <td>1270.0</td>\n",
       "      <td>9.0</td>\n",
       "      <td>2008.0</td>\n",
       "      <td>0</td>\n",
       "      <td>0.0</td>\n",
       "      <td>0.0</td>\n",
       "      <td>0</td>\n",
       "      <td>2015</td>\n",
       "      <td>7</td>\n",
       "    </tr>\n",
       "    <tr>\n",
       "      <th>1</th>\n",
       "      <td>1</td>\n",
       "      <td>4</td>\n",
       "      <td>5020</td>\n",
       "      <td>546</td>\n",
       "      <td>1</td>\n",
       "      <td>1</td>\n",
       "      <td>0</td>\n",
       "      <td>1</td>\n",
       "      <td>2</td>\n",
       "      <td>0</td>\n",
       "      <td>1270.0</td>\n",
       "      <td>9.0</td>\n",
       "      <td>2008.0</td>\n",
       "      <td>0</td>\n",
       "      <td>0.0</td>\n",
       "      <td>0.0</td>\n",
       "      <td>0</td>\n",
       "      <td>2015</td>\n",
       "      <td>7</td>\n",
       "    </tr>\n",
       "    <tr>\n",
       "      <th>2</th>\n",
       "      <td>1</td>\n",
       "      <td>3</td>\n",
       "      <td>4782</td>\n",
       "      <td>523</td>\n",
       "      <td>1</td>\n",
       "      <td>1</td>\n",
       "      <td>0</td>\n",
       "      <td>1</td>\n",
       "      <td>2</td>\n",
       "      <td>0</td>\n",
       "      <td>1270.0</td>\n",
       "      <td>9.0</td>\n",
       "      <td>2008.0</td>\n",
       "      <td>0</td>\n",
       "      <td>0.0</td>\n",
       "      <td>0.0</td>\n",
       "      <td>0</td>\n",
       "      <td>2015</td>\n",
       "      <td>7</td>\n",
       "    </tr>\n",
       "    <tr>\n",
       "      <th>3</th>\n",
       "      <td>1</td>\n",
       "      <td>2</td>\n",
       "      <td>5011</td>\n",
       "      <td>560</td>\n",
       "      <td>1</td>\n",
       "      <td>1</td>\n",
       "      <td>0</td>\n",
       "      <td>1</td>\n",
       "      <td>2</td>\n",
       "      <td>0</td>\n",
       "      <td>1270.0</td>\n",
       "      <td>9.0</td>\n",
       "      <td>2008.0</td>\n",
       "      <td>0</td>\n",
       "      <td>0.0</td>\n",
       "      <td>0.0</td>\n",
       "      <td>0</td>\n",
       "      <td>2015</td>\n",
       "      <td>7</td>\n",
       "    </tr>\n",
       "    <tr>\n",
       "      <th>4</th>\n",
       "      <td>1</td>\n",
       "      <td>1</td>\n",
       "      <td>6102</td>\n",
       "      <td>612</td>\n",
       "      <td>1</td>\n",
       "      <td>1</td>\n",
       "      <td>0</td>\n",
       "      <td>1</td>\n",
       "      <td>2</td>\n",
       "      <td>0</td>\n",
       "      <td>1270.0</td>\n",
       "      <td>9.0</td>\n",
       "      <td>2008.0</td>\n",
       "      <td>0</td>\n",
       "      <td>0.0</td>\n",
       "      <td>0.0</td>\n",
       "      <td>0</td>\n",
       "      <td>2015</td>\n",
       "      <td>7</td>\n",
       "    </tr>\n",
       "  </tbody>\n",
       "</table>\n",
       "</div>"
      ],
      "text/plain": [
       "   Store  DayOfWeek  Sales  Customers  Open  Promo StateHoliday  \\\n",
       "0      1          5   5263        555     1      1            0   \n",
       "1      1          4   5020        546     1      1            0   \n",
       "2      1          3   4782        523     1      1            0   \n",
       "3      1          2   5011        560     1      1            0   \n",
       "4      1          1   6102        612     1      1            0   \n",
       "\n",
       "   SchoolHoliday  StoreType  Assortment  CompetitionDistance  \\\n",
       "0              1          2           0               1270.0   \n",
       "1              1          2           0               1270.0   \n",
       "2              1          2           0               1270.0   \n",
       "3              1          2           0               1270.0   \n",
       "4              1          2           0               1270.0   \n",
       "\n",
       "   CompetitionOpenSinceMonth  CompetitionOpenSinceYear  Promo2  \\\n",
       "0                        9.0                    2008.0       0   \n",
       "1                        9.0                    2008.0       0   \n",
       "2                        9.0                    2008.0       0   \n",
       "3                        9.0                    2008.0       0   \n",
       "4                        9.0                    2008.0       0   \n",
       "\n",
       "   Promo2SinceWeek  Promo2SinceYear PromoInterval  Year  Month  \n",
       "0              0.0              0.0             0  2015      7  \n",
       "1              0.0              0.0             0  2015      7  \n",
       "2              0.0              0.0             0  2015      7  \n",
       "3              0.0              0.0             0  2015      7  \n",
       "4              0.0              0.0             0  2015      7  "
      ]
     },
     "execution_count": 36,
     "metadata": {},
     "output_type": "execute_result"
    }
   ],
   "source": [
    "combined_data.head()"
   ]
  },
  {
   "cell_type": "code",
   "execution_count": 37,
   "id": "5ac043f9",
   "metadata": {},
   "outputs": [],
   "source": [
    "combined_data['StateHoliday'] = pd.to_numeric(combined_data['StateHoliday'])\n",
    "combined_data['PromoInterval'] = pd.to_numeric(combined_data['PromoInterval'])"
   ]
  },
  {
   "cell_type": "code",
   "execution_count": 38,
   "id": "8ad5a553",
   "metadata": {},
   "outputs": [
    {
     "data": {
      "text/plain": [
       "<AxesSubplot:>"
      ]
     },
     "execution_count": 38,
     "metadata": {},
     "output_type": "execute_result"
    },
    {
     "data": {
      "image/png": "[encoded data removed]",
      "text/plain": [
       "<Figure size 1440x720 with 2 Axes>"
      ]
     },
     "metadata": {
      "needs_background": "light"
     },
     "output_type": "display_data"
    }
   ],
   "source": [
    "plt.figure(figsize=(20,10))\n",
    "sns.heatmap(combined_data.corr(),annot=True)"
   ]
  },
  {
   "cell_type": "markdown",
   "id": "52564998",
   "metadata": {},
   "source": [
    "Correlation map shows:\n",
    "\n",
    "Sales is highly correlated with Customers, Open, Promo code\n",
    "\n",
    "Promo code is highly correlated to Promo2SinceWeek, Promo2SinceYear, PromoInterval"
   ]
  },
  {
   "cell_type": "code",
   "execution_count": 39,
   "id": "36e14cad",
   "metadata": {},
   "outputs": [],
   "source": [
    "from sklearn.model_selection import train_test_split\n",
    "from sklearn.metrics import r2_score\n",
    "from sklearn.metrics import mean_squared_error\n",
    "from sklearn.metrics import mean_absolute_error\n",
    "from sklearn.metrics import mean_absolute_percentage_error\n",
    "import math  "
   ]
  },
  {
   "cell_type": "code",
   "execution_count": 40,
   "id": "1230ae13",
   "metadata": {},
   "outputs": [],
   "source": [
    "combined_data_subset = combined_data[combined_data['Open'] == 1]\n",
    "combined_data_subset_closed = combined_data[combined_data['Open'] == 0]\n",
    "x_train, x_test, y_train, y_test_open = train_test_split(combined_data_subset.drop(['Sales','Customers', 'Open'],axis=1),\n",
    "                                                    combined_data_subset['Sales'],test_size=0.20)"
   ]
  },
  {
   "cell_type": "code",
   "execution_count": 41,
   "id": "19fd2f93",
   "metadata": {},
   "outputs": [],
   "source": [
    "epsilon = 1e-10"
   ]
  },
  {
   "cell_type": "markdown",
   "id": "7da2a6b5",
   "metadata": {},
   "source": [
    "## Linear Regression"
   ]
  },
  {
   "cell_type": "code",
   "execution_count": 42,
   "id": "8135f8e2",
   "metadata": {},
   "outputs": [
    {
     "name": "stdout",
     "output_type": "stream",
     "text": [
      "r2_score:  0.7738187652063996\n",
      "Mean absolute error: 1001.59\n",
      "Root mean squared error:  1949.7963220870745\n"
     ]
    }
   ],
   "source": [
    "from sklearn import linear_model\n",
    "\n",
    "reg_model = linear_model.LinearRegression() # making regression model\n",
    "reg_model.fit(x_train, y_train) \n",
    "\n",
    "prediction_open = reg_model.predict(x_test)\n",
    "\n",
    "prediction_closed = np.zeros(combined_data_subset_closed.shape[0])\n",
    "\n",
    "prediction = np.append(prediction_open, prediction_closed)\n",
    "\n",
    "y_test = np.append(y_test_open, np.zeros(combined_data_subset_closed.shape[0]))\n",
    "\n",
    "print(\"r2_score: \",r2_score(y_test,prediction))\n",
    "print(\"Mean absolute error: %.2f\" % mean_absolute_error(y_test,prediction))\n",
    "print(\"Root mean squared error: \", math.sqrt(mean_squared_error(y_test,prediction)))"
   ]
  },
  {
   "cell_type": "code",
   "execution_count": 43,
   "id": "0f9b68f5",
   "metadata": {},
   "outputs": [
    {
     "data": {
      "image/png": "[encoded data removed]",
      "text/plain": [
       "<Figure size 720x720 with 1 Axes>"
      ]
     },
     "metadata": {
      "needs_background": "light"
     },
     "output_type": "display_data"
    }
   ],
   "source": [
    "plt.figure(figsize=(10,10))\n",
    "plt.scatter(y_test,prediction, c='crimson')\n",
    "\n",
    "p1 = max(max(prediction), max(y_test))\n",
    "p2 = min(min(prediction), min(y_test))\n",
    "plt.plot([p1, p2], [p1, p2], 'b-')\n",
    "plt.xlabel('True Values', fontsize=15)\n",
    "plt.ylabel('Predictions', fontsize=15)\n",
    "plt.axis('equal')\n",
    "plt.show()"
   ]
  }
 ],
 "metadata": {
  "kernelspec": {
   "display_name": "Python 3 (ipykernel)",
   "language": "python",
   "name": "python3"
  },
  "language_info": {
   "codemirror_mode": {
    "name": "ipython",
    "version": 3
   },
   "file_extension": ".py",
   "mimetype": "text/x-python",
   "name": "python",
   "nbconvert_exporter": "python",
   "pygments_lexer": "ipython3",
   "version": "3.9.7"
  }
 },
 "nbformat": 4,
 "nbformat_minor": 5
}
