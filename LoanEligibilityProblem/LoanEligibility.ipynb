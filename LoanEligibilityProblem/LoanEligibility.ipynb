{
 "cells": [
  {
   "cell_type": "code",
   "execution_count": 16,
   "id": "cb322b1b",
   "metadata": {},
   "outputs": [],
   "source": [
    "import numpy as np\n",
    "import pandas as pd\n",
    "import seaborn as sns\n",
    "from matplotlib import pyplot as plt\n",
    "import statistics\n",
    "from sklearn.model_selection import train_test_split,GridSearchCV,cross_val_score\n",
    "from sklearn.preprocessing import LabelBinarizer,StandardScaler,OrdinalEncoder\n",
    "from sklearn.metrics import confusion_matrix\n",
    "from sklearn.metrics import roc_auc_score\n",
    "from sklearn.metrics import roc_curve\n",
    "from scipy.stats import boxcox\n",
    "from sklearn.linear_model import LogisticRegression,RidgeClassifier,PassiveAggressiveClassifier\n",
    "from sklearn import metrics\n",
    "from sklearn import preprocessing\n",
    "from sklearn.ensemble import RandomForestClassifier,GradientBoostingClassifier\n",
    "from xgboost import plot_importance\n",
    "from sklearn.naive_bayes import BernoulliNB\n",
    "from sklearn.neighbors import KNeighborsClassifier\n",
    "from sklearn.svm import LinearSVC\n",
    "from sklearn.tree import DecisionTreeClassifier\n",
    "from xgboost import XGBClassifier\n",
    "import joblib\n",
    "%matplotlib inline"
   ]
  },
  {
   "cell_type": "code",
   "execution_count": 2,
   "id": "7af234eb",
   "metadata": {},
   "outputs": [],
   "source": [
    "import warnings\n",
    "warnings.filterwarnings('ignore')"
   ]
  },
  {
   "cell_type": "code",
   "execution_count": 4,
   "id": "581e1ea6",
   "metadata": {},
   "outputs": [],
   "source": [
    "from fancyimpute import KNN,SoftImpute"
   ]
  },
  {
   "cell_type": "code",
   "execution_count": 7,
   "id": "1dc603e2",
   "metadata": {},
   "outputs": [],
   "source": [
    "data=pd.read_csv('LoansTrainingSetV2.csv',low_memory=False)"
   ]
  },
  {
   "cell_type": "code",
   "execution_count": 9,
   "id": "9a9dac94",
   "metadata": {},
   "outputs": [
    {
     "data": {
      "text/plain": [
       "(111107, 19)"
      ]
     },
     "execution_count": 9,
     "metadata": {},
     "output_type": "execute_result"
    }
   ],
   "source": [
    "data.shape"
   ]
  },
  {
   "cell_type": "code",
   "execution_count": 10,
   "id": "b29daf81",
   "metadata": {},
   "outputs": [
    {
     "data": {
      "text/plain": [
       "Index(['Loan ID', 'Customer ID', 'Loan Status', 'Current Loan Amount', 'Term',\n",
       "       'Credit Score', 'Years in current job', 'Home Ownership',\n",
       "       'Annual Income', 'Purpose', 'Monthly Debt', 'Years of Credit History',\n",
       "       'Months since last delinquent', 'Number of Open Accounts',\n",
       "       'Number of Credit Problems', 'Current Credit Balance',\n",
       "       'Maximum Open Credit', 'Bankruptcies', 'Tax Liens'],\n",
       "      dtype='object')"
      ]
     },
     "execution_count": 10,
     "metadata": {},
     "output_type": "execute_result"
    }
   ],
   "source": [
    "data.columns"
   ]
  },
  {
   "cell_type": "code",
   "execution_count": 8,
   "id": "6013be7a",
   "metadata": {},
   "outputs": [
    {
     "data": {
      "text/html": [
       "<div>\n",
       "<style scoped>\n",
       "    .dataframe tbody tr th:only-of-type {\n",
       "        vertical-align: middle;\n",
       "    }\n",
       "\n",
       "    .dataframe tbody tr th {\n",
       "        vertical-align: top;\n",
       "    }\n",
       "\n",
       "    .dataframe thead th {\n",
       "        text-align: right;\n",
       "    }\n",
       "</style>\n",
       "<table border=\"1\" class=\"dataframe\">\n",
       "  <thead>\n",
       "    <tr style=\"text-align: right;\">\n",
       "      <th></th>\n",
       "      <th>Loan ID</th>\n",
       "      <th>Customer ID</th>\n",
       "      <th>Loan Status</th>\n",
       "      <th>Current Loan Amount</th>\n",
       "      <th>Term</th>\n",
       "      <th>Credit Score</th>\n",
       "      <th>Years in current job</th>\n",
       "      <th>Home Ownership</th>\n",
       "      <th>Annual Income</th>\n",
       "      <th>Purpose</th>\n",
       "      <th>Monthly Debt</th>\n",
       "      <th>Years of Credit History</th>\n",
       "      <th>Months since last delinquent</th>\n",
       "      <th>Number of Open Accounts</th>\n",
       "      <th>Number of Credit Problems</th>\n",
       "      <th>Current Credit Balance</th>\n",
       "      <th>Maximum Open Credit</th>\n",
       "      <th>Bankruptcies</th>\n",
       "      <th>Tax Liens</th>\n",
       "    </tr>\n",
       "  </thead>\n",
       "  <tbody>\n",
       "    <tr>\n",
       "      <th>111102</th>\n",
       "      <td>503f01e2-c3c4-4b10-886e-f15de57b6f1a</td>\n",
       "      <td>27a17610-1d8c-48a7-b0db-2d81a4fa099a</td>\n",
       "      <td>Loan Given</td>\n",
       "      <td>15654</td>\n",
       "      <td>Long Term</td>\n",
       "      <td>686.0</td>\n",
       "      <td>10+ years</td>\n",
       "      <td>Rent</td>\n",
       "      <td>43050.0</td>\n",
       "      <td>Debt Consolidation</td>\n",
       "      <td>889.69</td>\n",
       "      <td>14.1</td>\n",
       "      <td>49.0</td>\n",
       "      <td>18</td>\n",
       "      <td>0</td>\n",
       "      <td>14730</td>\n",
       "      <td>29757</td>\n",
       "      <td>0.0</td>\n",
       "      <td>0.0</td>\n",
       "    </tr>\n",
       "    <tr>\n",
       "      <th>111103</th>\n",
       "      <td>8af53bc0-56a4-4801-a960-52a46a90b33f</td>\n",
       "      <td>c124ca71-f42a-47cc-8ec2-236f7e9868a5</td>\n",
       "      <td>Loan Given</td>\n",
       "      <td>15237</td>\n",
       "      <td>Short Term</td>\n",
       "      <td>706.0</td>\n",
       "      <td>10+ years</td>\n",
       "      <td>Home Mortgage</td>\n",
       "      <td>60948.0</td>\n",
       "      <td>Debt Consolidation</td>\n",
       "      <td>700.9</td>\n",
       "      <td>15.9</td>\n",
       "      <td>48.0</td>\n",
       "      <td>11</td>\n",
       "      <td>0</td>\n",
       "      <td>17733</td>\n",
       "      <td>23060</td>\n",
       "      <td>0.0</td>\n",
       "      <td>0.0</td>\n",
       "    </tr>\n",
       "    <tr>\n",
       "      <th>111104</th>\n",
       "      <td>96efd327-f965-42ae-8b2b-d2555205ce19</td>\n",
       "      <td>7d959a54-8eeb-4df6-b582-046f889e4cff</td>\n",
       "      <td>Loan Given</td>\n",
       "      <td>10413</td>\n",
       "      <td>Short Term</td>\n",
       "      <td>719.0</td>\n",
       "      <td>5 years</td>\n",
       "      <td>Home Mortgage</td>\n",
       "      <td>66945.0</td>\n",
       "      <td>Debt Consolidation</td>\n",
       "      <td>1210.59</td>\n",
       "      <td>8.7</td>\n",
       "      <td>NaN</td>\n",
       "      <td>11</td>\n",
       "      <td>0</td>\n",
       "      <td>5205</td>\n",
       "      <td>6348</td>\n",
       "      <td>0.0</td>\n",
       "      <td>0.0</td>\n",
       "    </tr>\n",
       "    <tr>\n",
       "      <th>111105</th>\n",
       "      <td>ec19166c-70c5-4d49-adb6-fb3fc15024a2</td>\n",
       "      <td>5723fbf2-1ce8-4752-8bee-1bebf339f278</td>\n",
       "      <td>Loan Given</td>\n",
       "      <td>34447</td>\n",
       "      <td>Short Term</td>\n",
       "      <td>626.0</td>\n",
       "      <td>10+ years</td>\n",
       "      <td>Home Mortgage</td>\n",
       "      <td>78736.0</td>\n",
       "      <td>Debt Consolidation</td>\n",
       "      <td>1476.3</td>\n",
       "      <td>30.4</td>\n",
       "      <td>9.0</td>\n",
       "      <td>12</td>\n",
       "      <td>0</td>\n",
       "      <td>32318</td>\n",
       "      <td>37580</td>\n",
       "      <td>0.0</td>\n",
       "      <td>0.0</td>\n",
       "    </tr>\n",
       "    <tr>\n",
       "      <th>111106</th>\n",
       "      <td>f83ae0e1-bd30-46c7-9f72-f4f9fe2f36ca</td>\n",
       "      <td>74187e35-39c2-4010-ae0d-8bcd0544189e</td>\n",
       "      <td>Loan Given</td>\n",
       "      <td>9209</td>\n",
       "      <td>Long Term</td>\n",
       "      <td>708.0</td>\n",
       "      <td>&lt; 1 year</td>\n",
       "      <td>Own Home</td>\n",
       "      <td>123454.0</td>\n",
       "      <td>Debt Consolidation</td>\n",
       "      <td>668.71</td>\n",
       "      <td>20.1</td>\n",
       "      <td>16.0</td>\n",
       "      <td>8</td>\n",
       "      <td>0</td>\n",
       "      <td>6835</td>\n",
       "      <td>9261</td>\n",
       "      <td>0.0</td>\n",
       "      <td>0.0</td>\n",
       "    </tr>\n",
       "  </tbody>\n",
       "</table>\n",
       "</div>"
      ],
      "text/plain": [
       "                                     Loan ID  \\\n",
       "111102  503f01e2-c3c4-4b10-886e-f15de57b6f1a   \n",
       "111103  8af53bc0-56a4-4801-a960-52a46a90b33f   \n",
       "111104  96efd327-f965-42ae-8b2b-d2555205ce19   \n",
       "111105  ec19166c-70c5-4d49-adb6-fb3fc15024a2   \n",
       "111106  f83ae0e1-bd30-46c7-9f72-f4f9fe2f36ca   \n",
       "\n",
       "                                 Customer ID Loan Status  Current Loan Amount  \\\n",
       "111102  27a17610-1d8c-48a7-b0db-2d81a4fa099a  Loan Given                15654   \n",
       "111103  c124ca71-f42a-47cc-8ec2-236f7e9868a5  Loan Given                15237   \n",
       "111104  7d959a54-8eeb-4df6-b582-046f889e4cff  Loan Given                10413   \n",
       "111105  5723fbf2-1ce8-4752-8bee-1bebf339f278  Loan Given                34447   \n",
       "111106  74187e35-39c2-4010-ae0d-8bcd0544189e  Loan Given                 9209   \n",
       "\n",
       "              Term  Credit Score Years in current job Home Ownership  \\\n",
       "111102   Long Term         686.0            10+ years           Rent   \n",
       "111103  Short Term         706.0            10+ years  Home Mortgage   \n",
       "111104  Short Term         719.0              5 years  Home Mortgage   \n",
       "111105  Short Term         626.0            10+ years  Home Mortgage   \n",
       "111106   Long Term         708.0             < 1 year       Own Home   \n",
       "\n",
       "        Annual Income             Purpose Monthly Debt  \\\n",
       "111102        43050.0  Debt Consolidation       889.69   \n",
       "111103        60948.0  Debt Consolidation        700.9   \n",
       "111104        66945.0  Debt Consolidation      1210.59   \n",
       "111105        78736.0  Debt Consolidation       1476.3   \n",
       "111106       123454.0  Debt Consolidation       668.71   \n",
       "\n",
       "        Years of Credit History  Months since last delinquent  \\\n",
       "111102                     14.1                          49.0   \n",
       "111103                     15.9                          48.0   \n",
       "111104                      8.7                           NaN   \n",
       "111105                     30.4                           9.0   \n",
       "111106                     20.1                          16.0   \n",
       "\n",
       "        Number of Open Accounts  Number of Credit Problems  \\\n",
       "111102                       18                          0   \n",
       "111103                       11                          0   \n",
       "111104                       11                          0   \n",
       "111105                       12                          0   \n",
       "111106                        8                          0   \n",
       "\n",
       "        Current Credit Balance Maximum Open Credit  Bankruptcies  Tax Liens  \n",
       "111102                   14730               29757           0.0        0.0  \n",
       "111103                   17733               23060           0.0        0.0  \n",
       "111104                    5205                6348           0.0        0.0  \n",
       "111105                   32318               37580           0.0        0.0  \n",
       "111106                    6835                9261           0.0        0.0  "
      ]
     },
     "execution_count": 8,
     "metadata": {},
     "output_type": "execute_result"
    }
   ],
   "source": [
    "data.tail()"
   ]
  },
  {
   "cell_type": "code",
   "execution_count": 9,
   "id": "7c2730fe",
   "metadata": {},
   "outputs": [
    {
     "data": {
      "text/plain": [
       "<AxesSubplot:xlabel='Loan Status', ylabel='count'>"
      ]
     },
     "execution_count": 9,
     "metadata": {},
     "output_type": "execute_result"
    },
    {
     "data": {
      "image/png": "[encoded data removed]",
      "text/plain": [
       "<Figure size 432x288 with 1 Axes>"
      ]
     },
     "metadata": {
      "needs_background": "light"
     },
     "output_type": "display_data"
    }
   ],
   "source": [
    "sns.countplot(data['Loan Status'])"
   ]
  },
  {
   "cell_type": "code",
   "execution_count": 10,
   "id": "3b1b5e7a",
   "metadata": {},
   "outputs": [
    {
     "data": {
      "text/html": [
       "<div>\n",
       "<style scoped>\n",
       "    .dataframe tbody tr th:only-of-type {\n",
       "        vertical-align: middle;\n",
       "    }\n",
       "\n",
       "    .dataframe tbody tr th {\n",
       "        vertical-align: top;\n",
       "    }\n",
       "\n",
       "    .dataframe thead th {\n",
       "        text-align: right;\n",
       "    }\n",
       "</style>\n",
       "<table border=\"1\" class=\"dataframe\">\n",
       "  <thead>\n",
       "    <tr style=\"text-align: right;\">\n",
       "      <th></th>\n",
       "      <th>Current Loan Amount</th>\n",
       "      <th>Credit Score</th>\n",
       "      <th>Annual Income</th>\n",
       "      <th>Years of Credit History</th>\n",
       "      <th>Months since last delinquent</th>\n",
       "      <th>Number of Open Accounts</th>\n",
       "      <th>Number of Credit Problems</th>\n",
       "      <th>Current Credit Balance</th>\n",
       "      <th>Bankruptcies</th>\n",
       "      <th>Tax Liens</th>\n",
       "    </tr>\n",
       "  </thead>\n",
       "  <tbody>\n",
       "    <tr>\n",
       "      <th>count</th>\n",
       "      <td>1.111070e+05</td>\n",
       "      <td>89769.000000</td>\n",
       "      <td>8.976900e+04</td>\n",
       "      <td>111107.000000</td>\n",
       "      <td>52104.000000</td>\n",
       "      <td>111107.000000</td>\n",
       "      <td>111107.000000</td>\n",
       "      <td>1.111070e+05</td>\n",
       "      <td>110879.00000</td>\n",
       "      <td>111096.000000</td>\n",
       "    </tr>\n",
       "    <tr>\n",
       "      <th>mean</th>\n",
       "      <td>1.147718e+07</td>\n",
       "      <td>1075.795029</td>\n",
       "      <td>7.248600e+04</td>\n",
       "      <td>18.201003</td>\n",
       "      <td>34.902272</td>\n",
       "      <td>11.125105</td>\n",
       "      <td>0.168027</td>\n",
       "      <td>1.548314e+04</td>\n",
       "      <td>0.11766</td>\n",
       "      <td>0.029353</td>\n",
       "    </tr>\n",
       "    <tr>\n",
       "      <th>std</th>\n",
       "      <td>3.185508e+07</td>\n",
       "      <td>1474.133505</td>\n",
       "      <td>5.593094e+04</td>\n",
       "      <td>7.014495</td>\n",
       "      <td>21.970696</td>\n",
       "      <td>5.010267</td>\n",
       "      <td>0.484212</td>\n",
       "      <td>1.982115e+04</td>\n",
       "      <td>0.35142</td>\n",
       "      <td>0.260575</td>\n",
       "    </tr>\n",
       "    <tr>\n",
       "      <th>min</th>\n",
       "      <td>4.910000e+02</td>\n",
       "      <td>585.000000</td>\n",
       "      <td>4.033000e+03</td>\n",
       "      <td>3.600000</td>\n",
       "      <td>0.000000</td>\n",
       "      <td>0.000000</td>\n",
       "      <td>0.000000</td>\n",
       "      <td>0.000000e+00</td>\n",
       "      <td>0.00000</td>\n",
       "      <td>0.000000</td>\n",
       "    </tr>\n",
       "    <tr>\n",
       "      <th>25%</th>\n",
       "      <td>8.162000e+03</td>\n",
       "      <td>705.000000</td>\n",
       "      <td>4.468800e+04</td>\n",
       "      <td>13.500000</td>\n",
       "      <td>16.000000</td>\n",
       "      <td>8.000000</td>\n",
       "      <td>0.000000</td>\n",
       "      <td>5.905000e+03</td>\n",
       "      <td>0.00000</td>\n",
       "      <td>0.000000</td>\n",
       "    </tr>\n",
       "    <tr>\n",
       "      <th>50%</th>\n",
       "      <td>1.418300e+04</td>\n",
       "      <td>724.000000</td>\n",
       "      <td>6.175200e+04</td>\n",
       "      <td>16.900000</td>\n",
       "      <td>32.000000</td>\n",
       "      <td>10.000000</td>\n",
       "      <td>0.000000</td>\n",
       "      <td>1.102700e+04</td>\n",
       "      <td>0.00000</td>\n",
       "      <td>0.000000</td>\n",
       "    </tr>\n",
       "    <tr>\n",
       "      <th>75%</th>\n",
       "      <td>2.382200e+04</td>\n",
       "      <td>741.000000</td>\n",
       "      <td>8.688700e+04</td>\n",
       "      <td>21.700000</td>\n",
       "      <td>51.000000</td>\n",
       "      <td>14.000000</td>\n",
       "      <td>0.000000</td>\n",
       "      <td>1.933800e+04</td>\n",
       "      <td>0.00000</td>\n",
       "      <td>0.000000</td>\n",
       "    </tr>\n",
       "    <tr>\n",
       "      <th>max</th>\n",
       "      <td>1.000000e+08</td>\n",
       "      <td>7510.000000</td>\n",
       "      <td>8.713547e+06</td>\n",
       "      <td>70.500000</td>\n",
       "      <td>176.000000</td>\n",
       "      <td>76.000000</td>\n",
       "      <td>15.000000</td>\n",
       "      <td>1.730472e+06</td>\n",
       "      <td>7.00000</td>\n",
       "      <td>15.000000</td>\n",
       "    </tr>\n",
       "  </tbody>\n",
       "</table>\n",
       "</div>"
      ],
      "text/plain": [
       "       Current Loan Amount  Credit Score  Annual Income  \\\n",
       "count         1.111070e+05  89769.000000   8.976900e+04   \n",
       "mean          1.147718e+07   1075.795029   7.248600e+04   \n",
       "std           3.185508e+07   1474.133505   5.593094e+04   \n",
       "min           4.910000e+02    585.000000   4.033000e+03   \n",
       "25%           8.162000e+03    705.000000   4.468800e+04   \n",
       "50%           1.418300e+04    724.000000   6.175200e+04   \n",
       "75%           2.382200e+04    741.000000   8.688700e+04   \n",
       "max           1.000000e+08   7510.000000   8.713547e+06   \n",
       "\n",
       "       Years of Credit History  Months since last delinquent  \\\n",
       "count            111107.000000                  52104.000000   \n",
       "mean                 18.201003                     34.902272   \n",
       "std                   7.014495                     21.970696   \n",
       "min                   3.600000                      0.000000   \n",
       "25%                  13.500000                     16.000000   \n",
       "50%                  16.900000                     32.000000   \n",
       "75%                  21.700000                     51.000000   \n",
       "max                  70.500000                    176.000000   \n",
       "\n",
       "       Number of Open Accounts  Number of Credit Problems  \\\n",
       "count            111107.000000              111107.000000   \n",
       "mean                 11.125105                   0.168027   \n",
       "std                   5.010267                   0.484212   \n",
       "min                   0.000000                   0.000000   \n",
       "25%                   8.000000                   0.000000   \n",
       "50%                  10.000000                   0.000000   \n",
       "75%                  14.000000                   0.000000   \n",
       "max                  76.000000                  15.000000   \n",
       "\n",
       "       Current Credit Balance  Bankruptcies      Tax Liens  \n",
       "count            1.111070e+05  110879.00000  111096.000000  \n",
       "mean             1.548314e+04       0.11766       0.029353  \n",
       "std              1.982115e+04       0.35142       0.260575  \n",
       "min              0.000000e+00       0.00000       0.000000  \n",
       "25%              5.905000e+03       0.00000       0.000000  \n",
       "50%              1.102700e+04       0.00000       0.000000  \n",
       "75%              1.933800e+04       0.00000       0.000000  \n",
       "max              1.730472e+06       7.00000      15.000000  "
      ]
     },
     "execution_count": 10,
     "metadata": {},
     "output_type": "execute_result"
    }
   ],
   "source": [
    "data.describe()"
   ]
  },
  {
   "cell_type": "code",
   "execution_count": 11,
   "id": "497ae8d7",
   "metadata": {},
   "outputs": [
    {
     "data": {
      "text/plain": [
       "Loan ID                             0\n",
       "Customer ID                         0\n",
       "Loan Status                         0\n",
       "Current Loan Amount                 0\n",
       "Term                                0\n",
       "Credit Score                    21338\n",
       "Years in current job             4693\n",
       "Home Ownership                      0\n",
       "Annual Income                   21338\n",
       "Purpose                             0\n",
       "Monthly Debt                        0\n",
       "Years of Credit History             0\n",
       "Months since last delinquent    59003\n",
       "Number of Open Accounts             0\n",
       "Number of Credit Problems           0\n",
       "Current Credit Balance              0\n",
       "Maximum Open Credit                 0\n",
       "Bankruptcies                      228\n",
       "Tax Liens                          11\n",
       "dtype: int64"
      ]
     },
     "execution_count": 11,
     "metadata": {},
     "output_type": "execute_result"
    }
   ],
   "source": [
    "data.isna().sum()"
   ]
  },
  {
   "cell_type": "markdown",
   "id": "4fb337f8",
   "metadata": {},
   "source": [
    "Loan status is the label(outcome whether loan is granted or not)."
   ]
  },
  {
   "cell_type": "code",
   "execution_count": 11,
   "id": "a5251ad6",
   "metadata": {},
   "outputs": [],
   "source": [
    "#Loan ID is the primary key-keep first record for a particular loan id,inplace-dataframe gets over written\n",
    "data.drop_duplicates(subset='Loan ID',keep='first',inplace=True)"
   ]
  },
  {
   "cell_type": "code",
   "execution_count": 12,
   "id": "a238e6aa",
   "metadata": {},
   "outputs": [
    {
     "data": {
      "text/plain": [
       "(88910, 19)"
      ]
     },
     "execution_count": 12,
     "metadata": {},
     "output_type": "execute_result"
    }
   ],
   "source": [
    "data.shape"
   ]
  },
  {
   "cell_type": "code",
   "execution_count": 14,
   "id": "685cc285",
   "metadata": {},
   "outputs": [],
   "source": [
    "status=data['Loan Status'].value_counts()"
   ]
  },
  {
   "cell_type": "code",
   "execution_count": 18,
   "id": "e5d434c0",
   "metadata": {},
   "outputs": [
    {
     "data": {
      "image/png": "[encoded data removed]",
      "text/plain": [
       "<Figure size 720x360 with 1 Axes>"
      ]
     },
     "metadata": {
      "needs_background": "light"
     },
     "output_type": "display_data"
    }
   ],
   "source": [
    "plt.figure(figsize=(10,5))\n",
    "sns.barplot(status.index,status.values,alpha=0.8)\n",
    "plt.title('Loan status distribution')\n",
    "plt.ylabel('Number of occurences',fontsize=12)\n",
    "plt.xlabel('Loan Satus')\n",
    "plt.show()"
   ]
  },
  {
   "cell_type": "code",
   "execution_count": 19,
   "id": "a2ec214b",
   "metadata": {},
   "outputs": [
    {
     "data": {
      "text/plain": [
       "count    8.891000e+04\n",
       "mean     1.433878e+07\n",
       "std      3.502996e+07\n",
       "min      4.910000e+02\n",
       "25%      8.283000e+03\n",
       "50%      1.435500e+04\n",
       "75%      2.448500e+04\n",
       "max      1.000000e+08\n",
       "Name: Current Loan Amount, dtype: float64"
      ]
     },
     "execution_count": 19,
     "metadata": {},
     "output_type": "execute_result"
    }
   ],
   "source": [
    "data['Current Loan Amount'].describe()"
   ]
  },
  {
   "cell_type": "code",
   "execution_count": 20,
   "id": "c68d6bee",
   "metadata": {},
   "outputs": [
    {
     "data": {
      "text/plain": [
       "<AxesSubplot:ylabel='Frequency'>"
      ]
     },
     "execution_count": 20,
     "metadata": {},
     "output_type": "execute_result"
    },
    {
     "data": {
      "image/png": "[encoded data removed]",
      "text/plain": [
       "<Figure size 432x288 with 1 Axes>"
      ]
     },
     "metadata": {
      "needs_background": "light"
     },
     "output_type": "display_data"
    }
   ],
   "source": [
    "data['Current Loan Amount'].plot.hist(grid=True,bins=20)"
   ]
  },
  {
   "cell_type": "code",
   "execution_count": 21,
   "id": "5fcd04ce",
   "metadata": {},
   "outputs": [
    {
     "data": {
      "text/plain": [
       "array([ 8283., 24485.])"
      ]
     },
     "execution_count": 21,
     "metadata": {},
     "output_type": "execute_result"
    }
   ],
   "source": [
    "np.percentile(data['Current Loan Amount'],q=[25,75])"
   ]
  }
 ],
 "metadata": {
  "kernelspec": {
   "display_name": "Python 3 (ipykernel)",
   "language": "python",
   "name": "python3"
  },
  "language_info": {
   "codemirror_mode": {
    "name": "ipython",
    "version": 3
   },
   "file_extension": ".py",
   "mimetype": "text/x-python",
   "name": "python",
   "nbconvert_exporter": "python",
   "pygments_lexer": "ipython3",
   "version": "3.9.7"
  }
 },
 "nbformat": 4,
 "nbformat_minor": 5
}
